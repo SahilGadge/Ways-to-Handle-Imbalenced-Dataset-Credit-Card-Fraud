{
  "cells": [
    {
      "cell_type": "markdown",
      "metadata": {
        "id": "view-in-github",
        "colab_type": "text"
      },
      "source": [
        "<a href=\"https://colab.research.google.com/github/SahilGadge/Ways-to-Handle-Imbalenced-Dataset-Credit-Card-Fraud/blob/main/Handling_Imbalanced_Dataset.ipynb\" target=\"_parent\"><img src=\"https://colab.research.google.com/assets/colab-badge.svg\" alt=\"Open In Colab\"/></a>"
      ]
    },
    {
      "cell_type": "markdown",
      "metadata": {
        "id": "4NvrrBIluwMq"
      },
      "source": [
        "# **Handling Imbalanced Dataset**\n",
        "\n",
        "Name : Sahil Sanjay Gadge.\n",
        "\n"
      ]
    },
    {
      "cell_type": "markdown",
      "metadata": {
        "id": "VCepn5ERj7x6"
      },
      "source": [
        "\n",
        "\n",
        "---\n",
        "\n"
      ]
    },
    {
      "cell_type": "markdown",
      "metadata": {
        "id": "rU_H0L9ru0gw"
      },
      "source": [
        "## **Abstract**"
      ]
    },
    {
      "cell_type": "markdown",
      "metadata": {
        "id": "4cJUTYCjsnr6"
      },
      "source": [
        "\n",
        "\n",
        "> #### **Imbalanced data is one of the major problem in the area of machine learning. This problem can be solved by analyzing the dataset in hand. There are several approaches that will help us to handle the problem of imbalanced classes. These are oversampling, undersampling, synthetic data generation (SMOTE), adaptive synthetic technique and ensemble methods. These methods are discussed in the sections below.**\n",
        "\n"
      ]
    },
    {
      "cell_type": "markdown",
      "metadata": {
        "id": "-FeywSHlSW1I"
      },
      "source": [
        "\n",
        "\n",
        "---\n",
        "\n"
      ]
    },
    {
      "cell_type": "markdown",
      "metadata": {
        "id": "4lGWId-1TaP0"
      },
      "source": [
        "## **Introductions**"
      ]
    },
    {
      "cell_type": "markdown",
      "metadata": {
        "id": "ZK38DSciTe4_"
      },
      "source": [
        "\n",
        "\n",
        "> Any real world dataset may come along with several problems. The problem of imbalanced classes is one of them. The problem of imbalanced classes arises when one set of classes dominate over another set of classes. The former is called majority class while the latter is called minority class. It causes the machine learning model to be more biased towards majority class. It causes poor classification of minority classes. Hence, this problem throw the question of \"accuracy\" out of question. This is a very common problem in machine learning where we have datasets with a disproportionate ratio of observations in each class.\n",
        "\n",
        "> Imbalanced classes problem is one of the major problems in the field of data science and machine learning. It is very important that we should properly deal with this problem and develop our machine learning model accordingly. If this not done, then we may end up with higher accuracy. But this higher accuracy is meaningless because it comes from a meaningless metric which is not suitable for the dataset in question. Hence, this higher accuracy no longer reliably measures model performance.\n",
        "\n",
        "\n",
        "\n"
      ]
    },
    {
      "cell_type": "markdown",
      "metadata": {
        "id": "xRGXKCJ6Tvjj"
      },
      "source": [
        "\n",
        "\n",
        "---\n",
        "\n"
      ]
    },
    {
      "cell_type": "markdown",
      "metadata": {
        "id": "Df_2jwkkT6kS"
      },
      "source": [
        "## **Problems with imbalanced learning**"
      ]
    },
    {
      "cell_type": "markdown",
      "metadata": {
        "id": "wU8hm7LmT_Xh"
      },
      "source": [
        "\n",
        "\n",
        "> The problem of imbalanced classes is very common and it is bound to happen. For example, in the above example the number of patients who do not have the rare disease is much larger than the number of patients who have the rare disease. So, the model does not correctly classify the patients who have the rare disease. This is where the problem arises.\n",
        "\n",
        "Significant problems may arise with imbalanced learning. These are as follows:-\n",
        "\n",
        "\n",
        "1.   The class distribution is skewed when the dataset has underrepresented data.\n",
        "2.   The high level of accuracy is simply misleading. In the previous example, it is high because most patients do not have the disease not because of the good model.\n",
        "3. There may be inherent complex characteristics in the dataset. Imbalanced learning from such dataset requires new approaches, principles, tools and techniques. But, it cannot guarantee an efficient solution to the business problem.\n",
        "\n",
        "\n",
        "\n",
        "\n"
      ]
    },
    {
      "cell_type": "markdown",
      "metadata": {
        "id": "cjb8YwvvUc-L"
      },
      "source": [
        "## **Example of imbalanced classes**\n",
        "\n",
        "\n",
        "*   Fraud detection\n",
        "\n",
        "*   Disease detection\n",
        "*   Earthquake prediction\n",
        "\n",
        "\n"
      ]
    },
    {
      "cell_type": "markdown",
      "metadata": {
        "id": "vx_ntxmL52Sm"
      },
      "source": [
        "## **Data**"
      ]
    },
    {
      "cell_type": "markdown",
      "metadata": {
        "id": "oJKWgXFyIdjb"
      },
      "source": [
        "### **Data Import**"
      ]
    },
    {
      "cell_type": "code",
      "execution_count": null,
      "metadata": {
        "colab": {
          "base_uri": "https://localhost:8080/"
        },
        "id": "UKH60u0n5eF0",
        "outputId": "22f329d5-83f9-4f6e-e13c-dca989863745"
      },
      "outputs": [
        {
          "output_type": "stream",
          "name": "stdout",
          "text": [
            "Drive already mounted at /content/gdrive; to attempt to forcibly remount, call drive.mount(\"/content/gdrive\", force_remount=True).\n"
          ]
        }
      ],
      "source": [
        "from google.colab import drive\n",
        "drive.mount('/content/gdrive')"
      ]
    },
    {
      "cell_type": "code",
      "execution_count": null,
      "metadata": {
        "id": "d1wjJxJT-tAb"
      },
      "outputs": [],
      "source": [
        "import numpy as np # linear algebra\n",
        "import pandas as pd # data processing, CSV file I/O (e.g. pd.read_csv)\n",
        "#import tensorflow as tf\n",
        "import matplotlib.pyplot as plt\n",
        "import seaborn as sns\n",
        "from sklearn.manifold import TSNE\n",
        "from sklearn.decomposition import PCA, TruncatedSVD\n",
        "import matplotlib.patches as mpatches\n",
        "import time\n",
        "\n",
        "# Classifier Libraries\n",
        "from sklearn.linear_model import LogisticRegression\n",
        "from sklearn.svm import SVC\n",
        "from sklearn.neighbors import KNeighborsClassifier\n",
        "from sklearn.tree import DecisionTreeClassifier\n",
        "from sklearn.ensemble import RandomForestClassifier\n",
        "import collections\n",
        "\n",
        "\n",
        "# Other Libraries\n",
        "from sklearn.model_selection import train_test_split\n",
        "from sklearn.pipeline import make_pipeline\n",
        "from imblearn.pipeline import make_pipeline as imbalanced_make_pipeline\n",
        "from imblearn.over_sampling import SMOTE\n",
        "from imblearn.under_sampling import NearMiss\n",
        "from imblearn.metrics import classification_report_imbalanced\n",
        "from sklearn.metrics import precision_score, recall_score, f1_score, roc_auc_score, accuracy_score, classification_report\n",
        "from collections import Counter\n",
        "from sklearn.model_selection import KFold, StratifiedKFold\n",
        "import warnings\n",
        "warnings.filterwarnings(\"ignore\")\n",
        "\n",
        "df=pd.read_csv('gdrive/My Drive/Kaggle/CreditCard/creditcard.csv')"
      ]
    },
    {
      "cell_type": "markdown",
      "metadata": {
        "id": "1u6NnPDHIr6c"
      },
      "source": [
        "### **Data Checking**"
      ]
    },
    {
      "cell_type": "code",
      "execution_count": null,
      "metadata": {
        "colab": {
          "base_uri": "https://localhost:8080/"
        },
        "id": "hK4eCmLa_Oxa",
        "outputId": "7ab152cb-e77a-4dd8-986a-195028704b34"
      },
      "outputs": [
        {
          "output_type": "stream",
          "name": "stdout",
          "text": [
            "<class 'pandas.core.frame.DataFrame'>\n",
            "RangeIndex: 284807 entries, 0 to 284806\n",
            "Data columns (total 31 columns):\n",
            " #   Column  Non-Null Count   Dtype  \n",
            "---  ------  --------------   -----  \n",
            " 0   Time    284807 non-null  float64\n",
            " 1   V1      284807 non-null  float64\n",
            " 2   V2      284807 non-null  float64\n",
            " 3   V3      284807 non-null  float64\n",
            " 4   V4      284807 non-null  float64\n",
            " 5   V5      284807 non-null  float64\n",
            " 6   V6      284807 non-null  float64\n",
            " 7   V7      284807 non-null  float64\n",
            " 8   V8      284807 non-null  float64\n",
            " 9   V9      284807 non-null  float64\n",
            " 10  V10     284807 non-null  float64\n",
            " 11  V11     284807 non-null  float64\n",
            " 12  V12     284807 non-null  float64\n",
            " 13  V13     284807 non-null  float64\n",
            " 14  V14     284807 non-null  float64\n",
            " 15  V15     284807 non-null  float64\n",
            " 16  V16     284807 non-null  float64\n",
            " 17  V17     284807 non-null  float64\n",
            " 18  V18     284807 non-null  float64\n",
            " 19  V19     284807 non-null  float64\n",
            " 20  V20     284807 non-null  float64\n",
            " 21  V21     284807 non-null  float64\n",
            " 22  V22     284807 non-null  float64\n",
            " 23  V23     284807 non-null  float64\n",
            " 24  V24     284807 non-null  float64\n",
            " 25  V25     284807 non-null  float64\n",
            " 26  V26     284807 non-null  float64\n",
            " 27  V27     284807 non-null  float64\n",
            " 28  V28     284807 non-null  float64\n",
            " 29  Amount  284807 non-null  float64\n",
            " 30  Class   284807 non-null  int64  \n",
            "dtypes: float64(30), int64(1)\n",
            "memory usage: 67.4 MB\n"
          ]
        }
      ],
      "source": [
        "df.info()"
      ]
    },
    {
      "cell_type": "code",
      "execution_count": null,
      "metadata": {
        "colab": {
          "base_uri": "https://localhost:8080/",
          "height": 364
        },
        "id": "hpdPb57n0Ffi",
        "outputId": "abd6d298-e616-4826-8771-f41f2dd19809"
      },
      "outputs": [
        {
          "output_type": "execute_result",
          "data": {
            "text/html": [
              "\n",
              "  <div id=\"df-d886aac3-6fd5-4825-ab7a-25a0f22cb2cf\">\n",
              "    <div class=\"colab-df-container\">\n",
              "      <div>\n",
              "<style scoped>\n",
              "    .dataframe tbody tr th:only-of-type {\n",
              "        vertical-align: middle;\n",
              "    }\n",
              "\n",
              "    .dataframe tbody tr th {\n",
              "        vertical-align: top;\n",
              "    }\n",
              "\n",
              "    .dataframe thead th {\n",
              "        text-align: right;\n",
              "    }\n",
              "</style>\n",
              "<table border=\"1\" class=\"dataframe\">\n",
              "  <thead>\n",
              "    <tr style=\"text-align: right;\">\n",
              "      <th></th>\n",
              "      <th>Time</th>\n",
              "      <th>V1</th>\n",
              "      <th>V2</th>\n",
              "      <th>V3</th>\n",
              "      <th>V4</th>\n",
              "      <th>V5</th>\n",
              "      <th>V6</th>\n",
              "      <th>V7</th>\n",
              "      <th>V8</th>\n",
              "      <th>V9</th>\n",
              "      <th>V10</th>\n",
              "      <th>V11</th>\n",
              "      <th>V12</th>\n",
              "      <th>V13</th>\n",
              "      <th>V14</th>\n",
              "      <th>V15</th>\n",
              "      <th>V16</th>\n",
              "      <th>V17</th>\n",
              "      <th>V18</th>\n",
              "      <th>V19</th>\n",
              "      <th>V20</th>\n",
              "      <th>V21</th>\n",
              "      <th>V22</th>\n",
              "      <th>V23</th>\n",
              "      <th>V24</th>\n",
              "      <th>V25</th>\n",
              "      <th>V26</th>\n",
              "      <th>V27</th>\n",
              "      <th>V28</th>\n",
              "      <th>Amount</th>\n",
              "      <th>Class</th>\n",
              "    </tr>\n",
              "  </thead>\n",
              "  <tbody>\n",
              "    <tr>\n",
              "      <th>count</th>\n",
              "      <td>284807.000000</td>\n",
              "      <td>2.848070e+05</td>\n",
              "      <td>2.848070e+05</td>\n",
              "      <td>2.848070e+05</td>\n",
              "      <td>2.848070e+05</td>\n",
              "      <td>2.848070e+05</td>\n",
              "      <td>2.848070e+05</td>\n",
              "      <td>2.848070e+05</td>\n",
              "      <td>2.848070e+05</td>\n",
              "      <td>2.848070e+05</td>\n",
              "      <td>2.848070e+05</td>\n",
              "      <td>2.848070e+05</td>\n",
              "      <td>2.848070e+05</td>\n",
              "      <td>2.848070e+05</td>\n",
              "      <td>2.848070e+05</td>\n",
              "      <td>2.848070e+05</td>\n",
              "      <td>2.848070e+05</td>\n",
              "      <td>2.848070e+05</td>\n",
              "      <td>2.848070e+05</td>\n",
              "      <td>2.848070e+05</td>\n",
              "      <td>2.848070e+05</td>\n",
              "      <td>2.848070e+05</td>\n",
              "      <td>2.848070e+05</td>\n",
              "      <td>2.848070e+05</td>\n",
              "      <td>2.848070e+05</td>\n",
              "      <td>2.848070e+05</td>\n",
              "      <td>2.848070e+05</td>\n",
              "      <td>2.848070e+05</td>\n",
              "      <td>2.848070e+05</td>\n",
              "      <td>284807.000000</td>\n",
              "      <td>284807.000000</td>\n",
              "    </tr>\n",
              "    <tr>\n",
              "      <th>mean</th>\n",
              "      <td>94813.859575</td>\n",
              "      <td>3.919560e-15</td>\n",
              "      <td>5.688174e-16</td>\n",
              "      <td>-8.769071e-15</td>\n",
              "      <td>2.782312e-15</td>\n",
              "      <td>-1.552563e-15</td>\n",
              "      <td>2.010663e-15</td>\n",
              "      <td>-1.694249e-15</td>\n",
              "      <td>-1.927028e-16</td>\n",
              "      <td>-3.137024e-15</td>\n",
              "      <td>1.768627e-15</td>\n",
              "      <td>9.170318e-16</td>\n",
              "      <td>-1.810658e-15</td>\n",
              "      <td>1.693438e-15</td>\n",
              "      <td>1.479045e-15</td>\n",
              "      <td>3.482336e-15</td>\n",
              "      <td>1.392007e-15</td>\n",
              "      <td>-7.528491e-16</td>\n",
              "      <td>4.328772e-16</td>\n",
              "      <td>9.049732e-16</td>\n",
              "      <td>5.085503e-16</td>\n",
              "      <td>1.537294e-16</td>\n",
              "      <td>7.959909e-16</td>\n",
              "      <td>5.367590e-16</td>\n",
              "      <td>4.458112e-15</td>\n",
              "      <td>1.453003e-15</td>\n",
              "      <td>1.699104e-15</td>\n",
              "      <td>-3.660161e-16</td>\n",
              "      <td>-1.206049e-16</td>\n",
              "      <td>88.349619</td>\n",
              "      <td>0.001727</td>\n",
              "    </tr>\n",
              "    <tr>\n",
              "      <th>std</th>\n",
              "      <td>47488.145955</td>\n",
              "      <td>1.958696e+00</td>\n",
              "      <td>1.651309e+00</td>\n",
              "      <td>1.516255e+00</td>\n",
              "      <td>1.415869e+00</td>\n",
              "      <td>1.380247e+00</td>\n",
              "      <td>1.332271e+00</td>\n",
              "      <td>1.237094e+00</td>\n",
              "      <td>1.194353e+00</td>\n",
              "      <td>1.098632e+00</td>\n",
              "      <td>1.088850e+00</td>\n",
              "      <td>1.020713e+00</td>\n",
              "      <td>9.992014e-01</td>\n",
              "      <td>9.952742e-01</td>\n",
              "      <td>9.585956e-01</td>\n",
              "      <td>9.153160e-01</td>\n",
              "      <td>8.762529e-01</td>\n",
              "      <td>8.493371e-01</td>\n",
              "      <td>8.381762e-01</td>\n",
              "      <td>8.140405e-01</td>\n",
              "      <td>7.709250e-01</td>\n",
              "      <td>7.345240e-01</td>\n",
              "      <td>7.257016e-01</td>\n",
              "      <td>6.244603e-01</td>\n",
              "      <td>6.056471e-01</td>\n",
              "      <td>5.212781e-01</td>\n",
              "      <td>4.822270e-01</td>\n",
              "      <td>4.036325e-01</td>\n",
              "      <td>3.300833e-01</td>\n",
              "      <td>250.120109</td>\n",
              "      <td>0.041527</td>\n",
              "    </tr>\n",
              "    <tr>\n",
              "      <th>min</th>\n",
              "      <td>0.000000</td>\n",
              "      <td>-5.640751e+01</td>\n",
              "      <td>-7.271573e+01</td>\n",
              "      <td>-4.832559e+01</td>\n",
              "      <td>-5.683171e+00</td>\n",
              "      <td>-1.137433e+02</td>\n",
              "      <td>-2.616051e+01</td>\n",
              "      <td>-4.355724e+01</td>\n",
              "      <td>-7.321672e+01</td>\n",
              "      <td>-1.343407e+01</td>\n",
              "      <td>-2.458826e+01</td>\n",
              "      <td>-4.797473e+00</td>\n",
              "      <td>-1.868371e+01</td>\n",
              "      <td>-5.791881e+00</td>\n",
              "      <td>-1.921433e+01</td>\n",
              "      <td>-4.498945e+00</td>\n",
              "      <td>-1.412985e+01</td>\n",
              "      <td>-2.516280e+01</td>\n",
              "      <td>-9.498746e+00</td>\n",
              "      <td>-7.213527e+00</td>\n",
              "      <td>-5.449772e+01</td>\n",
              "      <td>-3.483038e+01</td>\n",
              "      <td>-1.093314e+01</td>\n",
              "      <td>-4.480774e+01</td>\n",
              "      <td>-2.836627e+00</td>\n",
              "      <td>-1.029540e+01</td>\n",
              "      <td>-2.604551e+00</td>\n",
              "      <td>-2.256568e+01</td>\n",
              "      <td>-1.543008e+01</td>\n",
              "      <td>0.000000</td>\n",
              "      <td>0.000000</td>\n",
              "    </tr>\n",
              "    <tr>\n",
              "      <th>25%</th>\n",
              "      <td>54201.500000</td>\n",
              "      <td>-9.203734e-01</td>\n",
              "      <td>-5.985499e-01</td>\n",
              "      <td>-8.903648e-01</td>\n",
              "      <td>-8.486401e-01</td>\n",
              "      <td>-6.915971e-01</td>\n",
              "      <td>-7.682956e-01</td>\n",
              "      <td>-5.540759e-01</td>\n",
              "      <td>-2.086297e-01</td>\n",
              "      <td>-6.430976e-01</td>\n",
              "      <td>-5.354257e-01</td>\n",
              "      <td>-7.624942e-01</td>\n",
              "      <td>-4.055715e-01</td>\n",
              "      <td>-6.485393e-01</td>\n",
              "      <td>-4.255740e-01</td>\n",
              "      <td>-5.828843e-01</td>\n",
              "      <td>-4.680368e-01</td>\n",
              "      <td>-4.837483e-01</td>\n",
              "      <td>-4.988498e-01</td>\n",
              "      <td>-4.562989e-01</td>\n",
              "      <td>-2.117214e-01</td>\n",
              "      <td>-2.283949e-01</td>\n",
              "      <td>-5.423504e-01</td>\n",
              "      <td>-1.618463e-01</td>\n",
              "      <td>-3.545861e-01</td>\n",
              "      <td>-3.171451e-01</td>\n",
              "      <td>-3.269839e-01</td>\n",
              "      <td>-7.083953e-02</td>\n",
              "      <td>-5.295979e-02</td>\n",
              "      <td>5.600000</td>\n",
              "      <td>0.000000</td>\n",
              "    </tr>\n",
              "    <tr>\n",
              "      <th>50%</th>\n",
              "      <td>84692.000000</td>\n",
              "      <td>1.810880e-02</td>\n",
              "      <td>6.548556e-02</td>\n",
              "      <td>1.798463e-01</td>\n",
              "      <td>-1.984653e-02</td>\n",
              "      <td>-5.433583e-02</td>\n",
              "      <td>-2.741871e-01</td>\n",
              "      <td>4.010308e-02</td>\n",
              "      <td>2.235804e-02</td>\n",
              "      <td>-5.142873e-02</td>\n",
              "      <td>-9.291738e-02</td>\n",
              "      <td>-3.275735e-02</td>\n",
              "      <td>1.400326e-01</td>\n",
              "      <td>-1.356806e-02</td>\n",
              "      <td>5.060132e-02</td>\n",
              "      <td>4.807155e-02</td>\n",
              "      <td>6.641332e-02</td>\n",
              "      <td>-6.567575e-02</td>\n",
              "      <td>-3.636312e-03</td>\n",
              "      <td>3.734823e-03</td>\n",
              "      <td>-6.248109e-02</td>\n",
              "      <td>-2.945017e-02</td>\n",
              "      <td>6.781943e-03</td>\n",
              "      <td>-1.119293e-02</td>\n",
              "      <td>4.097606e-02</td>\n",
              "      <td>1.659350e-02</td>\n",
              "      <td>-5.213911e-02</td>\n",
              "      <td>1.342146e-03</td>\n",
              "      <td>1.124383e-02</td>\n",
              "      <td>22.000000</td>\n",
              "      <td>0.000000</td>\n",
              "    </tr>\n",
              "    <tr>\n",
              "      <th>75%</th>\n",
              "      <td>139320.500000</td>\n",
              "      <td>1.315642e+00</td>\n",
              "      <td>8.037239e-01</td>\n",
              "      <td>1.027196e+00</td>\n",
              "      <td>7.433413e-01</td>\n",
              "      <td>6.119264e-01</td>\n",
              "      <td>3.985649e-01</td>\n",
              "      <td>5.704361e-01</td>\n",
              "      <td>3.273459e-01</td>\n",
              "      <td>5.971390e-01</td>\n",
              "      <td>4.539234e-01</td>\n",
              "      <td>7.395934e-01</td>\n",
              "      <td>6.182380e-01</td>\n",
              "      <td>6.625050e-01</td>\n",
              "      <td>4.931498e-01</td>\n",
              "      <td>6.488208e-01</td>\n",
              "      <td>5.232963e-01</td>\n",
              "      <td>3.996750e-01</td>\n",
              "      <td>5.008067e-01</td>\n",
              "      <td>4.589494e-01</td>\n",
              "      <td>1.330408e-01</td>\n",
              "      <td>1.863772e-01</td>\n",
              "      <td>5.285536e-01</td>\n",
              "      <td>1.476421e-01</td>\n",
              "      <td>4.395266e-01</td>\n",
              "      <td>3.507156e-01</td>\n",
              "      <td>2.409522e-01</td>\n",
              "      <td>9.104512e-02</td>\n",
              "      <td>7.827995e-02</td>\n",
              "      <td>77.165000</td>\n",
              "      <td>0.000000</td>\n",
              "    </tr>\n",
              "    <tr>\n",
              "      <th>max</th>\n",
              "      <td>172792.000000</td>\n",
              "      <td>2.454930e+00</td>\n",
              "      <td>2.205773e+01</td>\n",
              "      <td>9.382558e+00</td>\n",
              "      <td>1.687534e+01</td>\n",
              "      <td>3.480167e+01</td>\n",
              "      <td>7.330163e+01</td>\n",
              "      <td>1.205895e+02</td>\n",
              "      <td>2.000721e+01</td>\n",
              "      <td>1.559499e+01</td>\n",
              "      <td>2.374514e+01</td>\n",
              "      <td>1.201891e+01</td>\n",
              "      <td>7.848392e+00</td>\n",
              "      <td>7.126883e+00</td>\n",
              "      <td>1.052677e+01</td>\n",
              "      <td>8.877742e+00</td>\n",
              "      <td>1.731511e+01</td>\n",
              "      <td>9.253526e+00</td>\n",
              "      <td>5.041069e+00</td>\n",
              "      <td>5.591971e+00</td>\n",
              "      <td>3.942090e+01</td>\n",
              "      <td>2.720284e+01</td>\n",
              "      <td>1.050309e+01</td>\n",
              "      <td>2.252841e+01</td>\n",
              "      <td>4.584549e+00</td>\n",
              "      <td>7.519589e+00</td>\n",
              "      <td>3.517346e+00</td>\n",
              "      <td>3.161220e+01</td>\n",
              "      <td>3.384781e+01</td>\n",
              "      <td>25691.160000</td>\n",
              "      <td>1.000000</td>\n",
              "    </tr>\n",
              "  </tbody>\n",
              "</table>\n",
              "</div>\n",
              "      <button class=\"colab-df-convert\" onclick=\"convertToInteractive('df-d886aac3-6fd5-4825-ab7a-25a0f22cb2cf')\"\n",
              "              title=\"Convert this dataframe to an interactive table.\"\n",
              "              style=\"display:none;\">\n",
              "        \n",
              "  <svg xmlns=\"http://www.w3.org/2000/svg\" height=\"24px\"viewBox=\"0 0 24 24\"\n",
              "       width=\"24px\">\n",
              "    <path d=\"M0 0h24v24H0V0z\" fill=\"none\"/>\n",
              "    <path d=\"M18.56 5.44l.94 2.06.94-2.06 2.06-.94-2.06-.94-.94-2.06-.94 2.06-2.06.94zm-11 1L8.5 8.5l.94-2.06 2.06-.94-2.06-.94L8.5 2.5l-.94 2.06-2.06.94zm10 10l.94 2.06.94-2.06 2.06-.94-2.06-.94-.94-2.06-.94 2.06-2.06.94z\"/><path d=\"M17.41 7.96l-1.37-1.37c-.4-.4-.92-.59-1.43-.59-.52 0-1.04.2-1.43.59L10.3 9.45l-7.72 7.72c-.78.78-.78 2.05 0 2.83L4 21.41c.39.39.9.59 1.41.59.51 0 1.02-.2 1.41-.59l7.78-7.78 2.81-2.81c.8-.78.8-2.07 0-2.86zM5.41 20L4 18.59l7.72-7.72 1.47 1.35L5.41 20z\"/>\n",
              "  </svg>\n",
              "      </button>\n",
              "      \n",
              "  <style>\n",
              "    .colab-df-container {\n",
              "      display:flex;\n",
              "      flex-wrap:wrap;\n",
              "      gap: 12px;\n",
              "    }\n",
              "\n",
              "    .colab-df-convert {\n",
              "      background-color: #E8F0FE;\n",
              "      border: none;\n",
              "      border-radius: 50%;\n",
              "      cursor: pointer;\n",
              "      display: none;\n",
              "      fill: #1967D2;\n",
              "      height: 32px;\n",
              "      padding: 0 0 0 0;\n",
              "      width: 32px;\n",
              "    }\n",
              "\n",
              "    .colab-df-convert:hover {\n",
              "      background-color: #E2EBFA;\n",
              "      box-shadow: 0px 1px 2px rgba(60, 64, 67, 0.3), 0px 1px 3px 1px rgba(60, 64, 67, 0.15);\n",
              "      fill: #174EA6;\n",
              "    }\n",
              "\n",
              "    [theme=dark] .colab-df-convert {\n",
              "      background-color: #3B4455;\n",
              "      fill: #D2E3FC;\n",
              "    }\n",
              "\n",
              "    [theme=dark] .colab-df-convert:hover {\n",
              "      background-color: #434B5C;\n",
              "      box-shadow: 0px 1px 3px 1px rgba(0, 0, 0, 0.15);\n",
              "      filter: drop-shadow(0px 1px 2px rgba(0, 0, 0, 0.3));\n",
              "      fill: #FFFFFF;\n",
              "    }\n",
              "  </style>\n",
              "\n",
              "      <script>\n",
              "        const buttonEl =\n",
              "          document.querySelector('#df-d886aac3-6fd5-4825-ab7a-25a0f22cb2cf button.colab-df-convert');\n",
              "        buttonEl.style.display =\n",
              "          google.colab.kernel.accessAllowed ? 'block' : 'none';\n",
              "\n",
              "        async function convertToInteractive(key) {\n",
              "          const element = document.querySelector('#df-d886aac3-6fd5-4825-ab7a-25a0f22cb2cf');\n",
              "          const dataTable =\n",
              "            await google.colab.kernel.invokeFunction('convertToInteractive',\n",
              "                                                     [key], {});\n",
              "          if (!dataTable) return;\n",
              "\n",
              "          const docLinkHtml = 'Like what you see? Visit the ' +\n",
              "            '<a target=\"_blank\" href=https://colab.research.google.com/notebooks/data_table.ipynb>data table notebook</a>'\n",
              "            + ' to learn more about interactive tables.';\n",
              "          element.innerHTML = '';\n",
              "          dataTable['output_type'] = 'display_data';\n",
              "          await google.colab.output.renderOutput(dataTable, element);\n",
              "          const docLink = document.createElement('div');\n",
              "          docLink.innerHTML = docLinkHtml;\n",
              "          element.appendChild(docLink);\n",
              "        }\n",
              "      </script>\n",
              "    </div>\n",
              "  </div>\n",
              "  "
            ],
            "text/plain": [
              "                Time            V1  ...         Amount          Class\n",
              "count  284807.000000  2.848070e+05  ...  284807.000000  284807.000000\n",
              "mean    94813.859575  3.919560e-15  ...      88.349619       0.001727\n",
              "std     47488.145955  1.958696e+00  ...     250.120109       0.041527\n",
              "min         0.000000 -5.640751e+01  ...       0.000000       0.000000\n",
              "25%     54201.500000 -9.203734e-01  ...       5.600000       0.000000\n",
              "50%     84692.000000  1.810880e-02  ...      22.000000       0.000000\n",
              "75%    139320.500000  1.315642e+00  ...      77.165000       0.000000\n",
              "max    172792.000000  2.454930e+00  ...   25691.160000       1.000000\n",
              "\n",
              "[8 rows x 31 columns]"
            ]
          },
          "metadata": {},
          "execution_count": 4
        }
      ],
      "source": [
        "df.describe()"
      ]
    },
    {
      "cell_type": "code",
      "execution_count": null,
      "metadata": {
        "colab": {
          "base_uri": "https://localhost:8080/",
          "height": 326
        },
        "id": "OQ88jEQD0P0n",
        "outputId": "2b6178d4-c2ad-4922-a929-b51608a392bd"
      },
      "outputs": [
        {
          "output_type": "stream",
          "name": "stdout",
          "text": [
            "No Frauds = 99.83 % Total No-fraud values = 284315\n",
            "Frauds = 0.17 % Total fraud values = 492\n"
          ]
        },
        {
          "output_type": "display_data",
          "data": {
            "image/png": "[encoded data removed]",
            "text/plain": [
              "<Figure size 432x288 with 1 Axes>"
            ]
          },
          "metadata": {
            "needs_background": "light"
          }
        }
      ],
      "source": [
        "import matplotlib.pyplot as plt\n",
        "%matplotlib inline\n",
        "\n",
        "count_classes = pd.value_counts(df['Class'], sort = True).sort_index()\n",
        "count_classes.plot(kind = 'bar')\n",
        "plt.title(\"Fraud class histogram\")\n",
        "plt.xlabel(\"Class\")\n",
        "plt.ylabel(\"Frequency\")\n",
        "\n",
        "print('No Frauds =', round(df['Class'].value_counts()[0]/len(df) * 100,2), '% Total No-fraud values =',df['Class'].value_counts()[0])\n",
        "print('Frauds =', round(df['Class'].value_counts()[1]/len(df) * 100,2), '% Total fraud values =', df['Class'].value_counts()[1])"
      ]
    },
    {
      "cell_type": "code",
      "execution_count": null,
      "metadata": {
        "id": "3xEBRF6IpuWo"
      },
      "outputs": [],
      "source": [
        "from sklearn.preprocessing import StandardScaler, RobustScaler\n",
        "std_scaler = StandardScaler()\n",
        "rob_scaler = RobustScaler()\n",
        "\n",
        "df['scaled_amount'] = rob_scaler.fit_transform(df['Amount'].values.reshape(-1,1))\n",
        "df['scaled_time'] = rob_scaler.fit_transform(df['Time'].values.reshape(-1,1))\n",
        "\n",
        "df.drop(['Time','Amount'], axis=1, inplace=True)\n",
        "\n",
        "scaled_amount = df['scaled_amount']\n",
        "scaled_time = df['scaled_time']\n"
      ]
    },
    {
      "cell_type": "code",
      "execution_count": null,
      "metadata": {
        "id": "nFvr90Wu0aF-"
      },
      "outputs": [],
      "source": [
        "X = df.drop('Class', axis=1)\n",
        "y = df['Class']"
      ]
    },
    {
      "cell_type": "code",
      "execution_count": null,
      "metadata": {
        "colab": {
          "base_uri": "https://localhost:8080/"
        },
        "id": "nw1cx8M7opE6",
        "outputId": "d33608ae-ac9e-4f6c-a9e0-52f942731912"
      },
      "outputs": [
        {
          "output_type": "stream",
          "name": "stdout",
          "text": [
            "                                 OLS Regression Results                                \n",
            "=======================================================================================\n",
            "Dep. Variable:                  Class   R-squared (uncentered):                   0.522\n",
            "Model:                            OLS   Adj. R-squared (uncentered):              0.522\n",
            "Method:                 Least Squares   F-statistic:                          1.036e+04\n",
            "Date:                Fri, 17 Dec 2021   Prob (F-statistic):                        0.00\n",
            "Time:                        19:25:16   Log-Likelihood:                      6.0682e+05\n",
            "No. Observations:              284807   AIC:                                 -1.214e+06\n",
            "Df Residuals:                  284777   BIC:                                 -1.213e+06\n",
            "Df Model:                          30                                                  \n",
            "Covariance Type:            nonrobust                                                  \n",
            "=================================================================================\n",
            "                    coef    std err          t      P>|t|      [0.025      0.975]\n",
            "---------------------------------------------------------------------------------\n",
            "V1               -0.0017   3.26e-05    -51.913      0.000      -0.002      -0.002\n",
            "V2                0.0036   5.56e-05     64.126      0.000       0.003       0.004\n",
            "V3               -0.0047   4.35e-05   -108.362      0.000      -0.005      -0.005\n",
            "V4                0.0036   3.99e-05     91.392      0.000       0.004       0.004\n",
            "V5               -0.0018   5.72e-05    -30.820      0.000      -0.002      -0.002\n",
            "V6               -0.0020   4.68e-05    -42.651      0.000      -0.002      -0.002\n",
            "V7               -0.0076   6.21e-05   -121.579      0.000      -0.008      -0.007\n",
            "V8                0.0010   4.66e-05     22.157      0.000       0.001       0.001\n",
            "V9               -0.0035   4.93e-05    -71.660      0.000      -0.004      -0.003\n",
            "V10              -0.0079   5.13e-05   -154.158      0.000      -0.008      -0.008\n",
            "V11               0.0063   5.56e-05    113.645      0.000       0.006       0.006\n",
            "V12              -0.0108   5.47e-05   -197.489      0.000      -0.011      -0.011\n",
            "V13              -0.0002   5.43e-05     -3.814      0.000      -0.000      -0.000\n",
            "V14              -0.0132    5.7e-05   -232.260      0.000      -0.013      -0.013\n",
            "V15              -0.0002   6.06e-05     -2.731      0.006      -0.000   -4.67e-05\n",
            "V16              -0.0093   6.15e-05   -151.261      0.000      -0.009      -0.009\n",
            "V17              -0.0160   6.37e-05   -250.878      0.000      -0.016      -0.016\n",
            "V18              -0.0057   6.49e-05    -87.857      0.000      -0.006      -0.006\n",
            "V19               0.0020    6.7e-05     30.517      0.000       0.002       0.002\n",
            "V20              -0.0006   9.39e-05     -6.900      0.000      -0.001      -0.000\n",
            "V21               0.0017    7.6e-05     22.541      0.000       0.002       0.002\n",
            "V22               0.0004    7.7e-05      4.993      0.000       0.000       0.001\n",
            "V23               0.0005   9.04e-05      5.827      0.000       0.000       0.001\n",
            "V24              -0.0005   8.89e-05     -5.923      0.000      -0.001      -0.000\n",
            "V25               0.0007      0.000      6.048      0.000       0.000       0.001\n",
            "V26               0.0004      0.000      3.716      0.000       0.000       0.001\n",
            "V27               0.0015      0.000     11.421      0.000       0.001       0.002\n",
            "V28               0.0011      0.000      6.612      0.000       0.001       0.001\n",
            "scaled_amount     0.0011   4.01e-05     28.118      0.000       0.001       0.001\n",
            "scaled_time       0.0001      0.000      0.924      0.356      -0.000       0.000\n",
            "==============================================================================\n",
            "Omnibus:                   596009.963   Durbin-Watson:                   1.970\n",
            "Prob(Omnibus):                  0.000   Jarque-Bera (JB):       8530327212.217\n",
            "Skew:                          17.542   Prob(JB):                         0.00\n",
            "Kurtosis:                     850.112   Cond. No.                         11.7\n",
            "==============================================================================\n",
            "\n",
            "Warnings:\n",
            "[1] Standard Errors assume that the covariance matrix of the errors is correctly specified.\n"
          ]
        }
      ],
      "source": [
        "\n",
        "import statsmodels.api as sm\n",
        "model = sm.OLS(y,X)\n",
        "results = model.fit()\n",
        "print(results.summary())"
      ]
    },
    {
      "cell_type": "markdown",
      "source": [
        "P-Value of scaled_time variable is high so dropping it"
      ],
      "metadata": {
        "id": "0dsxsb5bG75D"
      }
    },
    {
      "cell_type": "code",
      "execution_count": null,
      "metadata": {
        "id": "RkMv9ezFqx5O"
      },
      "outputs": [],
      "source": [
        "X.drop(['scaled_time'], axis=1, inplace=True)"
      ]
    },
    {
      "cell_type": "markdown",
      "metadata": {
        "id": "ragyrcqz5Sg2"
      },
      "source": [
        "## **Accuracy of model**\n"
      ]
    },
    {
      "cell_type": "markdown",
      "metadata": {
        "id": "atTcKwE53Mds"
      },
      "source": [
        "Standard classification metrics do not represent the model performance in the case of imbalanced classes. Consider the above example, where we build a classifier to predict whether a patient has an extremely rare disease. The classifier yields 99% accuracy which looks good. But this 99% accuracy correctly classifies the 99% of healthy people as disease-free and incorrectly classifies the 1% of people which have the rare disease as healthy. There are several standard metrics which are used to evaluate classification model performance. These metrics are discussed in the following sections.\n",
        "\n",
        "\n",
        "\n",
        "> **Confusion matrix**\n",
        "\n",
        "A confusion matrix is a tool for summarizing the performance of a classification algorithm. A confusion matrix will give us a clear picture of classification model performance and the types of errors produced by the model. It gives us a summary of correct and incorrect predictions broken down by each category.\n",
        "\n",
        "\n",
        "\n",
        "\n",
        "> **Accuracy**\n",
        "\n",
        "Accuracy is defined as the percentage of correctly classified observations. It can be calculated by dividing the number of correct predictions by the total number of predictions.\n",
        "\n",
        "Accuracy = Correct predictions/Total number of predictions\n",
        "\n",
        "Mathematically, in confusion matrix terminology, accuracy can be given as\n",
        "\n",
        "Accuracy = (True Positives + True Negatives)/Total Sample Size\n",
        "\n",
        "> **Precision**\n",
        "\n",
        "Precision is defined as the percentage of relevant observations that were actually belong to a certain class among all the samples which were predicted to belong to the same class.\n",
        "\n",
        "Mathematically, it can be given as\n",
        "\n",
        "Precision = True Positives / (True Positives + False Positives)\n",
        "\n",
        "\n",
        "\n",
        "> **Recall**\n",
        "\n",
        "Sensitivity or Recall is defined as the percentage of observations that were predicted to belong to a certain class among all the samples that truly belong to that class.\n",
        "\n",
        "Mathematically, it can be given as\n",
        "\n",
        "Recall = True Positives / (True Positives + False Negatives)\n",
        "\n",
        "\n",
        "\n",
        "\n",
        "\n",
        "\n",
        "\n",
        "\n",
        "\n",
        "\n",
        "\n",
        "\n",
        "\n",
        "\n"
      ]
    },
    {
      "cell_type": "markdown",
      "metadata": {
        "id": "djVSDE9X51MP"
      },
      "source": [
        "![Confusion matrix .png](data:image/png;base64,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)"
      ]
    },
    {
      "cell_type": "markdown",
      "metadata": {
        "id": "VgDot6hG7LCN"
      },
      "source": [
        "## **Approaches to handle imbalanced classes**"
      ]
    },
    {
      "cell_type": "markdown",
      "metadata": {
        "id": "vYAAx2vB7YAx"
      },
      "source": [
        "\n",
        "\n",
        "\n",
        "> 1.   Undersampling methods\n",
        "1.   Oversampling methods\n",
        "2.   Synthetic data generation\n",
        "2.   Cost sensitive learning\n",
        "5.   Ensemble methods\n",
        "\n",
        "In this notebook we will go through first 3 methods with implemetation\n",
        "\n",
        "\n",
        "\n",
        "\n",
        "\n",
        "\n",
        "\n",
        "\n",
        "\n",
        "\n",
        "\n",
        "\n",
        "\n"
      ]
    },
    {
      "cell_type": "markdown",
      "metadata": {
        "id": "OaY6UAFS7wUk"
      },
      "source": [
        "### **1. Undersampling methods**"
      ]
    },
    {
      "cell_type": "markdown",
      "metadata": {
        "id": "WJ5Fe20L9dlz"
      },
      "source": [
        "The undersampling methods work with the majority class. In these methods, we randomly eliminate instances of the majority class. It reduces the number of observations from majority class to make the dataset balanced. It results in severe loss of information. This method is applicable when the dataset is huge and reducing the number of training samples make the dataset balanced.\n",
        "\n",
        "Undersampling methods are of two types – random and informative."
      ]
    },
    {
      "cell_type": "markdown",
      "metadata": {
        "id": "qlND9En6wINm"
      },
      "source": [
        "####**1.1 Random undersampling**\n",
        "\n",
        "\n",
        "\n",
        "\n",
        "\n",
        "\n",
        "\n"
      ]
    },
    {
      "cell_type": "markdown",
      "source": [
        "In random undersampling method, we balance the imbalanced class distribution by choosing and eliminating observations from majority class to make the dataset balanced.\n",
        "\n",
        "This approach has several advantages and disadvantages which are listed below:-\n",
        "\n",
        "**Advantages**\n",
        "\n",
        "\n",
        "*   If the dataset is huge, we might face run time and storage problems. \n",
        "*   Undersampling can help to handle these problems successfully by improving run time and storage problems by reducing the number of training data samples.\n",
        "\n",
        "\n",
        "\n",
        "\n",
        "**Disadvantages**\n",
        "\n",
        "\n",
        "*   This method can discard potentially useful information which could be important for building the classifiers.\n",
        "*   The sample chosen by random under sampling may be a biased one. It may not be an accurate representation of the population. So, it results in inaccurate results with the actual dataset.\n",
        "\n"
      ],
      "metadata": {
        "id": "P6AnkvnXcM7N"
      }
    },
    {
      "cell_type": "code",
      "execution_count": null,
      "metadata": {
        "colab": {
          "base_uri": "https://localhost:8080/"
        },
        "id": "XtZKomPuKB1H",
        "outputId": "acf53274-86f5-461d-8a1f-8cc7851d7354"
      },
      "outputs": [
        {
          "output_type": "stream",
          "name": "stdout",
          "text": [
            "0.8.1\n"
          ]
        }
      ],
      "source": [
        "# check version number\n",
        "#import imblearn imbalanced learn lib\n",
        "import imblearn\n",
        "print(imblearn.__version__)\n",
        "from collections import Counter\n",
        "from sklearn.datasets import make_classification\n",
        "from imblearn.under_sampling import RandomUnderSampler"
      ]
    },
    {
      "cell_type": "code",
      "execution_count": null,
      "metadata": {
        "id": "gRvQKAW7KCkM"
      },
      "outputs": [],
      "source": [
        "undersample = RandomUnderSampler(sampling_strategy='majority') #Random undersampling\n",
        "X_under, y_under = undersample.fit_resample(X, y) #fit and undersample"
      ]
    },
    {
      "cell_type": "code",
      "execution_count": null,
      "metadata": {
        "colab": {
          "base_uri": "https://localhost:8080/"
        },
        "id": "uPHXGvXaKImW",
        "outputId": "7d9c5e00-a237-4f02-913b-20daf66bcb83"
      },
      "outputs": [
        {
          "output_type": "stream",
          "name": "stdout",
          "text": [
            "No Frauds = 50.0 % Total No-fraud values = 492\n",
            "Frauds = 50.0 % Total fraud values = 492\n",
            "Counter({0: 492, 1: 492})\n"
          ]
        }
      ],
      "source": [
        "print('No Frauds =', round(y_under.value_counts()[0]/len(y_under) * 100,2), '% Total No-fraud values =',y_under.value_counts()[0]) \n",
        "print('Frauds =', round(y_under.value_counts()[1]/len(y_under) * 100,2), '% Total fraud values =', y_under.value_counts()[1])\n",
        "print(Counter(y_under))"
      ]
    },
    {
      "cell_type": "code",
      "execution_count": null,
      "metadata": {
        "id": "6lYqK8dXMGcJ"
      },
      "outputs": [],
      "source": [
        "from sklearn.model_selection import train_test_split\n",
        "\n",
        "# Split dataset in test, train\n",
        "X_train, X_test, y_train, y_test = train_test_split(X_under, y_under, test_size=0.2, random_state=42)"
      ]
    },
    {
      "cell_type": "code",
      "execution_count": null,
      "metadata": {
        "id": "j2qH7VTaPPmI"
      },
      "outputs": [],
      "source": [
        "# To check effectiveness of udersampling we will test dataset with 4 models\n",
        "classifiers = {\n",
        "    \"LogisiticRegression\": LogisticRegression(),\n",
        "    \"KNearest\": KNeighborsClassifier(),\n",
        "    \"Support Vector Classifier\": SVC(),\n",
        "    \"RandomForestClassifier\": RandomForestClassifier()\n",
        "}"
      ]
    },
    {
      "cell_type": "code",
      "execution_count": null,
      "metadata": {
        "colab": {
          "base_uri": "https://localhost:8080/"
        },
        "id": "jHuiy2fHPTuW",
        "outputId": "9f61db08-a816-4b8d-cb38-c6a29e487647"
      },
      "outputs": [
        {
          "output_type": "stream",
          "name": "stdout",
          "text": [
            "Classifiers:  LogisticRegression Has a training score of 94.0 % accuracy score\n",
            "Classifiers:  KNeighborsClassifier Has a training score of 93.0 % accuracy score\n",
            "Classifiers:  SVC Has a training score of 92.0 % accuracy score\n",
            "Classifiers:  RandomForestClassifier Has a training score of 94.0 % accuracy score\n"
          ]
        }
      ],
      "source": [
        "from sklearn.model_selection import cross_val_score\n",
        "\n",
        "\n",
        "for key, classifier in classifiers.items():\n",
        "    classifier.fit(X_train, y_train)\n",
        "    training_score = cross_val_score(classifier, X_train, y_train, cv=5)\n",
        "    print(\"Classifiers: \", classifier.__class__.__name__, \"Has a training score of\", round(training_score.mean(), 2) * 100, \"% accuracy score\")"
      ]
    },
    {
      "cell_type": "markdown",
      "source": [
        "Using grid search to find best hyperparameters for model"
      ],
      "metadata": {
        "id": "HSZJ3Ir4Igto"
      }
    },
    {
      "cell_type": "code",
      "execution_count": null,
      "metadata": {
        "id": "3Bc32i9pPWT8"
      },
      "outputs": [],
      "source": [
        "\n",
        "from sklearn.model_selection import GridSearchCV\n",
        "\n",
        "\n",
        "# Logistic Regression \n",
        "log_reg_params = {\"penalty\": ['l1', 'l2'], 'C': [0.001, 0.01, 0.1, 1, 10, 100, 1000]}\n",
        "\n",
        "grid_log_reg = GridSearchCV(LogisticRegression(), log_reg_params)\n",
        "grid_log_reg.fit(X_train, y_train)\n",
        "# We automatically get the logistic regression with the best parameters.\n",
        "log_reg = grid_log_reg.best_estimator_\n",
        "\n",
        "knears_params = {\"n_neighbors\": list(range(2,5,1)), 'algorithm': ['auto', 'ball_tree', 'kd_tree', 'brute']}\n",
        "\n",
        "grid_knears = GridSearchCV(KNeighborsClassifier(), knears_params)\n",
        "grid_knears.fit(X_train, y_train)\n",
        "# KNears best estimator\n",
        "knears_neighbors = grid_knears.best_estimator_\n",
        "\n",
        "# Support Vector Classifier\n",
        "svc_params = {'C': [0.5, 0.7, 0.9, 1], 'kernel': ['rbf', 'poly', 'sigmoid', 'linear']}\n",
        "grid_svc = GridSearchCV(SVC(), svc_params)\n",
        "grid_svc.fit(X_train, y_train)\n",
        "\n",
        "# SVC best estimator\n",
        "svc = grid_svc.best_estimator_\n",
        "\n",
        "# DecisionTree Classifier\n",
        "tree_params = {\"criterion\": [\"gini\", \"entropy\"], \"max_depth\": list(range(2,4,1)), \n",
        "              \"min_samples_leaf\": list(range(5,7,1))}\n",
        "grid_tree = GridSearchCV(RandomForestClassifier(), tree_params)\n",
        "grid_tree.fit(X_train, y_train)\n",
        "\n",
        "# tree best estimator\n",
        "tree_clf = grid_tree.best_estimator_"
      ]
    },
    {
      "cell_type": "markdown",
      "source": [
        "Let's test on testing set"
      ],
      "metadata": {
        "id": "D0rFWnkwIxCN"
      }
    },
    {
      "cell_type": "code",
      "execution_count": null,
      "metadata": {
        "colab": {
          "base_uri": "https://localhost:8080/"
        },
        "id": "ltXrVeckTph4",
        "outputId": "6d8cfbe9-a1a8-4202-d4f4-fe5c88dc211d"
      },
      "outputs": [
        {
          "output_type": "stream",
          "name": "stdout",
          "text": [
            "Logistic Regression:  0.933776540919398\n",
            "KNears Neighbors:  0.9439806225520511\n",
            "Support Vector Classifier:  0.933776540919398\n",
            "Decision Tree Classifier:  0.9133168418882706\n"
          ]
        }
      ],
      "source": [
        "from sklearn.metrics import roc_auc_score\n",
        "\n",
        "print('Logistic Regression: ', roc_auc_score(y_test, log_reg.predict(X_test)))\n",
        "print('KNears Neighbors: ', roc_auc_score(y_test, knears_neighbors.predict(X_test)))\n",
        "print('Support Vector Classifier: ', roc_auc_score(y_test, svc.predict(X_test)))\n",
        "print('Decision Tree Classifier: ', roc_auc_score(y_test, tree_clf.predict(X_test)))"
      ]
    },
    {
      "cell_type": "markdown",
      "source": [
        "Testing prediction accuracy is similar to training set so models are not overfitting but still lets further analise the prediction"
      ],
      "metadata": {
        "id": "2olpkwHLI4C1"
      }
    },
    {
      "cell_type": "markdown",
      "source": [
        "Logistic Regression's scores"
      ],
      "metadata": {
        "id": "f3kNtbdoJawn"
      }
    },
    {
      "cell_type": "code",
      "execution_count": null,
      "metadata": {
        "colab": {
          "base_uri": "https://localhost:8080/"
        },
        "id": "6nRC_vSBg0xR",
        "outputId": "266d59c7-0f67-424b-ca13-5b06f55e8fb3"
      },
      "outputs": [
        {
          "output_type": "stream",
          "name": "stdout",
          "text": [
            "Recall Score: 0.89\n",
            "Precision Score: 0.98\n",
            "F1 Score: 0.93\n",
            "Accuracy Score: 0.93\n"
          ]
        }
      ],
      "source": [
        "from sklearn.metrics import recall_score, precision_score, f1_score, accuracy_score\n",
        "print('Recall Score: {:.2f}'.format(recall_score(y_test, log_reg.predict(X_test))))\n",
        "print('Precision Score: {:.2f}'.format(precision_score(y_test, log_reg.predict(X_test))))\n",
        "print('F1 Score: {:.2f}'.format(f1_score(y_test, log_reg.predict(X_test))))\n",
        "print('Accuracy Score: {:.2f}'.format(accuracy_score(y_test, log_reg.predict(X_test))))"
      ]
    },
    {
      "cell_type": "markdown",
      "source": [
        "KNN's scores"
      ],
      "metadata": {
        "id": "p1B_k4EeJR7i"
      }
    },
    {
      "cell_type": "code",
      "execution_count": null,
      "metadata": {
        "colab": {
          "base_uri": "https://localhost:8080/"
        },
        "id": "egJABpIYTrwc",
        "outputId": "fc8f281b-1d22-40d8-b475-e462af4123c6"
      },
      "outputs": [
        {
          "output_type": "stream",
          "name": "stdout",
          "text": [
            "Recall Score: 0.91\n",
            "Precision Score: 0.98\n",
            "F1 Score: 0.94\n",
            "Accuracy Score: 0.94\n"
          ]
        }
      ],
      "source": [
        "from sklearn.metrics import recall_score, precision_score, f1_score, accuracy_score\n",
        "print('Recall Score: {:.2f}'.format(recall_score(y_test, knears_neighbors.predict(X_test))))\n",
        "print('Precision Score: {:.2f}'.format(precision_score(y_test, knears_neighbors.predict(X_test))))\n",
        "print('F1 Score: {:.2f}'.format(f1_score(y_test, knears_neighbors.predict(X_test))))\n",
        "print('Accuracy Score: {:.2f}'.format(accuracy_score(y_test, knears_neighbors.predict(X_test))))"
      ]
    },
    {
      "cell_type": "markdown",
      "source": [
        "Confusion Matrix plot"
      ],
      "metadata": {
        "id": "tGzGQJw2M0tj"
      }
    },
    {
      "cell_type": "code",
      "source": [
        "from sklearn.metrics import confusion_matrix\n",
        "\n",
        "# Logistic Regression fitted using SMOTE technique\n",
        "y_pred_log_reg = log_reg.predict(X_test)\n",
        "\n",
        "# Other models fitted with UnderSampling\n",
        "y_pred_knear = knears_neighbors.predict(X_test)\n",
        "y_pred_svc = svc.predict(X_test)\n",
        "y_pred_tree = tree_clf.predict(X_test)\n",
        "\n",
        "\n",
        "log_reg_cf = confusion_matrix(y_test, y_pred_log_reg)\n",
        "kneighbors_cf = confusion_matrix(y_test, y_pred_knear)\n",
        "svc_cf = confusion_matrix(y_test, y_pred_svc)\n",
        "tree_cf = confusion_matrix(y_test, y_pred_tree)\n",
        "\n",
        "fig, ax = plt.subplots(2, 2,figsize=(22,12))\n",
        "\n",
        "\n",
        "sns.heatmap(log_reg_cf, ax=ax[0][0], annot=True, cmap=plt.cm.copper)\n",
        "ax[0, 0].set_title(\"Logistic Regression \\n Confusion Matrix\", fontsize=14)\n",
        "\n",
        "plt.ylabel('True label')\n",
        "plt.xlabel('Predicted label')\n",
        "\n",
        "sns.heatmap(kneighbors_cf, ax=ax[0][1], annot=True, cmap=plt.cm.copper)\n",
        "ax[0][1].set_title(\"KNearsNeighbors \\n Confusion Matrix\", fontsize=14)\n",
        "\n",
        "plt.ylabel('True label')\n",
        "plt.xlabel('Predicted label')\n",
        "\n",
        "sns.heatmap(svc_cf, ax=ax[1][0], annot=True, cmap=plt.cm.copper)\n",
        "ax[1][0].set_title(\"Suppor Vector Classifier \\n Confusion Matrix\", fontsize=14)\n",
        "\n",
        "plt.ylabel('True label')\n",
        "plt.xlabel('Predicted label')\n",
        "\n",
        "sns.heatmap(tree_cf, ax=ax[1][1], annot=True, cmap=plt.cm.copper)\n",
        "ax[1][1].set_title(\"DecisionTree Classifier \\n Confusion Matrix\", fontsize=14)\n",
        "\n",
        "plt.ylabel('True label')\n",
        "plt.xlabel('Predicted label')\n",
        "\n",
        "\n",
        "plt.show()"
      ],
      "metadata": {
        "colab": {
          "base_uri": "https://localhost:8080/",
          "height": 747
        },
        "id": "ZPYxrmnmLK7I",
        "outputId": "8c290752-82e0-43b1-f31a-8d7b532ee0de"
      },
      "execution_count": null,
      "outputs": [
        {
          "output_type": "display_data",
          "data": {
            "image/png": "[encoded data removed]",
            "text/plain": [
              "<Figure size 1584x864 with 8 Axes>"
            ]
          },
          "metadata": {
            "needs_background": "light"
          }
        }
      ]
    },
    {
      "cell_type": "markdown",
      "source": [
        "SVM and logistic prodused similar, KNN is best here.  "
      ],
      "metadata": {
        "id": "sYcoL2B5JolR"
      }
    },
    {
      "cell_type": "markdown",
      "metadata": {
        "id": "c8bK83ofcW5e"
      },
      "source": [
        "\n",
        "####**1.2 Informative undersampling**\n",
        "\n",
        "\n",
        "\n",
        "\n",
        "\n",
        "\n",
        "\n"
      ]
    },
    {
      "cell_type": "markdown",
      "source": [
        "In informative undersampling, we follow a pre-defined selection criterion to remove the observations from majority class. Within this informative undersampling technique, we have EasyEnsemble and BalanceCascade algorithms. These algorithms produce good results and are relatively easy to follow."
      ],
      "metadata": {
        "id": "3oqkqw3-eWkg"
      }
    },
    {
      "cell_type": "markdown",
      "metadata": {
        "id": "BBogybb8eQqQ"
      },
      "source": [
        "\n",
        "#####**1.2.1 Near Miss**\n",
        "\n",
        "\n",
        "\n",
        "\n",
        "\n",
        "\n",
        "\n"
      ]
    },
    {
      "cell_type": "markdown",
      "source": [
        "There are three versions of the technique, named NearMiss-1, NearMiss-2, and NearMiss-3.\n",
        "\n",
        "NearMiss-1 selects examples from the majority class that have the smallest average distance to the three closest examples from the minority class. NearMiss-2 selects examples from the majority class that have the smallest average distance to the three furthest examples from the minority class. NearMiss-3 involves selecting a given number of majority class examples for each example in the minority class that are closest.\n",
        "\n",
        "Here, distance is determined in feature space using Euclidean distance or similar.\n",
        "\n",
        "\n",
        "*   NearMiss-1: Majority class examples with minimum average distance to three closest minority class examples.\n",
        "*   NearMiss-2: Majority class examples with minimum average distance to three furthest minority class examples.\n",
        "*   NearMiss-3: Majority class examples with minimum distance to each minority class example.\n"
      ],
      "metadata": {
        "id": "ZUWWFPnwiDh8"
      }
    },
    {
      "cell_type": "markdown",
      "metadata": {
        "id": "7q9UW7hQic-f"
      },
      "source": [
        "\n",
        "######**1.2.1.1 Near Miss 1**\n",
        "\n",
        "\n",
        "\n",
        "\n",
        "\n",
        "\n",
        "\n"
      ]
    },
    {
      "cell_type": "markdown",
      "source": [
        "NearMiss-1\n",
        "In NearMiss-1 sampling technique, we select samples from the majority class for which the average distance of the N closest samples of a minority class is smallest."
      ],
      "metadata": {
        "id": "Fkxt6MPbe4Ea"
      }
    },
    {
      "cell_type": "markdown",
      "source": [
        "![NearMiss-1.png](data:image/png;base64,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)"
      ],
      "metadata": {
        "id": "nkayqKGrfFxS"
      }
    },
    {
      "cell_type": "code",
      "execution_count": null,
      "metadata": {
        "id": "Q4sU9ZzLfiWY"
      },
      "outputs": [],
      "source": [
        "import numpy as np # linear algebra\n",
        "import pandas as pd # data processing, CSV file I/O (e.g. pd.read_csv)\n",
        "#import tensorflow as tf\n",
        "import matplotlib.pyplot as plt\n",
        "import seaborn as sns\n",
        "from sklearn.manifold import TSNE\n",
        "from sklearn.decomposition import PCA, TruncatedSVD\n",
        "import matplotlib.patches as mpatches\n",
        "import time\n",
        "\n",
        "# Classifier Libraries\n",
        "from sklearn.linear_model import LogisticRegression\n",
        "from sklearn.svm import SVC\n",
        "from sklearn.neighbors import KNeighborsClassifier\n",
        "from sklearn.tree import DecisionTreeClassifier\n",
        "from sklearn.ensemble import RandomForestClassifier\n",
        "import collections\n",
        "\n",
        "\n",
        "# Other Libraries\n",
        "from sklearn.model_selection import train_test_split\n",
        "from sklearn.pipeline import make_pipeline\n",
        "from imblearn.pipeline import make_pipeline as imbalanced_make_pipeline\n",
        "from imblearn.over_sampling import SMOTE\n",
        "from imblearn.under_sampling import NearMiss\n",
        "from imblearn.metrics import classification_report_imbalanced\n",
        "from sklearn.metrics import precision_score, recall_score, f1_score, roc_auc_score, accuracy_score, classification_report\n",
        "from collections import Counter\n",
        "from sklearn.model_selection import KFold, StratifiedKFold\n",
        "import warnings\n",
        "warnings.filterwarnings(\"ignore\")\n",
        "\n",
        "df=pd.read_csv('gdrive/My Drive/Kaggle/CreditCard/creditcard.csv')"
      ]
    },
    {
      "cell_type": "code",
      "source": [
        "from sklearn.preprocessing import StandardScaler, RobustScaler\n",
        "std_scaler = StandardScaler()\n",
        "rob_scaler = RobustScaler()\n",
        "\n",
        "df['scaled_amount'] = rob_scaler.fit_transform(df['Amount'].values.reshape(-1,1))\n",
        "df['scaled_time'] = rob_scaler.fit_transform(df['Time'].values.reshape(-1,1))\n",
        "\n",
        "df.drop(['Time','Amount'], axis=1, inplace=True)\n",
        "\n",
        "scaled_amount = df['scaled_amount']\n",
        "scaled_time = df['scaled_time']\n",
        "\n",
        "X = df.drop('Class', axis=1)\n",
        "y = df['Class']\n",
        "\n",
        "X.drop(['scaled_time'], axis=1, inplace=True)"
      ],
      "metadata": {
        "id": "4JXXIHCKfr8b"
      },
      "execution_count": null,
      "outputs": []
    },
    {
      "cell_type": "code",
      "source": [
        "\n",
        "# Undersample imbalanced dataset with NearMiss-1\n",
        "from collections import Counter\n",
        "from imblearn.under_sampling import NearMiss\n",
        "\n",
        "counter = Counter(y)\n",
        "print(counter)\n",
        "# define the undersampling method\n",
        "undersample = NearMiss(version=1, n_neighbors=3)\n",
        "# transform the dataset\n",
        "X_n1, y_n1 = undersample.fit_resample(X, y)\n",
        "# summarize the new class distribution\n",
        "counter = Counter(y_n1)\n",
        "print(counter)"
      ],
      "metadata": {
        "colab": {
          "base_uri": "https://localhost:8080/"
        },
        "id": "I7_mOYv3gB37",
        "outputId": "9bed386a-a7d8-49c0-9165-c7957ce79bab"
      },
      "execution_count": null,
      "outputs": [
        {
          "output_type": "stream",
          "name": "stdout",
          "text": [
            "Counter({0: 284315, 1: 492})\n",
            "Counter({0: 492, 1: 492})\n"
          ]
        }
      ]
    },
    {
      "cell_type": "code",
      "source": [
        "from sklearn.model_selection import train_test_split\n",
        "\n",
        "# This is explicitly used for undersampling.\n",
        "X_train, X_test, y_train, y_test = train_test_split(X_n1, y_n1, test_size=0.2, random_state=42)"
      ],
      "metadata": {
        "id": "oFHjvATxjJ-6"
      },
      "execution_count": null,
      "outputs": []
    },
    {
      "cell_type": "code",
      "source": [
        "classifiers = {\n",
        "    \"LogisiticRegression\": LogisticRegression(),\n",
        "    \"KNearest\": KNeighborsClassifier(),\n",
        "    \"Support Vector Classifier\": SVC(),\n",
        "    \"RandomForestClassifier\": RandomForestClassifier()\n",
        "}"
      ],
      "metadata": {
        "id": "Kb4ras38jOLB"
      },
      "execution_count": null,
      "outputs": []
    },
    {
      "cell_type": "code",
      "source": [
        "from sklearn.model_selection import cross_val_score\n",
        "\n",
        "for key, classifier in classifiers.items():\n",
        "    classifier.fit(X_train, y_train)\n",
        "    training_score = cross_val_score(classifier, X_train, y_train, cv=5)\n",
        "    print(\"Classifiers: \", classifier.__class__.__name__, \"Has a training score of\", round(training_score.mean(), 2) * 100, \"% accuracy score\")"
      ],
      "metadata": {
        "colab": {
          "base_uri": "https://localhost:8080/"
        },
        "id": "4_8HZ0zfjSPE",
        "outputId": "cc569be2-bca3-4cef-ceca-2e34c87c9573"
      },
      "execution_count": null,
      "outputs": [
        {
          "output_type": "stream",
          "name": "stdout",
          "text": [
            "Classifiers:  LogisticRegression Has a training score of 95.0 % accuracy score\n",
            "Classifiers:  KNeighborsClassifier Has a training score of 94.0 % accuracy score\n",
            "Classifiers:  SVC Has a training score of 93.0 % accuracy score\n",
            "Classifiers:  RandomForestClassifier Has a training score of 96.0 % accuracy score\n"
          ]
        }
      ]
    },
    {
      "cell_type": "code",
      "source": [
        "from sklearn.model_selection import GridSearchCV\n",
        "\n",
        "\n",
        "# Logistic Regression \n",
        "log_reg_params = {\"penalty\": ['l1', 'l2'], 'C': [0.001, 0.01, 0.1, 1, 10, 100, 1000]}\n",
        "\n",
        "grid_log_reg = GridSearchCV(LogisticRegression(), log_reg_params)\n",
        "grid_log_reg.fit(X_train, y_train)\n",
        "# We automatically get the logistic regression with the best parameters.\n",
        "log_reg = grid_log_reg.best_estimator_\n",
        "\n",
        "knears_params = {\"n_neighbors\": list(range(2,5,1)), 'algorithm': ['auto', 'ball_tree', 'kd_tree', 'brute']}\n",
        "\n",
        "grid_knears = GridSearchCV(KNeighborsClassifier(), knears_params)\n",
        "grid_knears.fit(X_train, y_train)\n",
        "# KNears best estimator\n",
        "knears_neighbors = grid_knears.best_estimator_\n",
        "\n",
        "# Support Vector Classifier\n",
        "svc_params = {'C': [0.5, 0.8, 1], 'kernel': ['linear']}\n",
        "grid_svc = GridSearchCV(SVC(), svc_params)\n",
        "grid_svc.fit(X_train, y_train)\n",
        "\n",
        "# SVC best estimator\n",
        "svc = grid_svc.best_estimator_\n",
        "\n",
        "# DecisionTree Classifier\n",
        "tree_params = {\"criterion\": [\"gini\", \"entropy\"], \"max_depth\": list(range(2,4,1)), \n",
        "              \"min_samples_leaf\": list(range(5,7,1))}\n",
        "grid_tree = GridSearchCV(RandomForestClassifier(), tree_params)\n",
        "grid_tree.fit(X_train, y_train)\n",
        "\n",
        "# tree best estimator\n",
        "tree_clf = grid_tree.best_estimator_"
      ],
      "metadata": {
        "id": "4VqRTjkwjW_o"
      },
      "execution_count": null,
      "outputs": []
    },
    {
      "cell_type": "markdown",
      "source": [
        "ROC_AUC Score"
      ],
      "metadata": {
        "id": "EndyQIhYNQFb"
      }
    },
    {
      "cell_type": "code",
      "source": [
        "from sklearn.metrics import roc_auc_score\n",
        "\n",
        "print('Logistic Regression: ', roc_auc_score(y_test, log_reg.predict(X_test)))\n",
        "print('KNears Neighbors: ', roc_auc_score(y_test, knears_neighbors.predict(X_test)))\n",
        "print('Support Vector Classifier: ', roc_auc_score(y_test, svc.predict(X_test)))\n",
        "print('Decision Tree Classifier: ', roc_auc_score(y_test, tree_clf.predict(X_test)))"
      ],
      "metadata": {
        "colab": {
          "base_uri": "https://localhost:8080/"
        },
        "id": "HtkqXtSNjclg",
        "outputId": "bece6ea0-e03c-4926-f77f-94e7b8776b93"
      },
      "execution_count": null,
      "outputs": [
        {
          "output_type": "stream",
          "name": "stdout",
          "text": [
            "Logistic Regression:  0.9390331890331891\n",
            "KNears Neighbors:  0.933879612451041\n",
            "Support Vector Classifier:  0.9389816532673675\n",
            "Decision Tree Classifier:  0.9388270459699032\n"
          ]
        }
      ]
    },
    {
      "cell_type": "markdown",
      "source": [
        "Logistic Regression Scores"
      ],
      "metadata": {
        "id": "AlCyQ3L6NUxo"
      }
    },
    {
      "cell_type": "code",
      "source": [
        "from sklearn.metrics import recall_score, precision_score, f1_score, accuracy_score\n",
        "print('Recall Score: {:.2f}'.format(recall_score(y_test, log_reg.predict(X_test))))\n",
        "print('Precision Score: {:.2f}'.format(precision_score(y_test, log_reg.predict(X_test))))\n",
        "print('F1 Score: {:.2f}'.format(f1_score(y_test, log_reg.predict(X_test))))\n",
        "print('Accuracy Score: {:.2f}'.format(accuracy_score(y_test, log_reg.predict(X_test))))"
      ],
      "metadata": {
        "colab": {
          "base_uri": "https://localhost:8080/"
        },
        "id": "mPEEwuhqjeDu",
        "outputId": "c21f70b2-55df-4ed7-b69d-b223360ef5f2"
      },
      "execution_count": null,
      "outputs": [
        {
          "output_type": "stream",
          "name": "stdout",
          "text": [
            "Recall Score: 0.93\n",
            "Precision Score: 0.95\n",
            "F1 Score: 0.94\n",
            "Accuracy Score: 0.94\n"
          ]
        }
      ]
    },
    {
      "cell_type": "markdown",
      "source": [
        "KNN Scores"
      ],
      "metadata": {
        "id": "CowYpfnQNeJU"
      }
    },
    {
      "cell_type": "code",
      "source": [
        "from sklearn.metrics import recall_score, precision_score, f1_score, accuracy_score\n",
        "print('Recall Score: {:.2f}'.format(recall_score(y_test, knears_neighbors.predict(X_test))))\n",
        "print('Precision Score: {:.2f}'.format(precision_score(y_test, knears_neighbors.predict(X_test))))\n",
        "print('F1 Score: {:.2f}'.format(f1_score(y_test, knears_neighbors.predict(X_test))))\n",
        "print('Accuracy Score: {:.2f}'.format(accuracy_score(y_test, knears_neighbors.predict(X_test))))"
      ],
      "metadata": {
        "colab": {
          "base_uri": "https://localhost:8080/"
        },
        "id": "6Qj2zgPOjmqb",
        "outputId": "2ee32268-28ca-42e6-97d4-645b7ca56e48"
      },
      "execution_count": null,
      "outputs": [
        {
          "output_type": "stream",
          "name": "stdout",
          "text": [
            "Recall Score: 0.91\n",
            "Precision Score: 0.96\n",
            "F1 Score: 0.93\n",
            "Accuracy Score: 0.93\n"
          ]
        }
      ]
    },
    {
      "cell_type": "markdown",
      "source": [
        "Confusion Metrix"
      ],
      "metadata": {
        "id": "pdHwb2SoNmtd"
      }
    },
    {
      "cell_type": "code",
      "source": [
        "from sklearn.metrics import confusion_matrix\n",
        "\n",
        "# Logistic Regression fitted using SMOTE technique\n",
        "y_pred_log_reg = log_reg.predict(X_test)\n",
        "\n",
        "# Other models fitted with UnderSampling\n",
        "y_pred_knear = knears_neighbors.predict(X_test)\n",
        "y_pred_svc = svc.predict(X_test)\n",
        "y_pred_tree = tree_clf.predict(X_test)\n",
        "\n",
        "\n",
        "log_reg_cf = confusion_matrix(y_test, y_pred_log_reg)\n",
        "kneighbors_cf = confusion_matrix(y_test, y_pred_knear)\n",
        "svc_cf = confusion_matrix(y_test, y_pred_svc)\n",
        "tree_cf = confusion_matrix(y_test, y_pred_tree)\n",
        "\n",
        "fig, ax = plt.subplots(2, 2,figsize=(22,12))\n",
        "\n",
        "\n",
        "sns.heatmap(log_reg_cf, ax=ax[0][0], annot=True, cmap=plt.cm.copper)\n",
        "ax[0, 0].set_title(\"Logistic Regression \\n Confusion Matrix\", fontsize=14)\n",
        "\n",
        "plt.ylabel('True label')\n",
        "plt.xlabel('Predicted label')\n",
        "\n",
        "sns.heatmap(kneighbors_cf, ax=ax[0][1], annot=True, cmap=plt.cm.copper)\n",
        "ax[0][1].set_title(\"KNearsNeighbors \\n Confusion Matrix\", fontsize=14)\n",
        "\n",
        "plt.ylabel('True label')\n",
        "plt.xlabel('Predicted label')\n",
        "\n",
        "sns.heatmap(svc_cf, ax=ax[1][0], annot=True, cmap=plt.cm.copper)\n",
        "ax[1][0].set_title(\"Suppor Vector Classifier \\n Confusion Matrix\", fontsize=14)\n",
        "\n",
        "plt.ylabel('True label')\n",
        "plt.xlabel('Predicted label')\n",
        "\n",
        "sns.heatmap(tree_cf, ax=ax[1][1], annot=True, cmap=plt.cm.copper)\n",
        "ax[1][1].set_title(\"DecisionTree Classifier \\n Confusion Matrix\", fontsize=14)\n",
        "\n",
        "plt.ylabel('True label')\n",
        "plt.xlabel('Predicted label')\n",
        "\n",
        "\n",
        "plt.show()"
      ],
      "metadata": {
        "colab": {
          "base_uri": "https://localhost:8080/",
          "height": 747
        },
        "id": "fYkny7I2jsjc",
        "outputId": "5a1b8f00-be4f-451f-b5bb-482900c90af8"
      },
      "execution_count": null,
      "outputs": [
        {
          "output_type": "display_data",
          "data": {
            "image/png": "[encoded data removed]",
            "text/plain": [
              "<Figure size 1584x864 with 8 Axes>"
            ]
          },
          "metadata": {
            "needs_background": "light"
          }
        }
      ]
    },
    {
      "cell_type": "markdown",
      "metadata": {
        "id": "3G5sQmX4j660"
      },
      "source": [
        "\n",
        "######**1.2.1.2 Near Miss 2**\n",
        "\n",
        "\n",
        "\n",
        "\n",
        "\n",
        "\n",
        "\n"
      ]
    },
    {
      "cell_type": "markdown",
      "source": [
        "In NearMiss-2 sampling technique, we select samples from the majority class for which the average distance of the N farthest samples of a minority class is smallest."
      ],
      "metadata": {
        "id": "jFaMQI-xj661"
      }
    },
    {
      "cell_type": "markdown",
      "source": [
        "![NearMiss-2.png](data:image/png;base64,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)"
      ],
      "metadata": {
        "id": "4F-ZPaIOj661"
      }
    },
    {
      "cell_type": "code",
      "execution_count": null,
      "metadata": {
        "id": "2DgBOq1-j663"
      },
      "outputs": [],
      "source": [
        "import numpy as np # linear algebra\n",
        "import pandas as pd # data processing, CSV file I/O (e.g. pd.read_csv)\n",
        "#import tensorflow as tf\n",
        "import matplotlib.pyplot as plt\n",
        "import seaborn as sns\n",
        "from sklearn.manifold import TSNE\n",
        "from sklearn.decomposition import PCA, TruncatedSVD\n",
        "import matplotlib.patches as mpatches\n",
        "import time\n",
        "\n",
        "# Classifier Libraries\n",
        "from sklearn.linear_model import LogisticRegression\n",
        "from sklearn.svm import SVC\n",
        "from sklearn.neighbors import KNeighborsClassifier\n",
        "from sklearn.tree import DecisionTreeClassifier\n",
        "from sklearn.ensemble import RandomForestClassifier\n",
        "import collections\n",
        "\n",
        "\n",
        "# Other Libraries\n",
        "from sklearn.model_selection import train_test_split\n",
        "from sklearn.pipeline import make_pipeline\n",
        "from imblearn.pipeline import make_pipeline as imbalanced_make_pipeline\n",
        "from imblearn.over_sampling import SMOTE\n",
        "from imblearn.under_sampling import NearMiss\n",
        "from imblearn.metrics import classification_report_imbalanced\n",
        "from sklearn.metrics import precision_score, recall_score, f1_score, roc_auc_score, accuracy_score, classification_report\n",
        "from collections import Counter\n",
        "from sklearn.model_selection import KFold, StratifiedKFold\n",
        "import warnings\n",
        "warnings.filterwarnings(\"ignore\")\n",
        "\n",
        "df=pd.read_csv('gdrive/My Drive/Kaggle/CreditCard/creditcard.csv')"
      ]
    },
    {
      "cell_type": "code",
      "source": [
        "from sklearn.preprocessing import StandardScaler, RobustScaler\n",
        "std_scaler = StandardScaler()\n",
        "rob_scaler = RobustScaler()\n",
        "\n",
        "df['scaled_amount'] = rob_scaler.fit_transform(df['Amount'].values.reshape(-1,1))\n",
        "df['scaled_time'] = rob_scaler.fit_transform(df['Time'].values.reshape(-1,1))\n",
        "\n",
        "df.drop(['Time','Amount'], axis=1, inplace=True)\n",
        "\n",
        "scaled_amount = df['scaled_amount']\n",
        "scaled_time = df['scaled_time']\n",
        "\n",
        "X = df.drop('Class', axis=1)\n",
        "y = df['Class']\n",
        "\n",
        "X.drop(['scaled_time'], axis=1, inplace=True)"
      ],
      "metadata": {
        "id": "XRxAIBvUj663"
      },
      "execution_count": null,
      "outputs": []
    },
    {
      "cell_type": "code",
      "source": [
        "\n",
        "# Undersample imbalanced dataset with NearMiss-1\n",
        "from collections import Counter\n",
        "from imblearn.under_sampling import NearMiss\n",
        "\n",
        "counter = Counter(y)\n",
        "print(counter)\n",
        "# define the undersampling method\n",
        "undersample = NearMiss(version=2, n_neighbors=3)\n",
        "# transform the dataset\n",
        "X_n1, y_n1 = undersample.fit_resample(X, y)\n",
        "# summarize the new class distribution\n",
        "counter = Counter(y_n1)\n",
        "print(counter)"
      ],
      "metadata": {
        "colab": {
          "base_uri": "https://localhost:8080/"
        },
        "outputId": "37f2d840-5358-4c75-f24d-07213174e26c",
        "id": "jGS43onxj664"
      },
      "execution_count": null,
      "outputs": [
        {
          "output_type": "stream",
          "name": "stdout",
          "text": [
            "Counter({0: 284315, 1: 492})\n",
            "Counter({0: 492, 1: 492})\n"
          ]
        }
      ]
    },
    {
      "cell_type": "code",
      "source": [
        "from sklearn.model_selection import train_test_split\n",
        "\n",
        "# This is explicitly used for undersampling.\n",
        "X_train, X_test, y_train, y_test = train_test_split(X_n1, y_n1, test_size=0.2, random_state=42)"
      ],
      "metadata": {
        "id": "BTqpYwIQj664"
      },
      "execution_count": null,
      "outputs": []
    },
    {
      "cell_type": "code",
      "source": [
        "classifiers = {\n",
        "    \"LogisiticRegression\": LogisticRegression(),\n",
        "    \"KNearest\": KNeighborsClassifier(),\n",
        "    \"Support Vector Classifier\": SVC(),\n",
        "    \"RandomForestClassifier\": RandomForestClassifier()\n",
        "}"
      ],
      "metadata": {
        "id": "TuLXt0k1j664"
      },
      "execution_count": null,
      "outputs": []
    },
    {
      "cell_type": "code",
      "source": [
        "from sklearn.model_selection import cross_val_score\n",
        "\n",
        "for key, classifier in classifiers.items():\n",
        "    classifier.fit(X_train, y_train)\n",
        "    training_score = cross_val_score(classifier, X_train, y_train, cv=5)\n",
        "    print(\"Classifiers: \", classifier.__class__.__name__, \"Has a training score of\", round(training_score.mean(), 2) * 100, \"% accuracy score\")"
      ],
      "metadata": {
        "colab": {
          "base_uri": "https://localhost:8080/"
        },
        "outputId": "d215c9f7-2b96-4c1d-baac-0214b3547d8f",
        "id": "VFSlPBGHj664"
      },
      "execution_count": null,
      "outputs": [
        {
          "output_type": "stream",
          "name": "stdout",
          "text": [
            "Classifiers:  LogisticRegression Has a training score of 95.0 % accuracy score\n",
            "Classifiers:  KNeighborsClassifier Has a training score of 98.0 % accuracy score\n",
            "Classifiers:  SVC Has a training score of 95.0 % accuracy score\n",
            "Classifiers:  RandomForestClassifier Has a training score of 98.0 % accuracy score\n"
          ]
        }
      ]
    },
    {
      "cell_type": "code",
      "source": [
        "from sklearn.model_selection import GridSearchCV\n",
        "\n",
        "\n",
        "# Logistic Regression \n",
        "log_reg_params = {\"penalty\": ['l1', 'l2'], 'C': [0.001, 0.01, 0.1, 1, 10, 100, 1000]}\n",
        "\n",
        "grid_log_reg = GridSearchCV(LogisticRegression(), log_reg_params)\n",
        "grid_log_reg.fit(X_train, y_train)\n",
        "# We automatically get the logistic regression with the best parameters.\n",
        "log_reg = grid_log_reg.best_estimator_\n",
        "\n",
        "knears_params = {\"n_neighbors\": list(range(2,5,1)), 'algorithm': ['auto', 'ball_tree', 'kd_tree', 'brute']}\n",
        "\n",
        "grid_knears = GridSearchCV(KNeighborsClassifier(), knears_params)\n",
        "grid_knears.fit(X_train, y_train)\n",
        "# KNears best estimator\n",
        "knears_neighbors = grid_knears.best_estimator_\n",
        "\n",
        "# Support Vector Classifier\n",
        "svc_params = {'C': [0.5, 0.8, 1], 'kernel': ['linear']}\n",
        "grid_svc = GridSearchCV(SVC(), svc_params)\n",
        "grid_svc.fit(X_train, y_train)\n",
        "\n",
        "# SVC best estimator\n",
        "svc = grid_svc.best_estimator_\n",
        "\n",
        "# DecisionTree Classifier\n",
        "tree_params = {\"criterion\": [\"gini\", \"entropy\"], \"max_depth\": list(range(2,4,1)), \n",
        "              \"min_samples_leaf\": list(range(5,7,1))}\n",
        "grid_tree = GridSearchCV(RandomForestClassifier(), tree_params)\n",
        "grid_tree.fit(X_train, y_train)\n",
        "\n",
        "# tree best estimator\n",
        "tree_clf = grid_tree.best_estimator_"
      ],
      "metadata": {
        "id": "8gKnzR3xj665"
      },
      "execution_count": null,
      "outputs": []
    },
    {
      "cell_type": "markdown",
      "source": [
        "ROC_AUC Score"
      ],
      "metadata": {
        "id": "DRAyPwsbNzov"
      }
    },
    {
      "cell_type": "code",
      "source": [
        "from sklearn.metrics import roc_auc_score\n",
        "\n",
        "print('Logistic Regression: ', roc_auc_score(y_test, log_reg.predict(X_test)))\n",
        "print('KNears Neighbors: ', roc_auc_score(y_test, knears_neighbors.predict(X_test)))\n",
        "print('Support Vector Classifier: ', roc_auc_score(y_test, svc.predict(X_test)))\n",
        "print('Random forest Classifier: ', roc_auc_score(y_test, tree_clf.predict(X_test)))"
      ],
      "metadata": {
        "colab": {
          "base_uri": "https://localhost:8080/"
        },
        "outputId": "889f2c84-df41-4815-cf66-01b24e30f5eb",
        "id": "ZmHkr6e2j666"
      },
      "execution_count": null,
      "outputs": [
        {
          "output_type": "stream",
          "name": "stdout",
          "text": [
            "Logistic Regression:  0.9238301381158524\n",
            "KNears Neighbors:  0.9846938775510203\n",
            "Support Vector Classifier:  0.923881673881674\n",
            "Random forest Classifier:  0.9747474747474748\n"
          ]
        }
      ]
    },
    {
      "cell_type": "markdown",
      "source": [
        "Logistic Regression Scores"
      ],
      "metadata": {
        "id": "GRyS9Sh4N2Ge"
      }
    },
    {
      "cell_type": "code",
      "source": [
        "from sklearn.metrics import recall_score, precision_score, f1_score, accuracy_score\n",
        "print('Recall Score: {:.2f}'.format(recall_score(y_test, log_reg.predict(X_test))))\n",
        "print('Precision Score: {:.2f}'.format(precision_score(y_test, log_reg.predict(X_test))))\n",
        "print('F1 Score: {:.2f}'.format(f1_score(y_test, log_reg.predict(X_test))))\n",
        "print('Accuracy Score: {:.2f}'.format(accuracy_score(y_test, log_reg.predict(X_test))))"
      ],
      "metadata": {
        "colab": {
          "base_uri": "https://localhost:8080/"
        },
        "outputId": "e809c7c7-8b83-4db9-aa1f-1eaa80be5684",
        "id": "zCPRIvJxj666"
      },
      "execution_count": null,
      "outputs": [
        {
          "output_type": "stream",
          "name": "stdout",
          "text": [
            "Recall Score: 0.92\n",
            "Precision Score: 0.93\n",
            "F1 Score: 0.92\n",
            "Accuracy Score: 0.92\n"
          ]
        }
      ]
    },
    {
      "cell_type": "markdown",
      "source": [
        "KNN Scores"
      ],
      "metadata": {
        "id": "Wtq_B4cwN7XH"
      }
    },
    {
      "cell_type": "code",
      "source": [
        "from sklearn.metrics import recall_score, precision_score, f1_score, accuracy_score\n",
        "print('Recall Score: {:.2f}'.format(recall_score(y_test, knears_neighbors.predict(X_test))))\n",
        "print('Precision Score: {:.2f}'.format(precision_score(y_test, knears_neighbors.predict(X_test))))\n",
        "print('F1 Score: {:.2f}'.format(f1_score(y_test, knears_neighbors.predict(X_test))))\n",
        "print('Accuracy Score: {:.2f}'.format(accuracy_score(y_test, knears_neighbors.predict(X_test))))"
      ],
      "metadata": {
        "colab": {
          "base_uri": "https://localhost:8080/"
        },
        "outputId": "a122959a-26cd-4fef-d505-19565156fcdb",
        "id": "O2DE1LPXj666"
      },
      "execution_count": null,
      "outputs": [
        {
          "output_type": "stream",
          "name": "stdout",
          "text": [
            "Recall Score: 0.97\n",
            "Precision Score: 1.00\n",
            "F1 Score: 0.98\n",
            "Accuracy Score: 0.98\n"
          ]
        }
      ]
    },
    {
      "cell_type": "markdown",
      "source": [
        "Decision Tree Scores"
      ],
      "metadata": {
        "id": "ZTAp1C3XN9y9"
      }
    },
    {
      "cell_type": "code",
      "source": [
        "from sklearn.metrics import recall_score, precision_score, f1_score, accuracy_score\n",
        "print('Recall Score: {:.2f}'.format(recall_score(y_test, grid_tree.predict(X_test))))\n",
        "print('Precision Score: {:.2f}'.format(precision_score(y_test, grid_tree.predict(X_test))))\n",
        "print('F1 Score: {:.2f}'.format(f1_score(y_test, grid_tree.predict(X_test))))\n",
        "print('Accuracy Score: {:.2f}'.format(accuracy_score(y_test, grid_tree.predict(X_test))))"
      ],
      "metadata": {
        "colab": {
          "base_uri": "https://localhost:8080/"
        },
        "id": "2hlix7hSkzp5",
        "outputId": "46f8d619-1ec0-4d2c-e681-c6a5e40d01ff"
      },
      "execution_count": null,
      "outputs": [
        {
          "output_type": "stream",
          "name": "stdout",
          "text": [
            "Recall Score: 1.00\n",
            "Precision Score: 0.95\n",
            "F1 Score: 0.98\n",
            "Accuracy Score: 0.97\n"
          ]
        }
      ]
    },
    {
      "cell_type": "markdown",
      "source": [
        "Confusion Metrix"
      ],
      "metadata": {
        "id": "miVQYm8DOCw4"
      }
    },
    {
      "cell_type": "code",
      "source": [
        "from sklearn.metrics import confusion_matrix\n",
        "\n",
        "# Logistic Regression fitted using SMOTE technique\n",
        "y_pred_log_reg = log_reg.predict(X_test)\n",
        "\n",
        "# Other models fitted with UnderSampling\n",
        "y_pred_knear = knears_neighbors.predict(X_test)\n",
        "y_pred_svc = svc.predict(X_test)\n",
        "y_pred_tree = tree_clf.predict(X_test)\n",
        "\n",
        "\n",
        "log_reg_cf = confusion_matrix(y_test, y_pred_log_reg)\n",
        "kneighbors_cf = confusion_matrix(y_test, y_pred_knear)\n",
        "svc_cf = confusion_matrix(y_test, y_pred_svc)\n",
        "tree_cf = confusion_matrix(y_test, y_pred_tree)\n",
        "\n",
        "fig, ax = plt.subplots(2, 2,figsize=(22,12))\n",
        "\n",
        "\n",
        "sns.heatmap(log_reg_cf, ax=ax[0][0], annot=True, cmap=plt.cm.copper)\n",
        "ax[0, 0].set_title(\"Logistic Regression \\n Confusion Matrix\", fontsize=14)\n",
        "\n",
        "plt.ylabel('True label')\n",
        "plt.xlabel('Predicted label')\n",
        "\n",
        "sns.heatmap(kneighbors_cf, ax=ax[0][1], annot=True, cmap=plt.cm.copper)\n",
        "ax[0][1].set_title(\"KNearsNeighbors \\n Confusion Matrix\", fontsize=14)\n",
        "\n",
        "plt.ylabel('True label')\n",
        "plt.xlabel('Predicted label')\n",
        "\n",
        "sns.heatmap(svc_cf, ax=ax[1][0], annot=True, cmap=plt.cm.copper)\n",
        "ax[1][0].set_title(\"Suppor Vector Classifier \\n Confusion Matrix\", fontsize=14)\n",
        "\n",
        "plt.ylabel('True label')\n",
        "plt.xlabel('Predicted label')\n",
        "\n",
        "sns.heatmap(tree_cf, ax=ax[1][1], annot=True, cmap=plt.cm.copper)\n",
        "ax[1][1].set_title(\"DecisionTree Classifier \\n Confusion Matrix\", fontsize=14)\n",
        "\n",
        "plt.ylabel('True label')\n",
        "plt.xlabel('Predicted label')\n",
        "\n",
        "\n",
        "plt.show()"
      ],
      "metadata": {
        "colab": {
          "base_uri": "https://localhost:8080/",
          "height": 747
        },
        "outputId": "a4379120-40b5-4a9f-955b-b8493bec7737",
        "id": "ijmOb7ltj666"
      },
      "execution_count": null,
      "outputs": [
        {
          "output_type": "display_data",
          "data": {
            "image/png": "[encoded data removed]",
            "text/plain": [
              "<Figure size 1584x864 with 8 Axes>"
            ]
          },
          "metadata": {
            "needs_background": "light"
          }
        }
      ]
    },
    {
      "cell_type": "markdown",
      "metadata": {
        "id": "9K8EKH-glf31"
      },
      "source": [
        "\n",
        "#####**1.2.2 Tomek links**\n",
        "\n",
        "\n",
        "\n",
        "\n",
        "\n",
        "\n",
        "\n"
      ]
    },
    {
      "cell_type": "markdown",
      "source": [
        "A Tomeks link can be defined as the set of two observations of different classes which are nearest neighbours of each other."
      ],
      "metadata": {
        "id": "WZ9bD5Q4lf32"
      }
    },
    {
      "cell_type": "markdown",
      "source": [
        "![Tomek links.png](data:image/png;base64,/9j/4AAQSkZJRgABAQAAAQABAAD/2wBDAAIBAQEBAQIBAQECAgICAgQDAgICAgUEBAMEBgUGBgYFBgYGBwkIBgcJBwYGCAsICQoKCgoKBggLDAsKDAkKCgr/2wBDAQICAgICAgUDAwUKBwYHCgoKCgoKCgoKCgoKCgoKCgoKCgoKCgoKCgoKCgoKCgoKCgoKCgoKCgoKCgoKCgoKCgr/wgARCAHfAn4DASIAAhEBAxEB/8QAHQABAAMBAQEBAQEAAAAAAAAAAAYHCAUJBAMCAf/EABwBAQACAwEBAQAAAAAAAAAAAAAEBQMGBwIBCP/aAAwDAQACEAMQAAAB38AAAAAAAAAAAAAAAAAAAAAAAAAAAAAAAAAAAAAAAAAAAAAAAAAAAAAAAAAAAAAAAAAAAAAAAAAAAAAAAAAA+CqJcS5lMyTJisIQLAAAARXJjlQx5D5OPkxSMir7KhjyCK5McqGPIAAAAAAAAAAAAAAAAAAAAAAAAAAB+XF773jyvoiiPr2rVO3a39UBX2NuRKDTCXD7cq5dXxpN5VhXVlSI9w0AqbPg1XNKKvahv41WVm1lMh3lXNjZ4jSbghsRuGRG/Cpfk4dnWaH6maborLSJ2JSti549nDXdkAAAAAAAAAAAAAAAAAAAAAAAAAAzR9ly9u/1/mULLLT8+qQklhfT59fHTl/8aPnz5b8nrSfB7Vd6N4kWTnzUnA62LNxKR0VWubDIalnMpyY6h0PHpFBm54+S8FjX0jZE94keREqnn9hTYMqGtbOAAAAAAAAAAAAAAAAAAAAAAAAAAAAAAAAAAAAAAAAAAAAAAAAAAAAAAAAAAAAAAAABF0oEXSgRdKBF0oEXSgRdKBF0oEXSgRdKBF0oEXSgRdKBF0oEXSgRdKBF0oEXSgRdKBF0oEXSgRdKBF0oEXSgRdKBF0oEXSgRdKBF0oEXSgRdKBF0oEXSgRdKBF0oEXSgRf6e+AAAAAAAAAAAAAAAAAAAAAAAAAAAAAAAAAAAAAAAAAAAAAAAAAAAAAAAAAAAACDzc/2P/J5y7Hrfpx9uFd1QZwVVsAAAAAAAAAAAAAAAAAAAAAAAAAAAAAAAAAAABFKd0bFjqYdu3RVvT5j04RZQQpz8/wBM0TYN1S3yz2vf0F6jU9tAAAAAAAAAAAAAAAAAAAAAAAAAAAAAAAAVRa+d7Orztsbz+2jumk2NV1gQTmHQO38WT+DuWj7zs6lrp03dFSW2n5vPnYtgrapCivkY+Dzt2XWfTv7cQ7errEKu1AAAAAAAAAAAAAAAAAAAAAAAAAAAAAf5/ojHyzGrcULKHA/KsdQ/Tugf519nDpX5OuC5eH3KK3DPKyHB/hg3WOR+mv7c7o8p61xsQ73W1RnDR5DmBDmgAAAAAAAAAAAAAAAAAAAAAAAAAACnscuUS/yF1NTdK28L3lSHTGMsED+OG6Dy1sEqbWNGxLG8n55ys8OkVYWfgz/D8vYY8gefeP4Xz4V1nkfpn+3w/dyfrQfPQAAAAAAAAAAAAAAAAAAAAAAAAAAhvnLMoh2et89ebWodCIG3hZaSy/qDhWFd5oa9XxtOqdejbyonRt8nHnj6l0Bt2n0Lvqv7ArLMKS9A+H5+s9eA8++L8uFIhvOienz4fu0feQ+egAAAAAAAAAAAAAAAAAAAAAAAI55Tet3n/Q9Z5vpBkvWMqh/tXNiWOl/0PeBwu7VeCN88F5uI6Hpm/wCOUboXZObW7OKEnXmFYJE80+WMtaKmwu2K+x4vxYZhm86H6gOf0NH3rJkX222HXfz/AENd2MH0AAAAAAAAAAAAAAAAAAAAAAAABlvUlVRL/wA0N0522tR9Ws4bPwrj1xlqvt20DVWddzwrmHX87VfqWOb1y2GamgWhK7P0Mqar4P2580dh/wAX1s+rdIaPveUojttsWufn+hruxA+gAAAAAAAAAAAAAAAAAAAAAAAAAAAADg+fOfarumhp9fuKpu9n6pl7X/epbU9v2hn9ec+16/6a9TCm64FgFTbgAcLB+3POvfNB1Rp3Fu0qO9DX9hAAAAAAAAAAAAAAAAAAAAAAAAAGdsNholi3ZniX+x8cij+yrPpiMOvr3Gt6cKl7XHbA0bkHrHAtIWpnnQlLAszFO6Hy7zlo0iy1LXTm+RGzptHz+3Fuel3SOcdJcrqvvn8/0PnoAAAAAAAAAAAAAAAAAAAAAAAAAB5memcMgbZ5Xeq8Pt2PbxOve9FMvPaM7uTOpU909Hc/Q2v+q/j3b368y9tF3Wp7P+lIsQy5ylona1OlRVW3I6568qRu7NdnV542n5+bm3HTLlHOekgAAAAAAAAAAAAAAAAAAAAAAAAAAAfxT9xsMfLnUu3Okad06q0709l0uO3CUmz48gH2V717lPpZ9nM6fKOtecsO9BI90TnNn9k530dBf687Nl1j036mGNz11lyesVdqHn0AAAAAAAAAAAAAAAAAAAAAAAAAAAAOT589aju3nrDG22q78/Pm1UckciV+Pz/c9/Q+eikolbVGmhU2/MxfuNa1OfdBEWWESWAAAAAAAAAAAAAAAAAAAAAAAAAAAAB8Oc74pSu9ZBsSiLkov0NZMI/GK/of8N7Muqir2470v/RJsQPOaG+g8f6Lzey+yc86MHn0AAAAAAAAAAAAAAAAAAAAAAAAAAAAAAAgM+Y8VMxPSVe4MVfSD9Lf9Y+N2TPM4HKxPBd+0L1GcXtaLvoefQAAAAAAAAAAAAAAAAAAAAAAAAAAAAAAAAADldUVZaYAZrgmz1/r/wCX6lBsAAAAAAAAAAAAAAAAAAAAAAAAAAAAAAAAAAAAAAAAAAAAAAAAAAAAAAAAAAAAAAAAAAAAAAAAAAAAAAAAAAAAAAAAAAAAAAAAAAAAAAAAAAAAAAAAAAAAAAAAAAAAAAAAAAAAAAAAAAAAAAAAAAAAAAAAAAAAAAAAAAAAAAAAAAAAAAAAAAAAAAAAAAAAAAAAAAAAAAAAAAAAAAAAAAAAAAD4Pv4pzpXG5IAAAAAAAAAAAAAAAAAAAAAAAAAAAAAAAAAAAAAAAAAAf//EADEQAAICAQQBAwIDBwUAAAAAAAUGBAcDAAECFggQIFA2YBMXNxEUFTAxcIAnNDU4kP/aAAgBAQABBQL/ACUKEowcb+fNe6/PmvdK1nKriR/kq7iEb8fpPm4BsFXaRDeN00uIROwevFxCc2r5jNhwyMXVFfVBCBJLXOIsLODN5BIeOSAYgzQPl2SpDyEG+USbPZLlS1qcpOq+6w2JnCKkCJf6FJkxZUabH8fv9kYf10Ka05fSHj59CasWYkQobO2hlGOxXOlrk9Tdl50ix/8AsQ0uAFOhwy0aWLnX6hw5Sq5L7nD+W8ddXjnkFi8FfCDRafH4pN0jAUA7ft+joedGrRfGBUmsouAXbTaYXy1xmXmnDwnx6KZcwhRsLOnBaRChcwbTl9IePn0JryH/AOG8jN9+KyqrQ9ZAoUKMJu9oaYaddVbfgWG72mOJlUKsLHr4SuJqWrjDny3jrq8Y8kUVgs6+RFpsjZ3udS/X29/08TfpBC/Wg5hDqt1F8FYhBVVlo7AFoEdBybRuXOmbH/rpy+kKQbFkKm/mGi68gc2GSv8Akd9L6VP1+5wYc/yGtgLOUWA7YeGAiwsdd2UGQ8MEJcnyy6nrinqdBhkomagkDLJBgA61AiKgCCfPL4hmHQ4kcfDgKgAYaYlgG1QYtBoEaTGjR4UdfVACtwYlYC2RIUOOOhzIkchD/JWs9fkrWeiySsHBzGqAG2LqIqAIJ/iqAOLFOgxCcMOnLgEVLoJBk51dLXE6P/dTrGusa6xrrGusa6xrrGusa6xrrGusa6xrrGusa6xrrGusa6xrrGusa6xrrGusa6xrrGusa6xrrGusa6xrrGusa6xrrGusa6xrrGusa6xrrGusa6xrrGusa6xrrGusa6xrrGusa6xrrGusa6xrrGusa6xrrGusa6xrrGusa6xrrGusa6xrrGusa6xrrGusahgf3SR/g2Ra1kRIgEYBSP8AZbfYyiiS9t9t9ngxJAKUmTImSKRYSAl2+y3RLXn9fCsAjx/FlxcJgEHqaeg8+oKkLBinsyZMeHHjfErLn+xnJNAPq+Ha1+jMnu8ijxGHE1QbAQMKn2HbNgZUQLxs5/4zKteuT0vP6Ev2QtQrQVKtLknxvyRhJBxYMo5uYhBj0tmusj2LxVLYeWVWyPwRF71JuimGkwCMArG+e8hl0iUD6oBbnh1tnbp+xNm8fALYJenzI4uUCfMFzLFIbmKj99jHJa2k5s2WRlodgnj3X57fbbltxSk/hJeGTIrgXewzKfIULyfFsndVVR8JVKqFna+eXHHbm71ti3Tv8bVLhcV8jHkYZcfTAEhsYUzTL4KnU9U5Ncn/AGA1fsz2RdqiTWXwSJInSO6cPkV7TOayN0pdXhiuJ9bXWyIB0Eip5wiIgfwoV8+SstCETYc2IRjerkrc2WHMYzvOKKmzoXLorEz7r+DGoeVHsIDBxbAMXwQXf0te3D/I4pXC3rxHBnwysHzV6MpRYr3XjAyEsbD6tbWIThHHyUj/AI62xi2oRos/nId/ZcuLBiM+RguHPr+0gz77rWXCQB1DhyB4kMhbDRvzT0nwXpZJUTZw6bSNQy0Lj6+SnHP+768cOEvYFqD0A3fNo8ZXOvtUxwk87G9s8aOK4BoIIG9TTEDXMANvWWTn8qdsFKWpYU6HYoPuYlwQ1C+HjgB2lgwYxcGaqxBLAnbfbbfY549rRGcj1uvomL+TZpkgZeBhKaHIDJe88b8m3k5ARUly5U+TRLGRBWJ7mNiGKwv/AFIY8HCRVkqVYijJUkWl1ayUCtV19EnZnvNsYJbjgnNWZcvpaFMnJJxRo1rJlMWPHhx/Jkh8YsOZ/Hx+Dk6Vo8uAM5MmPDj2tytd5fHlx58fVk48JVneUZ8kPDaULbdcWI15GD4hAMzKN1REQ6Ul+ji4iEkRw8lOP4y6wDGgR6WeanmngeQmCpombuSFfNeULESGg9eMTFPJrXoaPhl2IZJLFkYHYfGt8Tjoi0ectHAgJAPVN45OSxlbPjO2JryT4Z/xteOWOTxWvS0aZNTDSnRjYTJ4sWPBi+atqtsdjr+1D2lvLqmu8VcrfpbB4gceYsqRCkcAoSw1RlwNVagaZDuNdJ52pmAwQUKRMD8YsUOCQNMa2IaxeLxxXuMoSJHgh32Ja1NlCpcPU5jkSFGFfaNfaa12IFixsEKN6GrCS16YINCT0P3sx6KrgDNoPRqdS9pFzJP5xlYYCsGbJZCKBg22hwZC6Cqd9AU3XxZmZu3tCdzjyMErBYBmYvpuTJkzZKPNzxr3739fztKfKiyYMihFcjOavnLT34x4/lbik8omgdkNa8CLWc9lpNP2eWJlV/BuiupgVDOizlGvQ6fUdRT1sh6XJYcxLG4rDesMmrHfm8LfrPBhCvPHjx4cfy1tXrjRSC15RF+ROPnwysGps+CNwZrervFlc7sqiIvORa0BY9rV1YBCT6yL8ajnj5ouZSKwQItg+bjebC9vkGrEycLbbflvRquQXVT5u5xs4bZWkMfLEpTmy7qwScsAV0Tm8nGjBlMlpvkeIdVmrYsWMIBwSQHA7FRc5SsU1viq/edjhw4g+N7sQAFgl+lzWJNToGGwnrBIq525vC18u4ICs9RlekK/UyOrU4ZY4vyAi5z1XaUY+XNZ9rHJ5t6jyM8OQqyOYpr9ti3GPS5at5CxiBL2+QaoTJR+PHlz5UgrEFtS+ayY8ebHuEY6+3h1xRLqQeDeWpDtq00SNF4VRmIGVSi5mhh1bdrnch9btd0AEh83ASgasTBKjvW22/Lddwy46/6GrLRl6YINCT8PWIEDwSvnTqktM3CzUWr1wt+WkrnoXWKcMlelvKRFdbwwUmwEQo7iHD6d6vW3nksUapLpH0skzMX0fly5c+VFmZo97+wLqQSzvy9mePgl4YQ0cN29xgTDOijVEPcCbUtRy1SZ88aOh12Dxdm1g15LjLE3SN120cOtz1mANLjUDa4vtse5ISZMVfIXHOJfYRIhGEjjRPkGVptmWFPlbeQ7yMriyrfOkpy9aToBJOn7rDGcd9uW3ssSPKjPe22/Lddwy4y/9gtwjIfV2SDmtSoJEeREzqCQIiojwtch2YMFKMBAxjxnIf8AT2utZLTzpYpBRWyP2GwoeAmRkcHqHktY4ZcK6STbngQ46U4GNgS+GWR+j7QAVowCw0xok/ZNtQ+c+rqD2kcae9bSNTTb3HkZ4mdcIZSy99kHeRLiEpoo9GUD1tKl554ssUC0TZ+HDij4f/T6dLzRtYWnDKlfZxkbKJ45AabJ2/tL/8QAQREAAQIDBQQHBQUGBwEAAAAAAQIDBAURAAYSITETQVFhEBQicYGhsQcyQJHwFVDB0eEgIzOCkvE2QlJgcHKygP/aAAgBAwEBPwH/AGlER8FCKAecCa8TZuay15YQh5JJ5/sqdbS4EE5nTnToLzQdDZPaO6zrrbDZW4aAdDjrbVMZpU0Hf8apptfvCtpa+3A3bREBAKs6d5WQLGImcC811lSVJWcOQphJ03mosqYTZcK9EoKQG1Kyp7wSeNcrJi5k0+wp0pwu5UA93KozrnzysubPvvObJ5tsIJACtVEeIoOFnpswtcHHOZCjnzoBQeOlpa/ERUPt3KUVmANw5nebP/4hZ/6K9RacvGHljjgANOOY1sqImMRMXYZkhISEmpFdd1Ki0THqcgmXYmgKHqE7uziztCzGIioV2MSOwAcKf8xpx7+FpdHR0UpCw6hYV7wGRT55+I+Mak7okYglq7Q3jSuLELdWmcc811oJSlBxZGuIjTcKCwlj4lr8PUVWVkfzaVys/AuuGGoR+7NT/SRlbqEdCOuBhCFpWSQVapJ13GosJa9toZaiDs8Vd1SRuAFLS+CdgFuNgjZE1TxFdR3cLR0JHqmCImGw9kEdqu/uBtEw02joFxh7AK6UKuO+osxCONTB586LCafy1/O32Q+W0pJGT208Knlr9Vt9nxTES6qGUEpcFe5fEDTPfYS+PiYlpbzaElBqVJ1Vy0GR31/4kn0/+xylCUYlKtJpqmbwm1AoQaEfc82kkJNwNrUEbxaXy+HlkMGWdPXomMaiXQS4hQrh/taSXn+1IrYOIwndT7inLsSxK3Vw/vAf3+QtdSOmT0ywKUVIoa1Nac/nbbqccKGhpqdwP4nj62jbwrhZgWXUqIB/1FJ7wBTwraFcO0U3ixCgIPI1/K0VDMxkOpl0VSbSu70DKnS6ipVz3dE+vD9kLS2hGJRz8LSeaJm0HtgKGtCOf3BEgMMHZChJA/qIFfO0gu9dRN1WkpaQWyipUaV07RKtQQflacySUvR+2USrclOXaFct1e/PLkLQzKm0lS/eOv5Du/XojZlOUzdXbUFBWQ9BT6rZOIpGLW01kkHN6F2oI3i0BAQ8uhgyzp8bAQbkwjW4VvVagkeJpa8Ps3RKZQuLYeKijMgilRvp0RGx2Ctr7u+0DM0RyVMQ0YojeNPUZ99LNQzTJqNeJzPztGzGClyQqIXhr9brQ8QxFtB1lVUm2zQV4qZ9EZMZymcK7SgsKyHoKcPWycWEV1+MZYeiF4GklR5Ctm3IiCiQtNUrQa8wRacX9nc6l/U3cKUn3sIzV5ny6JtBKmEvch0mhP51td27sfAx/WIjKld+v6dF55JFzNaHYfMjKlrvyx6VwGzdPaJr3dOBBXipn0P3y2UcUBvsA0599gQoVHxXsxm0ogC+3ErCFqpQqyqBur9V8Le0OYyyZT3HBkKokBShoT+NBQV/Kz8LFQ1NsgprxBHr0RTq2mqp1JA+Zpa6nsvhJ9KRHRjyu1Wm/Q0qRpqNABa8sHA3UjXIOIdwYVaiufA0z3HMbrQccHgntBSVe6ob+RG4/WVnHG2WytZoBaCm0vmKimHXUjvHr0P3yLUcUBvsA0599kqCk1FnbrSt2M6wQda03fGXXi4GBn8O/GD92k58ssj4Gh8Le0OeyGLkOwacS44ogpwmtOJy0yy8eiPvaBFLY2VWwac8t44crXev7eK7kB1doB1o5pJGYryqPxz3C18kRt4YzroxKcNa9lW87sqWu9LIqEhkodFO1i8aUp3cefK02glTGXLh0mhP4Gtru3djoGO6xEZUrlXX9Oh260rejOsEHjTd9wLWltJUrQWgfZvM7zuqj4GEJRXOqgkE9xz8K15WWiYQrim3mxVOVAc6jdQgetmYht6oGRG46/XPS14J+qUKS22mqjnnpS0lmgm8HtqUIND+xfKJj2nG0oJDZG7ja7D0Y/KgqIzzNCd4+q/FyuVR05ixDQiMSj6cSdwtOrvTW77qURiKYtDqD/axIAqbPxEJEtlpDqcR0zGtrje0KRS+SCCijRaK6Z1qa/jThpnb2ozuMmc4MU1VDbh3cshXnQV762kT0U9L2lPe/i7PEpyxeFK+XK00ksHNgNtUEbxraBgYeXQ4ZZGVp25FNSp1UP71Pxz8rXRipg5MCnESimdfLx6FJSsUUK/GXNvE1dual91OJCk4TTUZg1Hytfm+EJeMNMwqSEIzqdSf087SqBhpteBqFij2CpA8FHM8K7hwtfS6N3pfdtyIhmcCm8NCCd6gM66699pnPocx5SlkUSddFd/D5i0KwzFsdonn2lU4jU7wQeVmYZljNAz+Z+Zz6HJ5Kmorq63Ri8fXToSlKPdFp45FNSp1UP73Lvz8rXRiZg5HlJUSimdfLx+OeYS7RVaKGhH15WiJzeGLaSzFulxCdO0f/Jr62fu7DxcZt9lQnM1Vl8gK+YtDs7BFK1JzNphGzlM5V2lBeLIelBw9bIxYBi1tFXRj3JgooIwE1r+nGyE4EBPC14LwLlC0ttJqo556UtJZoJtBbalDWh77JSlOg+OUpKE1UcrIi0Oq7CSRxpl508rdcw/xG1Dwr/5JshaHE4kGothTirTPocnsqZiurrc7Wm/106JpJYKbAbatRvGtoKCh5fDhlkUA+PlzcDEXhhmo7+DUV4e8K17h613WvzL5A1dhayhCSKbOgANeApu48s91pjFzhM5V2lBeLIelBw9bQdS8sjTKvDFnip5dMVdCPcmCihQwE1rv+XGyE4EhPD7hdZbeThWLFmJoAHlUHGh/CxgtoaurKvkPQA+dkpShOFIoLRN8nWY4oQ2C2DTmfrushQWgKG/7nfuzKoiL6wpJqcyK5H/4E//EAD8RAAECBAMDCQYFAQkBAAAAAAECAwAEBRESITEGE0EQFCIyUWFxofBAgZGxwdEVI1Dh8SA2QmBicHKAgqKS/9oACAECAQE/Af8ACUvIzk2kllsq8BDlKqTKCtbSgB3f0pacUgrAyGvv5A06Wi4B0Rxhppx5wIbFyeRDTjt8AvYXPh7alxxHVNoqTC57aNbBWQnK/gEAmBL02eZd5slSVIGLM3xAa8MjCZClJmmZZYUS4E536pUPDOFSlOdYfS0FYms7k9bOxytl3ZwilMMMt71lxwrAJKdEg+43PbDNJfSickm8zdv4Xvc+7WKixLyr+4bvdORJ4nuHAQx/Z97/AHp+RijsiYqTbZJF+zI6QmXp8vT2pl4FRUVC17ad9jEvIJbnHmpa5C2bjt6VsomadLy0y3KKPTJGJX90X7PDtioyUjKpWgtrQR1Scwry+R9sdq7X42Z1CeieB1thwmOcU2SZd5sVKUsYcxbCDrxNzBqTBqLExY2QEX/66wzOtNiYuD+YLD/6Bzjn0lNNtl9a0KQADh0UBpxFjBqLW5mUpBG8w242APEk3ifnGp5CHCPzQLK7DbQ+PbElNyCZBctM4ukQejbh4kRLTNKkZ1t9nGba3CezhnD8027T2WBqjFf32+0fizAcUoXza3fvsO/T1aOfyr0s0mYSVKbNvFHYTrlwg1CQl5Z1DLi1BYsEnRPfqcxwt/pJQqD+LhS1LwpEVilqpM3uibg5g/o9KrU3SSd3Yg8DFQn5ipTBee1+XJT5JdQnES6TbF/MVrZr8Mld+2vEOP6FR2pZ6ptImOqT/HnG1UjTmadjSkJVcWsLX7vhG+K1lDfx4D7xJbFInaeHzMEqI4aeGVvXbCA40+thZvht9cvKJWZek30vNGyhFT2gnao0Gl2Ce7jyULZ/8XQpxa8KRl74rFMVSpzck3GoPd+gTjzxa62eQHdc2h16bZmsKSRY5D16MS2087TJLcoAur437s7ermGULTdS+sdeSSp1HVSE9FJSU5nj3m/q0KwhRtpFKrc3SbhqxB4GJ6emKjMF57X211wNNlZ4RKVgvvhtSbX5NwZr8oC94nKDVJABcxcDt6J84bYbaNxr28Yk6dO1BRTLoxW9cYmJd+VdLbqbKEY1hGG+XJJ06jqpCeinAU5n5m/b8oVbFl7YpSUC5MEIcRY5gxL0uWl3d4OSlTiafUEPqFwP4jaHaGRnZHcMZ3tw0/fk2ZrcpTULafyBzvFfqTVUnt40OiBbx5ca8GG+XIxsdvZILLnTIv3eEEFJsfaq0xMO4SgXAiksvMytnIStC+qb8kw4ptvo65D4m0Ts0iXf3ZGMjW5+mkUulv1dm8mg9uRtb45Q61NyEzzeaFj69ZZGG23HnAhAuTE5SqhT0hUwiwPh9ORjY4OyQWXOmRfuhSSlVjDW1FTak+bi3Zfj7ZOoddlVJb1iky003NYiLDkZ2Mbm6cFOOdJQv3d0TlNJe/OBJGVxa/vH1HwjZbaKm0dlTDqVAcDgUfpFfqQrlSS62nChGl9Trw4DPxikzqafUETChcD7WjaHaGSnpLcS+d+7Tka2nqjMnzcEdl+P6ApSUJxHSBtxUpOVEsMIyyKr4reAv5wlyYUMRAPgfv8AeGnkO5DXs4xQKCmrJU44qyRllrFZpZpM5ur3BFx/RsfLyLrbilgFy/HsjaZmUYqhTL5ZC4HA+re1vPtS7eNw5RLTbE0LtmCQBnDz0u+gtpWLnv4xOSa5yZxtEG+ovp+0bCSMkiXUlyylp7ezujbFqRYqyRLWCsrgf+v/ADme+KZWZykk7qxB4GJ6emKjMF545xRW5V2qNJmOrf8AjzjayVp7cgFYQF3yt5+7kSpSDdJ9sqEoqcYwpOYimU9cndSzmYmM1OFQvhFwPrFNn5pybCFG4MN7ASU7IpdUrC6RcW0Hj2wywpClJKlBSTY2UfvCGW2zcDPt1Px5G6JVHZXnCW+j7vlryKUpfWMURuVdqjaZjq9/hl5xtbLU9uRCsIC75W8/d7c6yHM9COMNMrYXcIT4jI/D94Y2przMnzdtIHAE6j4Q03uxmbk5kxISdHVR09FJRhzPzue35QvDjOHSJXa2Qbp6QsHGBa3rhC1Y1FUUCgIqyFOOqskZZa3is0w0mc3N7i1x4QpSlan25SgkXMJmUuHoAnvtl5/SOc4eugjz+RMJWlacSTcRiVa3I3Q6o7K84S30deHy15KZWZ2lE7m1jwOkTs7MVCYLzxufb5zEpdv8pI8f24RTHZozoFye2KdKUhVHT0UlGHM/O57flCN3zt3ddT6538rX7+WV2tkW5BIWk4wLW9cIWrGoq/QXG0OpsoQJdxPVcPl9o3ClCy1kjs0HlaEpSkWES2x7TsiFrcOMi/cPXjC0lCik8P0dnaWqMSnN0qFhkDbMf8BP/8QAVxAAAQMCAgQICAkFDAoDAQAAAQIDBAURABIGEyExFCI2QVFhlOEHEBUjMnGBoSAzQlBSYGKRwRY0dLHwMFNyc3WCkqKys8LRFyRDRHCAg6TS8ZDD0/L/2gAIAQEABj8C/wCZR+qzSQ1HaLjhSL7Bj87k9mOPzuT2Y4VSqI+8p1LRcIWyU7AQPx/cn3KK4tQjOZHc7eXb43qjKJ1bDSnHLDmAucGq0Va1MhwoutGXaP8A34mZFbccSl9zI3q28234CtDg4vhqW85Tq+La19/zypiQ0laFiy0LFwRjk3A7Gj/LFZ8o0uO/kebya5kKy+nuvhysGFChIbR5x9LKUWT6xjUIbnuJv8ciOMvvVf3YFToc5L7RNiRvSegjmxOps6eWXKcgKklaNnNu6TtwmCvhccKNg/IZAR7iSMKprrr8p1v40Q2woI9ZJAwqXQ5JVqzZ1pxNlo9Yx5Rrs5LLd7J5ys9AHPjg7vDWE3+OdjjL/VJPuwiXDfS404nM24g3Chisfp/4YZ0ceecdmvejHjNZ1D19Hiqv8mv/AN2cL/T3P1J8UVem8PXNF+0cZCbLt1YZk1lxaUvvapvIjNxsLprjkiU60bPcDbCgg9BJIwqVQpebV/GtLTZaPWMP/oH/ANacJm12ZqwtWVtCRdS/UMJrCgthlTes/wBZTkKU9JvuwY7XDJABtrWGBl/rEHCplCmZ8hs62pNlI9Y+d65/Htf48ULQlp5SG50oF63WoJH3XVgUWHTGUxQjLqdWLK9fTibopT7phTWc7bXMOLnH3cYYqaakwl1EVvXhtYuCoBtI/tY4athOtjyUapdtovsIxAbixUBUmIh2QvLtcUpNzfp340ipsJAbYSklLadw44/zwWNNJiUUylt2bbcSSlarA2sOs/cnCqLUKvGLCk2SBGXxOtPF2HFRohkaxqFJBYV9ld//ABv7cVaBSIqnajKlqU1xLhpABus4VphwozKnKcUJb73pNm/o/jfn8VV/k1/+7OF/p7n6k+Kmfp/+HEBSTYif/gVhmkRI6RZsa9VtriucnpxXabT2w2wIalBpO4XU0fxOJlcmtqWEQAENo3rUW02GJlc01dK58KxjU1xFkNC/Qfonm6TfFRhUhClvqbSQhG9QCgSPuvhjR+o5YEltOWTrmNjqunMPxxK0u0Xq2tampKSywtJZTcg7Lftt+d65/Htf48UPTdlkrbgygHrfwgpP6jgVqLWI5jFGYul0AJ9fRibpdTwTChM5G3bb+LkH38Y4r36Af1s4f/SGv7WKV/JrH92MaSfxZ/tJw5O0rgsuU6qsebcktBSEKsnbt+0n2BWFVidSqOGUozJKYzRz9Sdm3Dtbi6JRqUh17IgR0jzwTz7EjnJH34rE9yIhT3CtVrFJ25OjBiOEih1c8Qnc1/8AyT/ROLjFV/k1/wDuzhUOr16LGd4atWreeCTayduOV1P7UnFJkR3AtDk3MhaTsIKd+IP6f/gV4q7+gf8A44WmZHS4G4iXEBY3KDYscRvCno43xm3Ame2Nyua56iOKfZhGnVGgcNZVkJb1uXKCbG+w7jsw1WZ9NgOOONAvgkaxpXOkqFjh+i6FzVPUwsK4QA5mSOL089lWF+v53f8AIFO1HCVAvedWrNa/0ienC4FQjIeZdTZxtwXBGNelExtN/iUSOL7xf34TTKJBQwynblTznpJ5zh/SiLAyzpKMj7+tVxhs5r2+SMGlVuJrmFKBKM6k7R/BOGoERvK0w2G2k3vZIFhiTpDBgZJksWkPa1Rzewmw3Y8nV2Al9u9032FJ6QebHCHG5bwB+KdkcX3AHCIkRhLbTacqG0JsEjDzdBgagSHM7vnVKuf5xOEwdIKeJDaF50jOU2PrSQcNwIiSGmUBDYUsqsB1nbh2BLbzNPtlt1N7XSRY45Nf949/545Nf949/wCeI1JqlM1seHbgzeuWMlhYbjt2YRD0ggcIbbXnQnWqTY7vkkeJ/SiLAyzpLeR9/Wq4w2c17fJGDpWIH+vqbyF/Wq3WtuvbDtPnsBxl5BQ62rnBw7Q6ZTcsR4nWsOOKcSbix9InBebTMYBPxbUji/1gThTFBp4bK/jHVHMtfrP/ABV5QVTtfdjlBVO192OUFU7X3Y5QVTtfdjlBVO192OUFU7X3Y5QVTtfdjlBVO192OUFU7X3Y5QVTtfdjlBVO192OUFU7X3Y5QVTtfdjlBVO192OUFU7X3Y5QVTtfdjlBVO192OUFU7X3Y5QVTtfdjlBVO192OUFU7X3Y5QVTtfdjlBVO192OUFU7X3Y5QVTtfdjlBVO192OUFU7X3Y5QVTtfdjlBVO192OUFU7X3Y5QVTtfdjlBVO192OUFU7X3Y5QVTtfdjlBVO192OUFU7X3Y5QVTtfdjlBVO192OUFU7X3Y5QVTtfdjlBVO192OUFU7X3Y5QVTtfdjlBVO192OUFU7X3Y5QVTtfdjlBVO192OUFU7X3Y5QVTtfdjlBVO192OUFU7X3Y5QVTtfdjlBVO192OUFU7X3Y5QVTtfdjlBVO192OUFU7X3Y5QVTtfdjlBVO192OUFU7X3Y5QVTtfdjlBVO192OUFU7X3Y5QVTtfdjlBVO192OUFU7X3Y5QVTtfdjlBVO192OUFU7X3Y5QVTtfdjlBVO192EyPLM9zL8h6TdJ/5HOCVXSCHHd/e3pKUn7sCZTZrUho7nGXAoe76mU+JpTVBFNTfLUZaknLcc6juSN23rxcYn1iF8cxHJaJ5lbgcLly3lOOurKnHFm5UTz4YpjDp1E66H2r7NxIPr+pj2jWksIPR3hv8AlNq5lpPMRijaAad6VTJvDZDiIVSej5WYzQ9BCl/d02vzJAw/SZvGYlNFCig8x5xhUaNSVzWr+bkRtoUPVzYRpTpO0GVNoPBYt7qBPyldGzm+Cp55wJSkXUpRsAMcGb0qgFZNgnhSd/1Hf0Z0lhB6M+P5yFcyknmIxQfBLpNV6hJEllXB61NbAZSc3FavzdH2eLzHZ8KDQor5QxKzrkBJ9PLaw9XidgT3M/AHtWysnbktsT7PqI35PbBmTFKTHK9yAN6uveNnXjh35Vy8+fNYucT+jut1YMuWhCJcdzVyUo3HoV7fwOHtGdIo+ZtwXadHpsr5lp68RvBDpDIqhch0xsxKlMaz8NP0U5d/QPURzbeGxKFCo0RR4kvSKTlUr/pJ239uCmkeFmivPAXMZinAj+1fDFA09psdoy15IVShKOodX9AhW1Cv1+NpynOpRNiElkL9FwHenq5sCL+TLySVWzLUkJHtvgU1bqXJLq9ZKdRuKugdQHwDCqmkURl0b21vC4wJtNmNvtK3ONLzD5/hVmCypxEBTmvSgXslWXjeoZff4n6rPbU35QcSpltSbcQDYr23wNENDo6JFVWnM6tz4qEj6bn4JwjytXZhrSZKHxXQrzqVA7kjclPQObZ0YqMB2VIIpMlUVtqSLGyOLntzFRFzsw3UKfIU080rM24g2Iw3WS3lkyEQ34wG9LqloIt9/wC4VCsQPjm2gGz9EqUE39l74VIkOqWtaipa1G5UenDVEbdUY85Kw43m2BQSVBXr4tvb8/5VC4xwxOi8AO5r6zgqb3+7CpUNnWzH3Ex6ex++PK2JH4+zEjQzRaqqQ+ly9aqqPjZUn5dlfJSk7NnRhMidWXqjGKhr40xzNcfZUdqTj/Tho5U2GabJYS9UUE2vntZQ6cxI674jzHWBGp7yEuiWtQOdB2jKBvuMRNGqWgeSNG1oclKT6K5CRZtofwd5+74EjRvRqaqKxFXq3nmvTcWN+35IB2bMJdn1R6dGUoa9iUvNs+yTtBwiVGcC23EBTaxzg8/ik0OePNSW8pPR0H2HbhUWPSFS27+bfjkWUPwx+VGkiENvBspjRt6kX+UT6v1/UHRiJI+KAlupB+U4lAt91ycTZclpRj1GQuRGfy8VWY3KfWCbfd04apNJiLekPryttoGE6CVlQcj+Skw319Qby5urpx/oyhFCeATHWVV9DoWhuNe4CLekvabdAt7GqNSWsrTfOo3UtXOonnJ+BNelsq1U2St+O9l2LCjcj2XthqlUuMp195VkISP22YjUsOZ+DR0NZ7b8otf6gLp1R0rhtvNmzjZd2pPQcImwJTbzLguh1peZKvb8BlyBN4LPhPa6BKtfIvoPSk7jg0rTnwVSJo+UqnpRJZc67KII9uFfkJ4F+Aqc2KelhqKPaE3Jxn8IWkWsYvfyTTLtsH+Er0l4m0KEgNQ6po2hxmMjYhBQQNg5vQX9/wAHgtUgMyG/3t5sKHvwo0ejRYpV6RjsJTf7vHI0c0cmrhx4rhaddaNluLB27d6QDs2YS5UKq9OiqWNezKXnNvsk7QcIkx1hSHEhSFDnB+e5EqjvFp591LGuTvQFbyOuwt7fFK0WU8pUV2MX0tlWxC0kC49d/cPgLq9XeskbG2x6TivojGVWh69Xm9MTttvVk/HDVapD2ZpwbiNqDzpPX4qX4OYzUfgMuiKlSFlrzmYF21lX3cUYU++4lCEJutajYAdOFxqPo8uYyhVg+uTq8/WBlOzC4zTCosttOZUZxd7jpSef4U52YwrVTJK347ttiwpV/dfDVJpccuvPLyoSB7/ViPTg5m1DCW81t9hb57kaOzllGtF2nQNraxuV+3NhURGjxkhJ2PRnUlCvvth6uaQKbM+S2EJabN9QjeRfnJ2fd8CjqTm1ed/P0X4lvx8VRcXm1BlJ1e3Zmy8b/D4pj7Cpx0ho9KS09e3Bw0qyhb7XnP14qohhWfgu3J9G/G91/FT+Dg7M5ct9HIfhcFqcBmQ3+9vthQ9+FeSKPFi5vS4OwlF/u8YkVyqsxkq9DWr9L1Dnwpqh1piQtAupCFbQOm3ztwCuaSxY79trKl3UPWBuwKlQ6k1KYJtrGV329HUfhrpFaihxpe0dKD0g8xxnXpFLLGb4vVpzW/hd2G6RR4waYaHFT+J8WlWnNalxJHlyalUByI9nswnNYHZvsU/0cWIwqXS6k9CSs3UwEBaR6ujClU5KnZLibOynvSI6B0Dq/cqiqdIUsR5bjDKSdiEJUQAMNVSnPlt5heZtY5jiPPKMuuYSvL0XF/nSpViJbWxYDrrd/pJQSMLmzpC3nnVZnHXFXUo9JOIcWI4dTPXqJLV9igdx9YP7bfhrq1VdIQk5UoQLqcUdyUjnJwqozqoxo1By5tUGw7IydK1K4qPwxwOb4ZqpJcK7XcrKkov60gJxVK/o5pZpKp+PDUY0dqep0KWdg4tjsucUwUmPAmtSWOFvU98Fh5KnONYL3E2tvwaPJYep9SQLrp85GVfrTzLHq/cBKrlUZjIV6OsVtV6hz4UxQ62zIcQLqbSbKt02Pje0g0WZ4S3LcLj0fMApCzv37xhs6RQuBQ0Lu9nWMyx0JA/XhLLKAlKRZKQNw+dH6XNRmZksqadHSkixwtijU/yjGJ8y+0tINvtAnYcI0t0wZbbWyn/U4mbMoKPylc2zm7sF11YSlIupSjsAxwL8soWfPlvrOLf+Fu9uAtCgQRsI+Bo9EnfEojyXo6TuU+An3gbcUyhxJCkMznHVSQk2z5Mlknq43uHi0e8HNCrPBnF1nM7LWEq1cJKbrSc4tlAzK/m4cjUbR9UplCrB9yRq8/WBlOzCqVPhLhVGONZHWlzzjX2219R5sS9GdI1BVTpTgQ+6kWD7ZF0O+0e/xGqVVdydjDCfSdV0DFnNELN32kTdtv6OGq3SHszLw596TzpPX46iZz5UI8txhlN9iEIURs+6+GqjAfU28yvM2tJ3HEaoqRlL8dDhT0XF/nunUGG8UNVBx0ySk2KgjLxfVx/d4ptDmLK0095GoWpV7JWDxfUMvv8AHw6t1JqM1ewU4reegDnwhnRLShgVaA7winubQQsc1jvSRsOEaN1ECk6S04lTcOV6Ll9+Q/KQbDaOjHBDo0U8a2tU+jJ69+NK4sPRhLtU0cCmFV5p8nXFWx1CR9EBKh1g32X8VP4MFcUrLlvo5Dis6RU45obEZqCHk+i64klSrdNr28VJcsrV5XR1X4vinOLCtUqb5u+6+UX/AA8b2kWirQkJlLK342YJUlZ3kX33wj8oYfAoiVXeK1gqUOgAYSwy2EoQmyUpGwD57TEZfSzNiqK4bq07L22oPQDs+7HBfya+VbW8IRl/Xjya48h2W+vWTHkJ+Vb0R1D9t/jnJmOcSJIVHYbvsSlJt79+ES4j6m3W1Zm3EKsUnFPm6SUttxb0Rt5KxsU0pSQeKobRiRXY/hEbVTYqOOK7HLhaubDjt8Y7SOY4ESk6HorLVQfM3yk1VkIL+sAymywPk2wZVI8Hb1OCzdTS6ywW0+q1yPVhbdYrjcVp5OWQ3Tb615P0C6dw6QkbcN0ulREMR2U2bbQNg8SqRWousaUbjpQr6QPMcBx6vy1s5vi8qQSOi/dhqk0qMGY7KbNtjm+ormkuibSXDIN5MS4Sc30k9N+fr9exLWlcuLSY6T55yTLbzW6AL78N0+kVmEptlAQ2hmSk2A3DYcU3Q/R5COBv1RpVad1wSptgHoO/p/mjDcOK0ENNICG0D5KRuHj8n1fSBlp4DjNi6in15RswKhRqg1IZPy2lX9h6D+4Sq9M2ojNZsv0lbkp9psMKmr0klR7+izDfU0hI6LA/r24/JPSOTwhS2yYkhfp8UbUnp2bb9XP8+vVuo5sjQ2IQOMtR2BI6ycK0r8KVekQo6/zWgUt7IVHmQtY2qPTzDFk+B2AprNvef1q7fz0nbhqvUrROAWXBtSmGlC0K50nLz4r3hGps2oaOtCWYdFjlJJS2jfnQ7vG7Z05sJa8IVPbdhk2Fap6TkT/Go3o9Y2YRJivJcbcTmQtBuFDpxUKvT1APtMeaUR6JJtf34LrqypSjdSlHaTiPT2HlamaFNvtX2GySQfWLe8/uE6hxV2deaBa61JIUB7SLYXEmR1tOtqsttxNik4TpMWVJiwkL86RsWtSSnKOneT/7+faNU5X5pEr8dyWTuSnaAo9QURiiPoCtSlx8LI3ZiG8v6leJ3QnQqY6xNqExEhcpH+7Mti6jbrsPYm3PjhDmk8xrZYIjPFof1LYGh+lMgzGpSClh1/jKBt6KvpAjpx+RzCj5LqbK5FMbJ/N3E/GNj7O3Nh+j1BGZmQ0ULt+2/C2KbBTOYzHVvNOpFx1hR2HH5S6TBCX0otGjJVfJfeo9f+fjZg0fZMmZsrx/2SRbb68CUnS6oFQVeypain+idmOGS0BMqOvVSbDYo29L2/ADtUo8WSpIslT8dKyPvwGWWwlKRZKUiwA+d/yeoEJqVPSLyFP3yM3FwNnpG3XhDWllFicFWoBbsJKwpvrsVG+ESY7gW24kKQtO4g+IyqjNaYaG9x5wJT95wWG9IQ+sc0WO47/ZScPo0ikyXI71mlx/J7oUsKNtmYDdv382FRolZpWl+i5/N2HEp10dv5OcpCVoWB8o92KemkU+t1ap1SAl+PBpwQ8y2s7NWt1O02PQnbbmw3Q9JINParaqctoPMRwC2lSs4bUrn2gZiOfp3lyn1GMpl5pWVbaxtBw1pAWy3DgXW6+rYCbEAft0YYrVK49NoTLraJY9F+Q5YKCekBI3/CiaQwGS6iGFJkJTvSDbjYypFzhciptltyc9rUtK3pRawv8APlUE1go18jXMk/KQrcR+3N4qVTZ6MrzMBtLqeg5cGexF18l11LEKP++vKNkj9ujDunXhWl+VZLCMzmtTmZav/s2m92+w2+7BboejNKjRR8UyttaiketKkj3YpFHgtxYrtNrbMqrRX3jZxkXF29nG3nZjylpPCiQjfiSWfNOk9WTao/fhc7QPSuTPaG15uC6Y89KelNwEv9ey+G6tov4T2J0Vz4sTqWnMOpRSQb4T5Xqujy8vouKo+sUn1ZzhDOl2lUyost7oLSUxo1ujVt/54RCgxkMstps222mwSPh8PYosRD+YnXJjJCr9N7eNmmUU5ZkwE6796QOcdZwJKNLqiVA3suWpSfuJtgTpaAmUwvVSbblG3pe354TH0ipocUgeafQcrjfqP4bsCqw6e4++ggsrlu59WekDdfxU/SJLRW3SKszLkoSLnVC6VH2Zr+zCptHGvabebkqU2b3aseN6toPi0UWhslKa8xmIG7zicT+GOcWLIVHYRfYlKTb37/bhEqK8ptxtQU24g2KT04pU5hIQxpXTNfIjp9FMpCErKx0XB+F5HgQxMmgXdSV2S16+k4TB0jpKYrbhsmQ0skJPWPhRdJIDRdRFQW5KEjakHaFerASkXJ3AYLlUaLbs17W6pW9CbWF+v57LTqApKhZSVDYRhadHIJq1DcJK6ST56Nffqr+kn7OFLp7jsOST5ym6/UrQrnGrVt+7ZjQzRHQeFGiwKxWODzm9VmKhdsXudt9u/C9JNFEtrW/tkxCQnjfSTzbefvwJmnUmPR4CDd116SgqUOhASTc4j6WCnLiUqmxDHojLqbLczWCnbcwsLDxP6O6OVFyJHhrLbjrCilbjg9LbzAHZswiY9W5M1rN52PLfUsKHt3YZqMVV2pDSXGz9ki48VXRLSoKNQdUM30Sq6fdbFgMQWKhm16IbSX8yrnPlF/f4zT6tpC0h4ek2hCnMvUcoNj1YFQo1QakMq+W0q9uo9B6vFw5ijRUPXvrkx0hV/X8/ZK7RI8noU43xh6lbxjRzyxP0hYceq6G6OIM3Ohh8lNlecvYbt3RjK/4SNJFJ6Ez0p94TgVBVNMuUP96qDqn1/wBbxy5zrS1RZz6n2X8uwlRuU+sG+G6VSYi3nnDYJSN3WegdeIlJSvMIsZDQUefKm3iTJnJWxJSLCSxbMR0HpwmpvuPTXGzdpMi2RJ6bDf46jVaerK8hkJbV9HMoJv6xfBUo3J3k4ZprDp1M5C0PN32GySoH17PefqDo8/SZsNk0quNynTMdKLoHMmwO34JjymEONq9JDibg4UmnU9lgK9LUtBN/u+G/R6g3mZkNFC/8/XhTNKiNzmbnI8h5CNnWFEWODpFpEpHCsmVhhBvqr7yT083z+qpVuotxmU/LcVv6h0nF9DNCl6g+jOq7moQesI9IjFPqdeqkFwMVxlaI9Ohq4isq+NdRucZ2PCPFe+w/RUpH9VWM9e0UjVNgek9RXTrB/wBNe/2HCpVGmZ9WcrzKxlcaV0KSdo+F5FpkIS5oALuZVkNc+3pOEwtJ6UiO04bJksKJCD9oHm+ob9UmKs1GZU44eoC5wrww6Xwky6g/l8i097a1ESv0Nn0rcYnqtswqW/ppUgpZuQ1LU2n+imwGKgluchdSgqaXHmPNBZU0VhCgrr4w24FJ0fqDkSOwka12OopW6uwvt5gDswiaa7JlIB85HlvqWlY9u7EXwwaOp1b7KGnJITs4VGXa6VdJsbg9WMydx+DV0S0KCjUHVDN9Equn3EYypFydwxBj1C+vbhtJezKuc+UX9/1CqFFYVZcmIttsn6RGzHkuk8Wp07Jr4KtikvNiymz0X229mFxZbC2nG1WW24mxSegjFa068JdHnKoYitoDUbiuP3eQcybkbAQnb14Y0ipkZ/yTVY7cmA66NoStIVkV9oYRS6PDW+84diUDd1noHXiF4H6E9whEdtlNalp9Fllu3Ev9NRG7Fh8FL9RbWzIQLCTHsFEdB6cJqi1PTXGzdoSrZUnpsBt+on5Q0Kpu0qqWsZkcXDo6HEHYsY1mkHg/pNcKdnC4biUOW/guD9RxVdFm/B9WY70qPlS46yjVIIIO1QVu2YpOjTHg1dlmNTGY7j0uW22yvIgJvtuSNmFIrdXiUiI58ZBoDOVTg+06dv3YTTKHARHZT8lPOeknnPiEuv1RuMhXo5tpV6gNpxwOiV5t17maUlSFH1BQF/Z9StIorTZUtVFk5EpG0nVqtigty2VtuIhZFIcTYiyiPgVFyYv83krjspG5KEEpH+frJwiVGdU242sKbWk2KSNxxAqj4AXJhtOrA6VJB+pMxVH/ADsRXOC7L+cynL78RKl4RorjNUcW5rG3Y2pUE5zlunm2fAc0k0WU1rHheREWcuZX0kndt57/AI4SdJdXDipWNYEuha1joTbYPWffhMdhAShCQlCRzD/5P0JjwlvLWbAA2A2c55sMRo7KPPNIc87ISlXGvsA+Vu+p7bTEtDaAq7jbjRUlzqNlDZgNOzGNWdXrQiLY8U34u3Z7b2/4Tf/EAC0QAQABAwMDBAICAgMBAQAAAAERACExQVFhEHHhIIGRoVBgscEw8HCA0ZDx/9oACAEBAAE/If8AspNhtSClg16rrhQKETC7yP8AFcWxqHGc9SeHqZHQGtilahVqIWz2dJ2p5JRm8Y9GYP8AmF9CfmVatIrZEcnR1hB+3zdYYwfFLpXp8WQG7FtWKRBMIlcwFV8ZQTcK64aY/FOxsHrRsXpgSd2nCojlO9OzqFl2kTssVCvqUVmO5DCSWdmn1qijsquqJgiHynCUBpoGphEzX1f8qi5fOTMWas30vii5j0cVbkYMbsXGlCusjyQt4xito9GTIFJrExjNI5bCerjuQ3JLV9DVc7OF2sF0NXB7lJXamwMw4YvfSrsXHxWU+KhByTPcSb3uSMN7fmCpWIdcv+R8bVO50SFG/N1XNLajk3cb4fDWfwXjIHMXdwqYdoLVcbM44NqjRB5ApmjAnQKMeGUXcA0CYUP1M0zkDm/uA015JcuLaG0Sn7aTmxnAq9yo22C4zbWCWMWVsXKF8rX5OYmyykdvTxV/7/KnoSIjijBtsZZf6ln+MUbRDYawmgMW00E3frES6X10N8UVlaQSiTiCW4lbE1gO3e3U2a41oKFkxeMsHPbGMFbWorcXtCWJsL8wU42jpj25h+N6j9AEEYm3mo4pFPlWPG+Hx6QOnHPcQwdALggkC7htTb6IS2wF10CoefFdxuQA5KanqACFb9FzvBtUiFCr02+o8LmhBJI4enFPMFLuKC4s1/v390K2koloHUToQYr7v+azm9GFkm5k5vUM6wpJZ5kSyzUFF3JvULl0RmjsqJRsQYdbTnWl4zWLz+BMriW8/lu+KOrGiyxvXuKAVYpQ4S+iuUOVTJXeF+RrLq8OznDwhjvWRdjxJGQfur8LZwoJbtgzU+SrBZHIuDAVA1Lk7MrrtRGRz/cjvRwtChMAGCrSBHu/A9qCrVao0kwB3pxGRIUBKq27V+Vs5UElyy466afMqMJjdC61trnDWUowvTIY4OznDwhjvUC7WNihxQ0rEU+A0JQQGmiyEQQwVLWpHhx/aVHkWZgYl04Lcf8AKsfNpHzaR82kfNpHzaR82kfNpHzaR82kfNpHzaR82kfNpHzaR82kfNpHzaR82kfNpHzaR82kfNpHzaR82kfNpHzaR82kfNpHzaR82kfNpHzaR82kfNpHzaR82kfNpHzaR82kfNpHzaR82kfNpHzaR82kfNpHzaR82kfNpHzaR82kfNpHzaR82kfNpHzaR82kfNpHzaR82kfNpHzaR82kfNpHzaR82kfNpHzaR82kfNpHzaDfWdpIuRf/AKORY4FITuZpOcwsff8ATEG0qaEupKZanQUBJI4SofAMBmwGzCzGsVM9AiqVOqtMYOpcSJ7Ezspr+mSHiAsf+Cz3GRRNiy5gJZsAjNxQT4AkTBkuSZO1SJCiHISl8PsuamK2IFRatBMZS3iIfQ/D8cK6q4KERay5sz+j6VAFhfwmfZkUoGNtocu7CdTBk+sHVyAL03uVjW23RypCdSzT5BxBp+iRWcRJpb1EBuleIYYfUyUzH9ZHFaqEBkSJoCfegjsMZDGfoJ7Io2Wm+uh0Vsq4ImTMqHIjPbLZ8Glqwqi7tvmpFxlcovgMTZWOrdTRgIldVkOLQ5kPM4eYWKOfik7YlJliUGAF8stpj0DQeT3fNPesVv7X3Pz9yiHIv9p92nSRwKSnZdJ44B1oszpaTrGvuPwOshvTTOspgyleFQ8EMbTskhsL2gAKIrtGnuUBpkchI97jtP8AghCHvoz3/SpPDg0WVLlXWkiHlRMD/wDB+fPQIQiZrROi75NOcnQP2BdcKkJB5qhCZAkG68N5HV07+4hTi2403CYKyvTmFpkIHQerZAYjJaSYOcSQ6BPYjW714UegTZD0NWkZA3GG6MVOJaFutwltbcaxTRJNIO49JEKTF3keQByUVl3O30LK4fsvRWWSRtiKw3AE2cxj9BHDC8D94JVo119kzyozErQoziJGrvwGVwArUgJyAkDE5EQdEKHZmNOCo0Uo+LRGJVZgX1JXX+vRj8ZxiR3UhnDqUMhbt7rGASroC0EMgFC1taTH6Ak35BHZgmE1MlQVkoBuCz6EgnniAhHQ2P5iKxlrweyHi4qRGxNjf2iKQz3wuOa3wxcq0INwi0hcg1b6UrGyy32FZ8oi90DrwshHPcAsV4ZUYJrmGprcNcw6jWMK1xpH4/NglPpnuJIlkuLh0Rw+JhM6Qv34PR9aAOh3+gu0oCWkDzYp4+VJ2v0IuDoPjUUR6OisKSAMCVuNXenUkJhEqXAFL5hFcHUMtJh4KJijI38AiObCSeoADLzZg7qCZ11KL/ZExuowCVdAWmbEtwt5Rpj82AdCfLTFreyapJJmrQ0mLuKXyDxURMhGSRiq6LGKz6GBQgjVL/MEffofMGnh4DeGXtt0HzeXZ4+DOynCZEZQD7M3E9EKK5vFzPEx6nKmy/BYSjx/7HmJPV5npYKInUhJMYmvl/qZCGLl8X/LZUggTAlwyESYmlxRiACJXcLN7nrcowmC40xvsphSrqyMQ2zRPPwpfqAFVW6jdV16JNnALpxEQCEmhpEZEhEzT5+IieaI4l4ii1zjnMsa94ZglYP8VtUE0SNMS7qutCr6zg/k0TUYoUSbDNnD7/KY726T+QClMxVt5RdauLS1iPwBHuavWPbnunWLB/QtEB44uAl0FvYnVQmLSAcQhzMc1r8aKOJmAsRYWiV83ZYkwLSIjSry2LM3Ni3WLwf4EBpDjS06kJMFqlVwD2AFOS1+ozQATkskDMu5PvUCAFcXWW7iUBdukIsXxoIgA2/KRTAHUg+Gp0SuxKDexJzSMzIkNDFZBsluzaEoP/EBXVXBUF7xM0abe6Oan4OdIm/oPscbYgxqtG2aSG6OA2DMmxidjpI+KHYjIETaGQFLjZjpuSWkwxoYqHA7UhFkDgmBpZ0EtcsCkaRXNA7x0caiZP6hu4D2FxVqWPZEn3pfEyBg2DoGz9SQ9XuWdwBBpNzlWiLqiiFFpKVkZw+/zahuJg4uMpknHo725tWRHCJP/PXQ+AT7wXAND/xZKMoxnIRsi7NtBbEIOaQkSEiXoOA0bd2n2qJvLSTEyJSZwEp0eVSp4vZ4uUfDIUZVwp/HTcQ7l+8dDnjTVwtf7f8AnXfZjQIABS7i61AYeFtrrdxLEXbxCeLEcEQAaH5ubBDBKCMw5JhDDEVdMGX7+b49qxMauMAI3b4LEysFnVVcClOrTdEuXaKC9tEJhEuNSLlhcFiXdtqA6FFwGCngA6Wahdi9CZeiGebsE0gpyhOIB8NoLVc6hRJmFHbCwlYGrT8Fg/tcq3W70P8AGOMEmNES32UZFKLhJJ0ks/f0qe/KVhKt26qqrlf0W2A5qiXG2RDDleg890MtizcwH0xes6+DsFb/AGJMQa2ZiXmoYS62BAdg6upVBduJLWGGrDhSwOxngb/4DDkBdeyAYlk0mWghCbgJQCmJzLlRVeqOSL4kK90siPziEI18Uh9UAVab480LcHNxFPFEcrp5vWRR2dAtWGSzhZyKI07iW6WuO5JDOlRaleNj+0JMUCSg9UkCZKy9lBCGLZS69rUg/wDPFXVXLV1EwcYuJLHMBq/4LryBEX10gDLSZpawHBmRG41GZ8gkGTQIjEE4fnu0MeBpZM9ahLmIPfo2zgZkBq0xV1RYVZ/IJJyQLzFWhmAA1RuAmTPDSy6bKWMvUAGny05gJ5AmTYZHRCrqMGMtohgyXOXNDGGkFiElrJAJy6xVFhJzxEhUwbXaiDQztyiziIofhFYIQmkHGiOkeiEwQQbCWCj0fjhYAMH5eBcbluLEKKbACMzYLUibObVmxDSp4skaROI6Y+2+vcCnKzf7gT7o/TrBAmDsnWMJYKG+xNRa2OiRNNWlw8VDUBJPOFuyRVbZ+CzPQBuwoZDCFA/3NGmPG1iuW6uxdpKpQkLAp54NXZH1Hyr+U0Q1JIdpHEwdQjABmo+5CgQhaLdjZNZPzk76ALXytTJwo0rNinjLZkRIzUbiLY+COrwqeyReigE7wIu3cqWLHZQKD2FG9eS1BmBriGNyv7JqO4knEdkVrANPpgIl0M++tGjS5lMxcaiTRVEEYI5hDQfCCKDCgkNBpAalfbALHr19YdWYZSy356nkmaTMCBIUUNoeKgCjSZyxHERVriEwEINoONGdI/MNyUMyNnTlPCrY/wCs2QQXIuikWjpgZYACDcfIoSkXMgIRke0l06PAhQS5v8VfWBKn1s6oVyqef9MVkCYRpVCbaJNu4xlJ9UDwFB0EFFwcGNXSg9b0u6YmOTG2p6ZT9olrHWUjtbmEDogEq1BoxKIKFoomNBNZPzaD/wAwVZE1KL0W9DCrc999srWSq/bQMO1rSparRJb9YXdLY2q7NEakCRhagxe8uABzjlZmBx74cVDEt/AiruRt0vbpCQKc4StQkGULKJBaSN6eC1eyaxMlqs7peJEnw9AJsLuuTtOHFAHKsAGaK7RxApurdfqTV71OY+WSGsZhLkiYM8iE6X0LvZZYEyy/P54IvCDI+D6GgS4tI0ThM5k0eSYxfk1c36SRveg8gdc9UZ5TywgRlAdaIG+XQmJMBqrFIXzOCE/rpYhmNslEO2pvpXwBUHCuNJtxMJ0GNqwqB+5OQpA6JRKtX7uFxd7GA7bn6COZmpetxNCC3f0lMWDD8jZpaGibXxMCfXFIJwSCYTgNx0QaukTWMrY8aEnNPzzw+BsDHRYFuzb89YBUwpbGeAlosj32ZiF2ZtWKCrH5KATiLyU3JfIslbaOYO+d8UTkEqe5Y2eGLT6lRJF5oAgSw4IiS+lDJ2zBynuG2zp+hRD8bR30FR54TlEjdDLhbEqh3EHOyi4CgukTFibIYcr3xQaQ0UtMQyADN1m0Fu7vLS9lyUmUS27E+gCLnsgekhI+kgzmrrm7LDijqUQBdaO7TSApurdf9CHI/CATdxMVGzeasRsT37Lw7EjkzKLjxUHm3R9zSMCKFhp8CwVWMKEkZZCb1G9JhExJgJurFSIi7OUBaBNhMmwAggMHpYmTNyREO040y1NIIz4yCNJxnIJ+hwAUkxMfMK9i9qitQDscLncQbUOa8PBVDuBUxIfEMdxMTTxEOIwEcEMI04UJhl1lX5lXo1SEM4cTGYZJgYmnhtsKrelozdH6VciboNgGrIVJZUXO4blj0SWh1MLBLaYXSkPmWFIOiN6xVyhGse7+kk/erfCGzjmomAdiBZk4GhaPRD7oZFg3DIQvLLYSXqaze52JLTMYUSlYbAQB7f8A0/HSWCCJVrC0cqUVpHRIQyZBO25+nsFmLWIATuiYdaDanXSjSnBg+B/xN//aAAwDAQACAAMAAAAQAAAAAAAAAAAAAAAAAAAAAAAAAAAAAAAAAAAAAAAAAAAAAAAAAAAAAAAAAAAAAAAAAAAAAAAAAAAAAAAAAAAGAAAAEADAAEAAAAAAAAAAAAAAAAAAAAAAAAAAAAjEM27ZxRoR/wBSawAAAAAAAAAAAAAAAAAAAAAAAAAADDAI2N+YgM/EkQAAAAAAAAAAAAAAAAAAAAAAAAAAAAAAAAAAAAAAAAAAAAAAAAAAAAAAAAAAAAAAAAAAAAAAAAAAAAAAAAAAAAAAAAAAAAAAAAAAAAAAAAAAAAAAAAAAAAAAAAAAAAAAAAAAAAAAAAAAAAAAAAAAAAAAAAAAAAAAAAABGKgAAAAAAAAAAAAAAAAAAAAAAAAAAAAAAAAAAAAMMggERAAAAAAAAAAAAAAAAAAAAAAAAAAAAAAAAAEZyHAk0ABIgAAAAAAAAAAAAAAAAAAAAAAAAAAAAAAF9OqwKiMQQAAAAAAAAAAAAAAAAAAAAAAAAAAAAMwFUdwSwgGIwAAAAAAAAAAAAAAAAAAAAAAAAAABg0ABjxAwwAMwDAQAAAAAAAAAAAAAAAAAAAAAAAAPiSwA8vAAygDw84wAAAAAAAAAAAAAAAAAAAAAAAAAAgQJJ5qhXwAAwAAAAAAAAAAAAAAAAAAAAAAAAAAAAABgqQg4gAADKAAAAAAAAAAAAAAAAAAAAAAAAAABxBhJyCEYFoAEoAAAAAAAAAAAAAAAAAAAAAAAAAAAQzIh6oABQAADQAAAAAAAAAAAAAAAAAAAAAAAAAAAAAQywJ4YQFSIAAAAAAAAAAAAAAAAAAAAAAAAAAAAAAzTyUwBQIgAAAAAAAAAAAAAAAAAAAAAAAAAAAAAAJSxvgADgAAAAAAAAAAAAAAAAAAAAAAAAAAAAAAAAAwkgqyAAAAAAAAAAAAAAAAAAAAAAAAAAAAAAAAAAAAIAEAAAAAAAAAAAAAAAAAAAAAAAAAAAAAAAAAAAAAAAAAAAAAAAAAAAAAAAAAAAAAAAAAAAAAAAAAAAAAAAAAAAAAAAAAAAAAAAAAAAAAAAAAAAAAAAAAAAAAAAAAAAAAAAAAAAAAAAAAAAAAAAAAAAAAAAAAAAAAAAAAAAAAAAAAAAAAAAAAAAAAAAAAAAAAAAAAAAAAAAAAAAAAAAAAAAAAAABCAAAAAAAAAAAAAAAAAAAAAAAAAAAAAAAAAAAAAAAAAAP/EACsRAQEAAgICAgICAQIHAAAAAAERITEAQVFhEHFAgVCRIGCxcICh0eHw8f/aAAgBAwEBPxD/AEkyaFACnnPHrFAAq+Av+I7y8LnYw7hv4BKApWUNoeDgxd5WB1l+MNYqMq0HlZr81umvYP8AvwjDgQrkDcqX0ci09XYnC0EioOn1wjtomqFsNMEGouBIto1MFLlbrEj0eLGlSOAV3bhAu3mWXoGcEeSieWOBou1K6yRNsAHHwMVCgwaYGTv/AL8uHsVkvQNTdwEitF2AmuwIGpQ1/Xjgg2DZS6usUQJQ3XhfOo8suK2HCA+PzAqFkogJMgpoceZxgl6shOFgLUa6PfGtTCsBL2CXMH1eJmA0XIdBlr3McULChMiEwDkBHrmIt1QggYDN8Q8t4lJA1rlGTPMNKid8rtVRHYaeh64ejEEwoF6JDEHPGvJILSA3EzEi+5wRbRZYtJ+wxrgQkkOWcsFGEqZKeOHOa8shoMXSTjR/wkxFBcsAGdZVfqczWxRQQHDiiI+tdX+Hp7RoWOxoif8AUdO6UTDVcqdr7x0B4PhQwBg7VAespXozxFKgqSjMo0xit1iT+CvFqTKFKPdE+uMG5LBGgqxYPY+sNtMhehgDqZAgGw44fiwqgeBETIpSVFw2gKzfScFmYpYg1KxSGJr2I+RBPfHZUQWYO4AFe3cwQW8xeGqoFIa2qPiT3wvLLYgBwwoiP7nX8ADhaACP2JMs7TgnWiKskNgrRZMTggcKCIJEjK2gDsMSQrY0Yh6ATqtgs+JWiArJcGiJOnK5t40hIKeHvhjMGIWPTRE8eHTloJIc1yq7V8v6OgD81PAdHQkF7hayvjgt3BAwCQ4TcbTA2XhdIAqWQM29TY7Epw2jyIJkygkYIXWbxkavaKfarPAQOg4JIYGFX6ArO2Y4ZDUT/wBonY5OIjM4GFDxd/E4YAVkuDRROnK5t40hkF++/wAzsxMRTzAXibjAyJUY6ROzkuQKQgiCoBSoC61R5DmSLqgA+mR9PMACQAFSTqkCuW2Y+IzBUkGWiLjzanUvJKKGDSgIP6z1bKZ+UxiMWFni7+FDVya2DEGvYP0p0Z1JT9/lJ+9qAJocBFsUyxdA/WJDWRMUeRJkHPSnZj6gu+vjAWAXQkF8hbMXVLzJgQfBmhmpMAW5xU4gLoKB1QUETHIc3YTQEZeggvhBwicMMKq4AO3gWcxIk8wCmdmPg165NbBiOvYP7ToNqSn08T5SlltrSWLsGfRjgAQ/Lt0poolCnY6yvg65iVTDG1VJVy5XTCnJFIJqOowwhL2wNHWY+PINfJ2ghpLNMohFOtKtRqUAAPHI8omLlUAdAymLgGyUoJF1QFnTI/fMSCQAKklZgBe7Zj4a5Ropba0li7Bn0cACH56VQFV6DbzLAjtyYVXaCLkLOGuXSAJGEJnYiT6Vq2gg+zs8CrpeDpK1UBnWVW9kndxvLgbKA0fCI+tZ/wAGaoakttFPBEHyv0hyoWLhirlzA+A/LSoJZQAbRAMZXaBVBxFpSSCWJ3RRiUZEVEkDjPmAWwaCDXIU3OOutE4265ooKDCNoe6RmGYFj0EWKRZhq1Et+yLlOxxTsceLwoEOzIifZjrk+xznKrtXz/8ADHLJyJMoRR7Kbs2cTa6bKD2rpOPZfGOPSB6SnNflp3QwoIAUGIEUouacZOChBAAALAWq1OiVkWgGQgi5VURIoZaLLvIUyjkVXBCMok/NJyIxw/oJjsdKDFYKLAgIgALtOrxJhWFVQ8KKPS/ElFxJAvTEPmuO58DIBc4JnzykchHYIo9lNMmzJy+zmyg4oXScey7mPzVQXuAuzNEe0IwdgnclRhhjQvV1NExxw6kAtdqpVygb54KKhSSuDXQAAdAFd8AYCCWS4aFE8ga2vE0Mgs1Zmfvj8T6uQWoxUesPkuBAVAGd48++FNPTUVDAiqj2Sd3BJToNkA4fCI+tVl4OhFzgmfP5yggMqsD7eABt0j7XIe64rMHygfuk+0h3w2RNI0f3xQMR3M/38SNLokD4Yh81w4Z8QeNKAB2ZET7GdS8z9k5aq7V7X/wQA/PY0E4WLA1+70IZCCJSlpSRFRoUz6EM4CCWS46FE6Sm2vGLAjF0/wCwlTsRyPyiA+rgLUYyOph8lwIjQBnePP8AA5uDZsR8iRE6RHlJWgjDwLX9rwR9KwfWYPIoezh4AYAIB6ONYErcTFGwvQr2+NOYE+nJ/DrahBDbVJcuwQfHNf8AIH//xAAsEQEBAAICAgICAAUDBQAAAAABESExAEFRYXGBEEBQkaGx8CBgwXCA0eHx/9oACAECAQE/EP8AaQxoYqMfGOETKqoA9v8ApT+zqYKhXquvwqVQGMC6F8vEy6wFXvB+M1aoFg2vgLv90+KPSn9uJEVKsMAasGe3lKHiZUZQQGgKbPfG0noIASFbZakEMo0KQoIgDaXegXt8yEClMgBqzIUMhzAnwXGSHgivhnjGrpSO8FDRVXf4GERU5cMnD1ydGxBbM5BB1MraSJeIBZoYkgxd/wA/PGflG0TAwoGrYuocwnfXhsbCFMih5/cUwZDASAYUHaZ8XhfZxIKMpQCCQ2+uYjGCFUBGZmYqe5wlyGAYXsMEOrngfIULgUOQMNEwPM86jWiZQYnmvgnHdFBCOFbccURgj1yTkFQtEj7HHsJqCMUGGbXNTHDFbNMjaJm4q0PV4gsxGrIX6HO+EKyUYLXMA5WDhnGSNLCyRObsAzt/6SZqiGCqpe8AHzeYrYQRRUyZiInvfr+Dwfs6SmkiI/0ezBFYKwBgBoPXyr+CZJOXoBT7gMO3HBBoIBAS4Ej5hPdv8Cl1uXAsYfTA/PApeEiraAKFPpPeY4sorZMHtdggG0ccsrsChfK6jhcx9KvwVKylQpMMVnwlu2hA0d+kfSKPrh8iagcjVVcHRq5ahOZnDEBWBd6ATzb64mpg0KlMmYiJ9Xv+AXalVLcDC+LQ1xQwkCyXGO7tW5Vt4r6iwtgGOiGZDY5eGLq3/gHoMXtr3+LySKhlMmwjezCYk4QnaY+TriZMm0lOyIj58m9EcoViGADQHg+3tb+7o/Cv0XgMhgI2PV/w/Fg1sALVuJM26mR5ZzYIb4gQZcIPGA1bSq+3M9aOjjMFtkA+VAXrOeK23B/zI9Jh4OF1lKxfjX4tTAVC2ZNgN7MJiTgKHS4+Ov3IhB7Zx1AE9I8ytU1XB/Q/r+KzC07iKT2Wns5k+2lUAG9xyAwSXP4pikAFzIiGfEg92cvYAKkYVqfeO5LNfkNFVmVl8zX4BdDAhKlE79KfIPbncYf2hHKKGYvc/wAn3yUEqoOw/wCK1n/nl+EeEf7fihikLoQp+LZ3rvjpMFNtBwIMeD64UFwKFMkVHlBwyzHPVeslxYmSzIpAUknHDKgGVXjIcQai+KmPpj+GfhgQlSg9+lPoe024Y/JwOuBEskhmyhpS/LxVa/tudmY95KfZT75ccxGkvgzvOfr8PyDgAilC7pjIkdWZW3SlCmM2FNVz4cQd0Q0iRl+I5zbN8WqIEQc2hdjcwKGeJ6S0NxSnstPjmazYqoANhcrZ1Jc/gxhCGMkhGyhpRfviq1/fcLAVfAcno4YxoYAQ1iwycmYpRSt9AM7rwo0BtEH148JR6eLpaRFMveAD029TOocJpipk8iJ73/oPKgQDJIg+WingPkLAUgmWgGDFJ5X9tlAP7+A7eI6Js0nKBQ4vfqIcGhB8mTj54DAsAffsbzwRoQYMVVD1WWUIYuRM6IQVwhowDWDuc85xBSmnCI/DnvlADxjABoDx/wDXPJBWrdLGH0wTTrhPHBIFOkNgz6Z5zytg+Rjzf7ZiRKXThI/z40c4IaD58/24y6TXkcLR20nqYi8yexSGILiSa+OK3CYlEoYX2b8aqnZ2J0mRpBEYOLOPs5tKnylX7fxbNmjaTyVR4hnq/hYUZjLceOSOtaaLUPpgjh074L44kCmYQ2DPpmrn91MC6Q2XZnCPYiPyDx0hd5D7Cb395wYSCnS0TIYYLPnjrkCjte/RAA6Ay7440AsFsy2AfhRCQ4CDtMu51frgIR4mFCCNgveTwzKKEVXGs+ONNbBFRXKIAJ029TLnLBNNKZPIie9ws4uLMxluP3k7gG1wHCoI+j+aKe64vIPzDilgJpMnAGVj11/L8WzZhtJ5Ko8QyZL+KKW0FSacIj8Je7OUBOMEANAdB/7at/fqkqA9J7naIj3ZjA4A3JUnlvfh8474t0AsFsz2Ab2MEkOFo7RHyGnzhjomx/I8BomFCCNwveTwzKKEVXGs+P4Dl2N+EfImR9iPEWQ9j/rC/avKr9uhPkKfhU4DMA0GA+uH4GEmYoJKztB6PO3lI/Jh/g5eIUUWgGzBpRTzzf8A2B//xAApEAEBAQACAQMEAgEFAQAAAAABESEAMUEQUWEgUGBxMJGBcIChwfCQ/9oACAEBAAE/EP8Acok8tCu4aoOeef8Aov8Avn/ov++FQd2WDovT/ft/EITrMILB0Qd9Vpusd0GqkPPJp85ETsk09H3IQAYDonn6FGStgVp1Xre/3kl2B1IORDESPp9/TR8wsa6BLHtx9LTiyliASbgBZyHZMJXpFfuvji3DECwUkOIwMRKIoRwgzGZVghqrmPHZ/ZyogjTGBqAXmlxiIxbQujFjGnHFq+2rYkCISFoDVjmhKFsm4QNUK8C7suD5A/AXvYUquQJ5PSS9PyvHWcsWEQ3IVIKhTp8fRtVPa3qiLDjDrTiAU1gKDoi3i9hCO2htMDoKgTjeO42uy5gZKBohxYF3rFpeiBHChWgy9QOpVVh8aaQ4f7umoxUM+TfZTk4lUPKNwAhogSg+7iWqjOtGOkwWlrgxoM4koD5FKlVV4hL5tGIF9qGvdXeS6kWq0yFsjlXxzKezA+J2CC9FaUSoqQCaMUKLAThnwc4h2QIYDDhOS4Ha3bmiNEziaOmKQo9wgk8lOMlUdAFh1Fz58y8Q+lsLEDZB0ZcOPf8AUlWZUGxBsAH0bVX/AD3IAIY5QwidPDOp1Y7nafawQQBzMy0D2HAIGCCGc8HPjzyIXs+hQUSnAFARiugAgLyFLzcR5zQINeoWOUpoDz3J1pWZoKa98n/JpNEgKGT7uIDcq6yC+KtYVPAzHbHRheFGoRCcaBV8eBopKBiEsc9MH/oez127wh7geEOlyIUE1ZqDJpQHp0W+1ePd6kRS+gkGQTa7pSARe1JEHuLEL9tt0KV6aK1QoAOgBQaJ6bXbdFAME0gPw+iMT/MmkViAidjz/geXX+vSyPdiL3uxVo2AGgm4AmiAQeRTxFoKAxWJcEuMQrYXjdNa5LrtoJAhIOXe/P5SGhegjyR93f2KkifE9cD2sIvkhFLwnzEexBIg8yJV1JejP/t88Ys3UABdXAC6wCwDliI7DrbeujvftewP/aCnHYQ+bzzrolAKwJUrKq7zsZgRnndR9t8vE1JaB5TJMaiYiZyQkkt7Qbh8O/N4N3NCUHAAQDkDsZxibVhcg+OEecVyAhUEIfIw4e2VLRUlAVHO+edNEoBShKhLRHfVpqD4DDi6Jgdp213n7I58ssxRU3q8ACHKxQ7h3t+7O9+1Ae1pHTzzUvLbvL90AuEIiY4iIxEQeNJtuZBjgGA9y7xGQLinhCOdxepmtFYqkiqgV/1USiXv2/CEiRIkSJEiRIkSJEiRIkSJEiRIkSJEiRIkSJEiRIkSJEiRIkSJEiRIkSJEiRIkSJEiRIkSJEiRIkSJEiRIkSB+mUXqJ8Wm9g+P9jiZEWuAijAiJTRHi+iKGAUGSlMt38MaaoodDkSqgIZy4BwCiiPSPIfxUIEgwthMHHi6MEJirUFV7XjRvZzS9CIdvwxmZNSkEZFUqIiIOIHBL2JmjuAuywBURBHA4BIyJQomcr/RjHi2OglKMJV+oJJnQxGjtr9MMB+MApgACq4BeL6XQaSHNv4P5eDQec9VNGmoINMjOOdSMARhAciJR+qhyVwBaFQrUQkYnHTZuATDqMZcZgH8E3A8YBdiW4giofIEKPVH2J3fDMIzlt1qRBdquCVk2BxRqJswib18Iky0LgwqmU5GdEh4WiJeV8PxaCzUAeSgQJh3KZ8gZl74wakmNoRZlNHTvp8kuHByVZ0KAOdsrYQFrWOLC33UHAyXBhiRBA4eL1CtyoopNVpGQxHp5V/16TsqlLp2efv4PeGV7QaJCjCkE+jFBKSd1Gi4ieoYeqpETnYMRLtFI8N+gCTsTSjHG7LmmVGjKn0rR4CHXwUvkQYiidIo0XmMXJZ/Ao1AP8AuKh0kbRFJCRSOLx7BziSsqCqaqrzxQyvh6waYqbgff0EirgOIj2cIGKI5ffvN74AUFJpRMqRUpqKcommYdAF85YJebBvQTUgkKF2xOBxgwwsYpgQCw6bwvoIcyJAExNSxxrRUFBM0ZJAAIF9Yk/8A3dAOpGK6WJp1A8xEiSlWzIRV1s0655AJ8Po/ajhjHc2Jkbx/anwiUXxk8RjBGDeRxvK9qloIfwG0x5fu6PfloLfHF909k2wlajsQBx/CHHnVDFUxQALwf8ID10iPfItLxCpsk68UgLkvLaPUguOGgj9AAD1JGbjq6SO6IiAWfrFBXuIwl8UQF4sizDPbD5MrL2/gCc/uoMKHCKiCIPNrIvRSqhRMexPoI6jFs8lF8kRmjIFnshL4thodreDIMeD2TOZ5n3zjfYIsGjXitCAmZw8yyyzH5GAHtlv0DRMig6bC/PBqRCFzE5MO/b1xOSLxQQggDaB5bC/B5ECBKBUHQjP3hwB/hQn7+9mlRQUqUaAGaoQKrVq9vGy1DOCaOKZobH0OG2yLRWO1KrgUA4pBwC35go3oue7kEao2jVa2IKsQDhDN0HYAdqvsvgnZWR5WABVWAK8KYKxCHhwqaCVsCiq0ugLQAqwSN+phSPxTRSwxBBAUJxYYrUhlL4gweXEOggt061Ky/ew2A1k2XQ7IQyQQDAuBQMoywwSjhfOuRwDA9sgVp6tBXIloeHkWwnz6GL9+zTtkVTQFenAxdZAYGCoF32Trlr0RR2WbnLpk56LGrkiOv2DPdPqHLZT0aO4z24IBd9gv8EO/b1SUtA8ht4wMBYcz+f3aGNSgkQgWp92DEAumQPhAwaU4G/QZ5DNARIAiRPrDewHVZ1uSO0BQMjFn2q68FxdguMMMeoqSsVT58ABz3I8qLrWHAUNX7OrgPYnk4gLGS1nnfsSyAHDYL4SaMAxFprrH8LToQPX0ymYKyqWUxnyjpPIVGIQinJY3fmkWFDF8z7oooTTBGRESGIjxvoMsahVLVVXjyRUo0MadNLNw+sesWtdB9yA9lUABCbK0QZpu2hCUeky7Yisa0LISLHgEHWpBp8TtFgCgovxnGyQn13HbJ7uE23OgHYoE/gYWM2EwKvQjQ1hvJZt2FAgyqCCECinrsOydWMHxREIhwQRa1wViPKAoIOQ9LzCQTAAAHQfdFYIyBDRRBU8PLNtlNaBMYlCKLodF0tanbqBW7vmMQA8gwgAFVwDlX7hI+x7n+nuN4AcBNIoExE0T6DbtPXALEd7aiO8YJgsMZF1XpSKJyWQxQoIgjjKC2FH1i0kEgqaQqKKWzANRbVLU0gXglY91LoyUF8FhxZoMCdDehRfymrwNqsh3OxsjxB88ioSfPArvAKMqRPRqOzjFzPEJXKq8Rs2pZRzsek6RRovFLijQ8qFBi+Z97HwhEVsdsnb8vorLpI77RPM2QBfR8rG4LwrPWoAsgvGudjo4BaBQAw4K4ciwTrpjbIKVqmggLop69iX255P/ANCKffHdAvCDE6gge/IE8qHNHoDDUsF4YrpN9G4LostJ7Yf0egokEIwj7xLGwK9PQiNTVgvQ1SiGBplcYlZXb3UC6ByC07gmGYAABgH3vP0JTIWhunsaWGn6D+P/ACdfHDJ2sHsDOAlL9D0VQdcrROkX8qdAJyxknVwBKI3isGQpWWhjoGKITjqYlNMXtIjpSKU66jI9DJQppI4p3xDU2/lWkWSHG+EW1LX2gDzSchnkbwlWtUKkoUVX0hP0Bwd0YAdgEDoJ2+WhRehAuwoRuAhQiSihIVCqr+Cpw04HBZCYgCglHHYdZABWr0C6KrDgEpT2WgnQDjtR6NdDUnqzgayByCxMjwAD4PUX7r0AQsYQVBEIjxViwomL0EJTBdD+BZo4oUAKEqhFkBeGO2aowJ1BmAFzndBGA00d8x376im6She+F4XRawFFggxC88IGFVQcFI7tOLh0u1dfPA43Z3LAHYwUKB7jcbMUk6QQQBy8nV4UGo0wckB5AyptRKyIIiMR4ioUYhQDgoFIESnHHkDYKQqKquq8BeXRWO7oEYAQJ+s78xqHCBiNhcMiwDz5UHgHwnBL5Xj5dizeWNPvk9DsSl31QN9x8HEhwohALFWvY9+8iUt1v2AqQl+wRDyEhAGr5VaVkMIGN+DqLXBAAaktUnXa0LphGoGotk1glroiJI0PHKYwd7lUpEJIgURfa/t3Q01YBFoB6AVJhoBkU2ZCDCp9uyaVmiPeXtnIfxRDDWChxFA09Wczvp2xU2GXgmOBgAEAAABgH3eB34hBDbWJW0jl5PSFootguUMVhyF9ZJD3lIR9n0WCkSn5EdPnkVIBZ+RyfJHO3jq0MiREBNIox8xQ5grka1oeG43EM4HJmZQXgAx69QX0lokgXI2C9rRE9kzBRNFG8AaPNTAyyRjlCnhEvtt2xfDFOVD6YAxOumNNI1wNOAEirlOAB28CFh6ohgZ+1LYg+90dQtMOkZLO16gBQCq4HGACyx2IIjiPSPGoXkV5tJV2HJs5XzUsn7Q2E2gxF7vwFEInsvjhCdCIDaxeKgVGWDM0zglyMKIFWDzNsDMiBSm+gQPC6IuCZULoGHvxxgu6+ghADBTzDj6Y7OMgpwQIaN4LcBb3Q4H6PrGlYdx8h3Cq1e/UtskbQkCAGy0qhTAWk1msnZfDOLNUc1NmAa+ATyfd/PllSju6jFEFU5O8YBCIwCGAVq8Tr9tJn9/ponQvJmBUSjdIxMCuJ9Gq+lACoIY++IarhB5KZ7i5IQDjFBVKwkCI0TgRzXjwUI1BOtA+qf4pmTSaYlCPQkFGPVnbFhZ9yLwESj9LxeSnoBoUfc4lcGH+8SYAGqvjifi55MlSpvQmQfejGENIKTEFEcR5cR4gdRXKnzomqRbW+K0aixVyIOXC9NK+2pV21cc7VRdeBolRe9o512AGOigYHSEUpCTSfmgknB/B4yEbcgAxlilCeO1gA6yEmqsggSkWowlLR0osfRq82EDzXb/YgyTh13VynoDy8L8IJeubkqmta+rVJIBEocE7YxkRRnoQKB4BCUaog+hs/EKVJ3uDa1e/v36IQzhAX6OZkJUk6glMBYwOCVD+rCMn6T98a95DnoU/dFh31dVu4YIjRQkLDhDQywgXmEKANUOCFtogpwCpf+fQL9nReBoPdOgAqJRo2GiMI47ULcPULzEKldYkBP1uEooH+8SaquqvnheMJSvnVVQUEMQ/gCK202VtOTD7Pp3lBjAYNCgxPHBgQFFQjYKy9V+sl16SKFCQpsZocuo4e3tIkKpNB4pRiG50fqwG6EH38rT/AA6qBqgYaTB4KRQ2B6CticnWnLQtzYKKdFkSKTSxn54/r+TBjk585r/zvjh5u1CgSgKGmigX6gNPKNiIBNgEa5UNiqSGgS7dHUrwIlGj0/gT8DfVXQeWkPLy2vlyQAREIiJJ44Tqols+JBh7cOCygHTu9yhFNPcgrBsKWuEKKee1I4SiKpKjiILSjHKqHmzgWCubOQnQReRKP01SoeB21wp4QZJw1wEShgAdrwUkDIo5rkqmu1/Ao0bSIreO18XimuAgho6qhgoUXwuaj30AgnFAjxeq5lqFS0UeWgEpBajW7DRlA0wZMKygTJEUgOpxNOm0yhEajQkLwdACAQD6WfEzCepOdFtoAfa5WhnzAlYoD8EBCc4+QYaATB8AAR7zECr73s5Xpx2rWjGbA7pmZxHdpZBSZZGx4OQpScTY24oFAp3xA1GheVayFcQLAPRv4CtIhZV4ymG8I7FH2jDioQKyn4VRshpOpqEA1U4w2CqQwZgpTpPoFcoDKhamSQUADBmYvx0toAE0QeFGuxkbWwWfhINk2ag39UcPTnFIPSinbjAWUkrX1RNkSUsRACNm9wRm14RpGxDAyEnibwwh4bwAAPj/AOn/AInq5mCsB2gBKi9A5RHKlitEgo38Pr1k3mm4LTUQCUSy3K823MAKwq2H+kv/2Q==)"
      ],
      "metadata": {
        "id": "xU-TdKvclf32"
      }
    },
    {
      "cell_type": "code",
      "execution_count": null,
      "metadata": {
        "id": "rPRK9R2Olf34"
      },
      "outputs": [],
      "source": [
        "import numpy as np # linear algebra\n",
        "import pandas as pd # data processing, CSV file I/O (e.g. pd.read_csv)\n",
        "#import tensorflow as tf\n",
        "import matplotlib.pyplot as plt\n",
        "import seaborn as sns\n",
        "from sklearn.manifold import TSNE\n",
        "from sklearn.decomposition import PCA, TruncatedSVD\n",
        "import matplotlib.patches as mpatches\n",
        "import time\n",
        "\n",
        "# Classifier Libraries\n",
        "from sklearn.linear_model import LogisticRegression\n",
        "from sklearn.svm import SVC\n",
        "from sklearn.neighbors import KNeighborsClassifier\n",
        "from sklearn.tree import DecisionTreeClassifier\n",
        "from sklearn.ensemble import RandomForestClassifier\n",
        "import collections\n",
        "\n",
        "\n",
        "# Other Libraries\n",
        "from sklearn.model_selection import train_test_split\n",
        "from sklearn.pipeline import make_pipeline\n",
        "from imblearn.pipeline import make_pipeline as imbalanced_make_pipeline\n",
        "from imblearn.over_sampling import SMOTE\n",
        "from imblearn.under_sampling import NearMiss\n",
        "from imblearn.metrics import classification_report_imbalanced\n",
        "from sklearn.metrics import precision_score, recall_score, f1_score, roc_auc_score, accuracy_score, classification_report\n",
        "from collections import Counter\n",
        "from sklearn.model_selection import KFold, StratifiedKFold\n",
        "import warnings\n",
        "warnings.filterwarnings(\"ignore\")\n",
        "\n",
        "df=pd.read_csv('gdrive/My Drive/Kaggle/CreditCard/creditcard.csv')"
      ]
    },
    {
      "cell_type": "code",
      "source": [
        "from sklearn.preprocessing import StandardScaler, RobustScaler\n",
        "std_scaler = StandardScaler()\n",
        "rob_scaler = RobustScaler()\n",
        "\n",
        "df['scaled_amount'] = rob_scaler.fit_transform(df['Amount'].values.reshape(-1,1))\n",
        "df['scaled_time'] = rob_scaler.fit_transform(df['Time'].values.reshape(-1,1))\n",
        "\n",
        "df.drop(['Time','Amount'], axis=1, inplace=True)\n",
        "\n",
        "scaled_amount = df['scaled_amount']\n",
        "scaled_time = df['scaled_time']\n",
        "\n",
        "X = df.drop('Class', axis=1)\n",
        "y = df['Class']\n",
        "\n",
        "X.drop(['scaled_time'], axis=1, inplace=True)"
      ],
      "metadata": {
        "id": "JyDOirCllf34"
      },
      "execution_count": null,
      "outputs": []
    },
    {
      "cell_type": "code",
      "execution_count": null,
      "metadata": {
        "id": "360f387a-65a5-4ae9-9b2d-03374a060111",
        "outputId": "d1adcf38-ebf8-44de-ecb6-5f84c537eff6"
      },
      "outputs": [
        {
          "name": "stdout",
          "output_type": "stream",
          "text": [
            "Counter({0: 50000, 1: 492})\n",
            "Counter({0: 49975, 1: 492})\n"
          ]
        }
      ],
      "source": [
        "\n",
        "# Undersample imbalanced dataset with NearMiss-1\n",
        "from collections import Counter\n",
        "from imblearn.under_sampling import TomekLinks\n",
        "counter = Counter(y)\n",
        "print(counter)\n",
        "# define the undersampling method\n",
        "undersample = TomekLinks()\n",
        "# transform the dataset\n",
        "X_tomen, y_tomen = undersample.fit_resample(X, y)\n",
        "# summarize the new class distribution\n",
        "counter = Counter(y_tomen)\n",
        "print(counter)"
      ]
    },
    {
      "cell_type": "code",
      "execution_count": null,
      "metadata": {
        "id": "ae16fe59-9211-4a14-8638-7be360f683fc"
      },
      "outputs": [],
      "source": [
        "from sklearn.model_selection import train_test_split\n",
        "\n",
        "# This is explicitly used for undersampling.\n",
        "X_train, X_test, y_train, y_test = train_test_split(X_tomen, y_tomen, test_size=0.2, random_state=42)"
      ]
    },
    {
      "cell_type": "code",
      "execution_count": null,
      "metadata": {
        "id": "36fd65e9-0b86-4cdb-aca3-1bf1c9e9e134"
      },
      "outputs": [],
      "source": [
        "classifiers = {\n",
        "    \"LogisiticRegression\": LogisticRegression(),\n",
        "    \"KNearest\": KNeighborsClassifier(),\n",
        "    \"Support Vector Classifier\": SVC(),\n",
        "    \"RandomForestClassifier\": RandomForestClassifier()\n",
        "}"
      ]
    },
    {
      "cell_type": "code",
      "execution_count": null,
      "metadata": {
        "id": "35648112-34eb-4420-893a-225d90a6e90e",
        "outputId": "bba70ad5-6d1f-4411-8f3e-bab5cbe1aac0"
      },
      "outputs": [
        {
          "name": "stdout",
          "output_type": "stream",
          "text": [
            "Classifiers:  LogisticRegression Has a training score of 100.0 % accuracy score\n",
            "Classifiers:  KNeighborsClassifier Has a training score of 100.0 % accuracy score\n",
            "Classifiers:  SVC Has a training score of 100.0 % accuracy score\n",
            "Classifiers:  RandomForestClassifier Has a training score of 100.0 % accuracy score\n"
          ]
        }
      ],
      "source": [
        "from sklearn.model_selection import cross_val_score\n",
        "\n",
        "for key, classifier in classifiers.items():\n",
        "    classifier.fit(X_train, y_train)\n",
        "    training_score = cross_val_score(classifier, X_train, y_train, cv=5)\n",
        "    print(\"Classifiers: \", classifier.__class__.__name__, \"Has a training score of\", round(training_score.mean(), 2) * 100, \"% accuracy score\")"
      ]
    },
    {
      "cell_type": "code",
      "execution_count": null,
      "metadata": {
        "id": "53ce2d40-c326-4763-971f-bb3393c01810"
      },
      "outputs": [],
      "source": [
        "from sklearn.model_selection import GridSearchCV\n",
        "\n",
        "\n",
        "# Logistic Regression \n",
        "log_reg_params = {\"penalty\": ['l1', 'l2'], 'C': [0.001, 0.01, 0.1, 1, 10, 100, 1000]}\n",
        "\n",
        "grid_log_reg = GridSearchCV(LogisticRegression(), log_reg_params)\n",
        "grid_log_reg.fit(X_train, y_train)\n",
        "# We automatically get the logistic regression with the best parameters.\n",
        "log_reg = grid_log_reg.best_estimator_\n",
        "\n",
        "knears_params = {\"n_neighbors\": list(range(2,5,1)), 'algorithm': ['auto', 'ball_tree', 'kd_tree', 'brute']}\n",
        "\n",
        "grid_knears = GridSearchCV(KNeighborsClassifier(), knears_params)\n",
        "grid_knears.fit(X_train, y_train)\n",
        "# KNears best estimator\n",
        "knears_neighbors = grid_knears.best_estimator_\n",
        "\n",
        "# Support Vector Classifier\n",
        "svc_params = {'C': [0.5, 0.8, 1], 'kernel': ['linear']}\n",
        "grid_svc = GridSearchCV(SVC(), svc_params)\n",
        "grid_svc.fit(X_train, y_train)\n",
        "\n",
        "# SVC best estimator\n",
        "svc = grid_svc.best_estimator_\n",
        "\n",
        "# DecisionTree Classifier\n",
        "tree_params = {\"criterion\": [\"gini\", \"entropy\"], \"max_depth\": list(range(2,4,1)), \n",
        "              \"min_samples_leaf\": list(range(5,7,1))}\n",
        "grid_tree = GridSearchCV(RandomForestClassifier(), tree_params)\n",
        "grid_tree.fit(X_train, y_train)\n",
        "\n",
        "# tree best estimator\n",
        "tree_clf = grid_tree.best_estimator_"
      ]
    },
    {
      "cell_type": "markdown",
      "source": [
        "ROC_AUC score on Test set"
      ],
      "metadata": {
        "id": "fav5weltOKtx"
      }
    },
    {
      "cell_type": "code",
      "execution_count": null,
      "metadata": {
        "id": "11c7a1f1-0d37-4fa9-86c7-f8cf0cf1975e",
        "outputId": "03af6f21-77a7-45b3-d922-ec7f892b1588"
      },
      "outputs": [
        {
          "name": "stdout",
          "output_type": "stream",
          "text": [
            "Logistic Regression:  0.8860385438123518\n",
            "KNears Neighbors:  0.8909890388618567\n",
            "Support Vector Classifier:  0.886088578836869\n",
            "Random forest Classifier:  0.886088578836869\n"
          ]
        }
      ],
      "source": [
        "from sklearn.metrics import roc_auc_score\n",
        "\n",
        "print('Logistic Regression: ', roc_auc_score(y_test, log_reg.predict(X_test)))\n",
        "print('KNears Neighbors: ', roc_auc_score(y_test, knears_neighbors.predict(X_test)))\n",
        "print('Support Vector Classifier: ', roc_auc_score(y_test, svc.predict(X_test)))\n",
        "print('Random forest Classifier: ', roc_auc_score(y_test, tree_clf.predict(X_test)))"
      ]
    },
    {
      "cell_type": "markdown",
      "source": [
        "Logistic Regression Scores"
      ],
      "metadata": {
        "id": "wM5oFQZjOOcZ"
      }
    },
    {
      "cell_type": "code",
      "execution_count": null,
      "metadata": {
        "id": "5a745bc1-cd18-4508-b1a3-9ed0929c133f",
        "outputId": "b30609d2-0859-4f47-9c4d-977944eab197"
      },
      "outputs": [
        {
          "name": "stdout",
          "output_type": "stream",
          "text": [
            "Recall Score: 0.77\n",
            "Precision Score: 0.97\n",
            "F1 Score: 0.86\n",
            "Accuracy Score: 1.00\n"
          ]
        }
      ],
      "source": [
        "from sklearn.metrics import recall_score, precision_score, f1_score, accuracy_score\n",
        "print('Recall Score: {:.2f}'.format(recall_score(y_test, log_reg.predict(X_test))))\n",
        "print('Precision Score: {:.2f}'.format(precision_score(y_test, log_reg.predict(X_test))))\n",
        "print('F1 Score: {:.2f}'.format(f1_score(y_test, log_reg.predict(X_test))))\n",
        "print('Accuracy Score: {:.2f}'.format(accuracy_score(y_test, log_reg.predict(X_test))))"
      ]
    },
    {
      "cell_type": "markdown",
      "source": [
        "KNN scores"
      ],
      "metadata": {
        "id": "xeJtGRfYOTP4"
      }
    },
    {
      "cell_type": "code",
      "execution_count": null,
      "metadata": {
        "id": "b77b4b92-0664-4b88-b2b9-aa35f15978e9",
        "outputId": "ffee69e1-9a15-4c01-ecdd-f2e74d1fb9bc"
      },
      "outputs": [
        {
          "name": "stdout",
          "output_type": "stream",
          "text": [
            "Recall Score: 0.78\n",
            "Precision Score: 0.98\n",
            "F1 Score: 0.87\n",
            "Accuracy Score: 1.00\n"
          ]
        }
      ],
      "source": [
        "from sklearn.metrics import recall_score, precision_score, f1_score, accuracy_score\n",
        "print('Recall Score: {:.2f}'.format(recall_score(y_test, knears_neighbors.predict(X_test))))\n",
        "print('Precision Score: {:.2f}'.format(precision_score(y_test, knears_neighbors.predict(X_test))))\n",
        "print('F1 Score: {:.2f}'.format(f1_score(y_test, knears_neighbors.predict(X_test))))\n",
        "print('Accuracy Score: {:.2f}'.format(accuracy_score(y_test, knears_neighbors.predict(X_test))))"
      ]
    },
    {
      "cell_type": "markdown",
      "source": [
        "Random Forest Scores"
      ],
      "metadata": {
        "id": "Nw4Aw6MMOVse"
      }
    },
    {
      "cell_type": "code",
      "execution_count": null,
      "metadata": {
        "id": "4f7f27ec-3373-4de1-9f7e-511051222fed",
        "outputId": "e95184aa-8417-491b-c9e7-4cf8a3ae3e90"
      },
      "outputs": [
        {
          "name": "stdout",
          "output_type": "stream",
          "text": [
            "Recall Score: 0.77\n",
            "Precision Score: 0.99\n",
            "F1 Score: 0.87\n",
            "Accuracy Score: 1.00\n"
          ]
        }
      ],
      "source": [
        "from sklearn.metrics import recall_score, precision_score, f1_score, accuracy_score\n",
        "print('Recall Score: {:.2f}'.format(recall_score(y_test, grid_tree.predict(X_test))))\n",
        "print('Precision Score: {:.2f}'.format(precision_score(y_test, grid_tree.predict(X_test))))\n",
        "print('F1 Score: {:.2f}'.format(f1_score(y_test, grid_tree.predict(X_test))))\n",
        "print('Accuracy Score: {:.2f}'.format(accuracy_score(y_test, grid_tree.predict(X_test))))"
      ]
    },
    {
      "cell_type": "markdown",
      "source": [
        "Confusion Matrix"
      ],
      "metadata": {
        "id": "GIuwtsY2OawY"
      }
    },
    {
      "cell_type": "code",
      "execution_count": null,
      "metadata": {
        "id": "ebb8f0cb-0bd8-4592-ba76-7591d0df186e",
        "outputId": "b6bc3516-6a5b-4a82-e945-7a7ce00ec687"
      },
      "outputs": [
        {
          "data": {
            "image/png": "[encoded data removed]",
            "text/plain": [
              "<Figure size 1584x864 with 8 Axes>"
            ]
          },
          "metadata": {
            "needs_background": "light"
          },
          "output_type": "display_data"
        }
      ],
      "source": [
        "from sklearn.metrics import confusion_matrix\n",
        "\n",
        "# Logistic Regression fitted using SMOTE technique\n",
        "y_pred_log_reg = log_reg.predict(X_test)\n",
        "\n",
        "# Other models fitted with UnderSampling\n",
        "y_pred_knear = knears_neighbors.predict(X_test)\n",
        "y_pred_svc = svc.predict(X_test)\n",
        "y_pred_tree = tree_clf.predict(X_test)\n",
        "\n",
        "\n",
        "log_reg_cf = confusion_matrix(y_test, y_pred_log_reg)\n",
        "kneighbors_cf = confusion_matrix(y_test, y_pred_knear)\n",
        "svc_cf = confusion_matrix(y_test, y_pred_svc)\n",
        "tree_cf = confusion_matrix(y_test, y_pred_tree)\n",
        "\n",
        "fig, ax = plt.subplots(2, 2,figsize=(22,12))\n",
        "\n",
        "\n",
        "sns.heatmap(log_reg_cf, ax=ax[0][0], annot=True, cmap=plt.cm.copper)\n",
        "ax[0, 0].set_title(\"Logistic Regression \\n Confusion Matrix\", fontsize=14)\n",
        "\n",
        "plt.ylabel('True label')\n",
        "plt.xlabel('Predicted label')\n",
        "\n",
        "sns.heatmap(kneighbors_cf, ax=ax[0][1], annot=True, cmap=plt.cm.copper)\n",
        "ax[0][1].set_title(\"KNearsNeighbors \\n Confusion Matrix\", fontsize=14)\n",
        "\n",
        "plt.ylabel('True label')\n",
        "plt.xlabel('Predicted label')\n",
        "\n",
        "sns.heatmap(svc_cf, ax=ax[1][0], annot=True, cmap=plt.cm.copper)\n",
        "ax[1][0].set_title(\"Suppor Vector Classifier \\n Confusion Matrix\", fontsize=14)\n",
        "\n",
        "plt.ylabel('True label')\n",
        "plt.xlabel('Predicted label')\n",
        "\n",
        "sns.heatmap(tree_cf, ax=ax[1][1], annot=True, cmap=plt.cm.copper)\n",
        "ax[1][1].set_title(\"DecisionTree Classifier \\n Confusion Matrix\", fontsize=14)\n",
        "\n",
        "plt.ylabel('True label')\n",
        "plt.xlabel('Predicted label')\n",
        "\n",
        "\n",
        "plt.show()"
      ]
    },
    {
      "cell_type": "markdown",
      "metadata": {
        "id": "YK9UZY7IxeNz"
      },
      "source": [
        "### **2. Oversampling methods**"
      ]
    },
    {
      "cell_type": "markdown",
      "metadata": {
        "id": "oT5SgemRxmBG"
      },
      "source": [
        "The Oversampling methods work with the minority class. In these methods, we duplicate random instances of the minority class. So, it replicates the observations from minority class to balance the data. It is also known as upsampling. It may result in overfitting due to duplication of data points."
      ]
    },
    {
      "cell_type": "markdown",
      "metadata": {
        "id": "FOSDBNFRxxty"
      },
      "source": [
        "####**2.1 Random oversampling**\n",
        "\n",
        "\n",
        "\n",
        "\n",
        "\n",
        "\n",
        "\n",
        "\n"
      ]
    },
    {
      "cell_type": "markdown",
      "source": [
        "In random oversampling, we balance the data by randomly oversampling the minority class.\n",
        "\n",
        "This approach has several advantages and disadvantages which are listed below:-\n",
        "\n",
        "**Advantages**\n",
        "\n",
        "\n",
        "*   An advantage of this method is that it leads to no information loss.\n",
        "*   This method outperform under sampling.\n",
        "\n",
        "\n",
        "\n",
        "\n",
        "**Disadvantages**\n",
        "\n",
        "\n",
        "*   This method increases the likelihood of overfitting as it replicates the minority class labels."
      ],
      "metadata": {
        "id": "p3PHI2K3CKlw"
      }
    },
    {
      "cell_type": "markdown",
      "metadata": {
        "id": "Ons1_55-_Yp0"
      },
      "source": [
        "##### **Data**"
      ]
    },
    {
      "cell_type": "markdown",
      "metadata": {
        "id": "_iUHxwU5_Yp7"
      },
      "source": [
        "###### **Data Import**"
      ]
    },
    {
      "cell_type": "code",
      "execution_count": null,
      "metadata": {
        "colab": {
          "base_uri": "https://localhost:8080/"
        },
        "id": "psWxmWTz_Yp7",
        "outputId": "5543973f-4601-4324-ab0e-079bf57e4f04"
      },
      "outputs": [
        {
          "output_type": "stream",
          "name": "stdout",
          "text": [
            "Drive already mounted at /content/gdrive; to attempt to forcibly remount, call drive.mount(\"/content/gdrive\", force_remount=True).\n"
          ]
        }
      ],
      "source": [
        "from google.colab import drive\n",
        "drive.mount('/content/gdrive')"
      ]
    },
    {
      "cell_type": "code",
      "execution_count": null,
      "metadata": {
        "id": "Hyb3hTQs_Yp7"
      },
      "outputs": [],
      "source": [
        "import numpy as np # linear algebra\n",
        "import pandas as pd # data processing, CSV file I/O (e.g. pd.read_csv)\n",
        "#import tensorflow as tf\n",
        "import matplotlib.pyplot as plt\n",
        "import seaborn as sns\n",
        "from sklearn.manifold import TSNE\n",
        "from sklearn.decomposition import PCA, TruncatedSVD\n",
        "import matplotlib.patches as mpatches\n",
        "import time\n",
        "\n",
        "# Classifier Libraries\n",
        "from sklearn.linear_model import LogisticRegression\n",
        "from sklearn.svm import SVC\n",
        "from sklearn.neighbors import KNeighborsClassifier\n",
        "from sklearn.tree import DecisionTreeClassifier\n",
        "from sklearn.ensemble import RandomForestClassifier\n",
        "import collections\n",
        "\n",
        "\n",
        "# Other Libraries\n",
        "from sklearn.model_selection import train_test_split\n",
        "from sklearn.pipeline import make_pipeline\n",
        "from imblearn.pipeline import make_pipeline as imbalanced_make_pipeline\n",
        "from imblearn.over_sampling import SMOTE\n",
        "from imblearn.under_sampling import NearMiss\n",
        "from imblearn.metrics import classification_report_imbalanced\n",
        "from sklearn.metrics import precision_score, recall_score, f1_score, roc_auc_score, accuracy_score, classification_report\n",
        "from collections import Counter\n",
        "from sklearn.model_selection import KFold, StratifiedKFold\n",
        "import warnings\n",
        "warnings.filterwarnings(\"ignore\")\n",
        "\n",
        "df=pd.read_csv('gdrive/My Drive/Kaggle/CreditCard/creditcard.csv')"
      ]
    },
    {
      "cell_type": "code",
      "execution_count": null,
      "metadata": {
        "id": "0Df8T_YW_1rj"
      },
      "outputs": [],
      "source": [
        "label_1 = df[df['Class'] == 0]\n",
        "index_to_drop = label_1.sample(234315).index\n",
        "df = df.drop(index_to_drop)"
      ]
    },
    {
      "cell_type": "code",
      "execution_count": null,
      "metadata": {
        "colab": {
          "base_uri": "https://localhost:8080/"
        },
        "id": "QwJkNvnrFX8I",
        "outputId": "d7c17181-7319-449c-b59d-3056529de2ea"
      },
      "outputs": [
        {
          "output_type": "execute_result",
          "data": {
            "text/plain": [
              "(50492, 31)"
            ]
          },
          "metadata": {},
          "execution_count": 3
        }
      ],
      "source": [
        "df.shape"
      ]
    },
    {
      "cell_type": "markdown",
      "metadata": {
        "id": "yzyd5JHJ_Yp7"
      },
      "source": [
        "###### **Data Checking**"
      ]
    },
    {
      "cell_type": "code",
      "execution_count": null,
      "metadata": {
        "colab": {
          "base_uri": "https://localhost:8080/"
        },
        "id": "xXJY6mvR_Yp8",
        "outputId": "a44f7806-dcec-4722-94d4-dae93d9b12c3"
      },
      "outputs": [
        {
          "output_type": "stream",
          "name": "stdout",
          "text": [
            "<class 'pandas.core.frame.DataFrame'>\n",
            "Int64Index: 50492 entries, 9 to 284805\n",
            "Data columns (total 31 columns):\n",
            " #   Column  Non-Null Count  Dtype  \n",
            "---  ------  --------------  -----  \n",
            " 0   Time    50492 non-null  float64\n",
            " 1   V1      50492 non-null  float64\n",
            " 2   V2      50492 non-null  float64\n",
            " 3   V3      50492 non-null  float64\n",
            " 4   V4      50492 non-null  float64\n",
            " 5   V5      50492 non-null  float64\n",
            " 6   V6      50492 non-null  float64\n",
            " 7   V7      50492 non-null  float64\n",
            " 8   V8      50492 non-null  float64\n",
            " 9   V9      50492 non-null  float64\n",
            " 10  V10     50492 non-null  float64\n",
            " 11  V11     50492 non-null  float64\n",
            " 12  V12     50492 non-null  float64\n",
            " 13  V13     50492 non-null  float64\n",
            " 14  V14     50492 non-null  float64\n",
            " 15  V15     50492 non-null  float64\n",
            " 16  V16     50492 non-null  float64\n",
            " 17  V17     50492 non-null  float64\n",
            " 18  V18     50492 non-null  float64\n",
            " 19  V19     50492 non-null  float64\n",
            " 20  V20     50492 non-null  float64\n",
            " 21  V21     50492 non-null  float64\n",
            " 22  V22     50492 non-null  float64\n",
            " 23  V23     50492 non-null  float64\n",
            " 24  V24     50492 non-null  float64\n",
            " 25  V25     50492 non-null  float64\n",
            " 26  V26     50492 non-null  float64\n",
            " 27  V27     50492 non-null  float64\n",
            " 28  V28     50492 non-null  float64\n",
            " 29  Amount  50492 non-null  float64\n",
            " 30  Class   50492 non-null  int64  \n",
            "dtypes: float64(30), int64(1)\n",
            "memory usage: 12.3 MB\n"
          ]
        }
      ],
      "source": [
        "df.info()"
      ]
    },
    {
      "cell_type": "code",
      "execution_count": null,
      "metadata": {
        "colab": {
          "base_uri": "https://localhost:8080/",
          "height": 364
        },
        "id": "nkt-_3O__Yp8",
        "outputId": "a375da81-cf04-43c8-f4cf-a6971655d65b"
      },
      "outputs": [
        {
          "output_type": "execute_result",
          "data": {
            "text/html": [
              "\n",
              "  <div id=\"df-3dd226a5-b34e-49fa-a263-144b8552e7a1\">\n",
              "    <div class=\"colab-df-container\">\n",
              "      <div>\n",
              "<style scoped>\n",
              "    .dataframe tbody tr th:only-of-type {\n",
              "        vertical-align: middle;\n",
              "    }\n",
              "\n",
              "    .dataframe tbody tr th {\n",
              "        vertical-align: top;\n",
              "    }\n",
              "\n",
              "    .dataframe thead th {\n",
              "        text-align: right;\n",
              "    }\n",
              "</style>\n",
              "<table border=\"1\" class=\"dataframe\">\n",
              "  <thead>\n",
              "    <tr style=\"text-align: right;\">\n",
              "      <th></th>\n",
              "      <th>Time</th>\n",
              "      <th>V1</th>\n",
              "      <th>V2</th>\n",
              "      <th>V3</th>\n",
              "      <th>V4</th>\n",
              "      <th>V5</th>\n",
              "      <th>V6</th>\n",
              "      <th>V7</th>\n",
              "      <th>V8</th>\n",
              "      <th>V9</th>\n",
              "      <th>V10</th>\n",
              "      <th>V11</th>\n",
              "      <th>V12</th>\n",
              "      <th>V13</th>\n",
              "      <th>V14</th>\n",
              "      <th>V15</th>\n",
              "      <th>V16</th>\n",
              "      <th>V17</th>\n",
              "      <th>V18</th>\n",
              "      <th>V19</th>\n",
              "      <th>V20</th>\n",
              "      <th>V21</th>\n",
              "      <th>V22</th>\n",
              "      <th>V23</th>\n",
              "      <th>V24</th>\n",
              "      <th>V25</th>\n",
              "      <th>V26</th>\n",
              "      <th>V27</th>\n",
              "      <th>V28</th>\n",
              "      <th>Amount</th>\n",
              "      <th>Class</th>\n",
              "    </tr>\n",
              "  </thead>\n",
              "  <tbody>\n",
              "    <tr>\n",
              "      <th>count</th>\n",
              "      <td>50492.000000</td>\n",
              "      <td>50492.000000</td>\n",
              "      <td>50492.000000</td>\n",
              "      <td>50492.000000</td>\n",
              "      <td>50492.000000</td>\n",
              "      <td>50492.000000</td>\n",
              "      <td>50492.000000</td>\n",
              "      <td>50492.000000</td>\n",
              "      <td>50492.000000</td>\n",
              "      <td>50492.000000</td>\n",
              "      <td>50492.000000</td>\n",
              "      <td>50492.000000</td>\n",
              "      <td>50492.000000</td>\n",
              "      <td>50492.000000</td>\n",
              "      <td>50492.000000</td>\n",
              "      <td>50492.000000</td>\n",
              "      <td>50492.000000</td>\n",
              "      <td>50492.000000</td>\n",
              "      <td>50492.000000</td>\n",
              "      <td>50492.000000</td>\n",
              "      <td>50492.000000</td>\n",
              "      <td>50492.000000</td>\n",
              "      <td>50492.000000</td>\n",
              "      <td>50492.000000</td>\n",
              "      <td>50492.000000</td>\n",
              "      <td>50492.000000</td>\n",
              "      <td>50492.000000</td>\n",
              "      <td>50492.000000</td>\n",
              "      <td>50492.000000</td>\n",
              "      <td>50492.000000</td>\n",
              "      <td>50492.000000</td>\n",
              "    </tr>\n",
              "    <tr>\n",
              "      <th>mean</th>\n",
              "      <td>94666.694546</td>\n",
              "      <td>-0.034791</td>\n",
              "      <td>0.028687</td>\n",
              "      <td>-0.060315</td>\n",
              "      <td>0.042823</td>\n",
              "      <td>-0.024034</td>\n",
              "      <td>-0.009073</td>\n",
              "      <td>-0.045790</td>\n",
              "      <td>0.003818</td>\n",
              "      <td>-0.018724</td>\n",
              "      <td>-0.038712</td>\n",
              "      <td>0.031196</td>\n",
              "      <td>-0.049316</td>\n",
              "      <td>-0.002702</td>\n",
              "      <td>-0.062456</td>\n",
              "      <td>-0.000317</td>\n",
              "      <td>-0.033267</td>\n",
              "      <td>-0.051362</td>\n",
              "      <td>-0.020818</td>\n",
              "      <td>0.007344</td>\n",
              "      <td>0.004156</td>\n",
              "      <td>0.010993</td>\n",
              "      <td>0.003139</td>\n",
              "      <td>0.006119</td>\n",
              "      <td>-0.004047</td>\n",
              "      <td>0.002011</td>\n",
              "      <td>0.001596</td>\n",
              "      <td>0.000902</td>\n",
              "      <td>0.001555</td>\n",
              "      <td>88.645206</td>\n",
              "      <td>0.009744</td>\n",
              "    </tr>\n",
              "    <tr>\n",
              "      <th>std</th>\n",
              "      <td>47414.598494</td>\n",
              "      <td>2.078291</td>\n",
              "      <td>1.716184</td>\n",
              "      <td>1.756281</td>\n",
              "      <td>1.490608</td>\n",
              "      <td>1.456585</td>\n",
              "      <td>1.327915</td>\n",
              "      <td>1.448498</td>\n",
              "      <td>1.314653</td>\n",
              "      <td>1.141530</td>\n",
              "      <td>1.283026</td>\n",
              "      <td>1.100129</td>\n",
              "      <td>1.211928</td>\n",
              "      <td>0.995050</td>\n",
              "      <td>1.206232</td>\n",
              "      <td>0.914658</td>\n",
              "      <td>1.006998</td>\n",
              "      <td>1.209291</td>\n",
              "      <td>0.895169</td>\n",
              "      <td>0.815929</td>\n",
              "      <td>0.765376</td>\n",
              "      <td>0.799898</td>\n",
              "      <td>0.737084</td>\n",
              "      <td>0.621981</td>\n",
              "      <td>0.604632</td>\n",
              "      <td>0.522382</td>\n",
              "      <td>0.479050</td>\n",
              "      <td>0.426893</td>\n",
              "      <td>0.351878</td>\n",
              "      <td>244.942723</td>\n",
              "      <td>0.098231</td>\n",
              "    </tr>\n",
              "    <tr>\n",
              "      <th>min</th>\n",
              "      <td>0.000000</td>\n",
              "      <td>-56.407510</td>\n",
              "      <td>-72.715728</td>\n",
              "      <td>-31.813586</td>\n",
              "      <td>-5.401678</td>\n",
              "      <td>-27.737487</td>\n",
              "      <td>-26.160506</td>\n",
              "      <td>-43.557242</td>\n",
              "      <td>-41.044261</td>\n",
              "      <td>-13.434066</td>\n",
              "      <td>-24.588262</td>\n",
              "      <td>-4.568390</td>\n",
              "      <td>-18.683715</td>\n",
              "      <td>-3.733640</td>\n",
              "      <td>-19.214325</td>\n",
              "      <td>-4.498945</td>\n",
              "      <td>-14.129855</td>\n",
              "      <td>-25.162799</td>\n",
              "      <td>-9.498746</td>\n",
              "      <td>-4.384828</td>\n",
              "      <td>-25.222345</td>\n",
              "      <td>-22.797604</td>\n",
              "      <td>-8.887017</td>\n",
              "      <td>-30.269720</td>\n",
              "      <td>-2.836627</td>\n",
              "      <td>-6.429334</td>\n",
              "      <td>-2.068561</td>\n",
              "      <td>-22.565679</td>\n",
              "      <td>-11.710896</td>\n",
              "      <td>0.000000</td>\n",
              "      <td>0.000000</td>\n",
              "    </tr>\n",
              "    <tr>\n",
              "      <th>25%</th>\n",
              "      <td>54039.500000</td>\n",
              "      <td>-0.929435</td>\n",
              "      <td>-0.595264</td>\n",
              "      <td>-0.935266</td>\n",
              "      <td>-0.840279</td>\n",
              "      <td>-0.701229</td>\n",
              "      <td>-0.772909</td>\n",
              "      <td>-0.563152</td>\n",
              "      <td>-0.207071</td>\n",
              "      <td>-0.659521</td>\n",
              "      <td>-0.538510</td>\n",
              "      <td>-0.760403</td>\n",
              "      <td>-0.419784</td>\n",
              "      <td>-0.651808</td>\n",
              "      <td>-0.447591</td>\n",
              "      <td>-0.579367</td>\n",
              "      <td>-0.477771</td>\n",
              "      <td>-0.488532</td>\n",
              "      <td>-0.506310</td>\n",
              "      <td>-0.450171</td>\n",
              "      <td>-0.211721</td>\n",
              "      <td>-0.226482</td>\n",
              "      <td>-0.543565</td>\n",
              "      <td>-0.162225</td>\n",
              "      <td>-0.360541</td>\n",
              "      <td>-0.316310</td>\n",
              "      <td>-0.324568</td>\n",
              "      <td>-0.070935</td>\n",
              "      <td>-0.053313</td>\n",
              "      <td>5.490000</td>\n",
              "      <td>0.000000</td>\n",
              "    </tr>\n",
              "    <tr>\n",
              "      <th>50%</th>\n",
              "      <td>84615.000000</td>\n",
              "      <td>0.011698</td>\n",
              "      <td>0.073143</td>\n",
              "      <td>0.168246</td>\n",
              "      <td>0.002003</td>\n",
              "      <td>-0.060936</td>\n",
              "      <td>-0.278347</td>\n",
              "      <td>0.033803</td>\n",
              "      <td>0.022751</td>\n",
              "      <td>-0.053668</td>\n",
              "      <td>-0.096839</td>\n",
              "      <td>-0.025717</td>\n",
              "      <td>0.133143</td>\n",
              "      <td>-0.015350</td>\n",
              "      <td>0.041340</td>\n",
              "      <td>0.049553</td>\n",
              "      <td>0.060935</td>\n",
              "      <td>-0.063366</td>\n",
              "      <td>-0.008012</td>\n",
              "      <td>0.005322</td>\n",
              "      <td>-0.062290</td>\n",
              "      <td>-0.025710</td>\n",
              "      <td>0.011892</td>\n",
              "      <td>-0.010860</td>\n",
              "      <td>0.038459</td>\n",
              "      <td>0.016808</td>\n",
              "      <td>-0.050532</td>\n",
              "      <td>0.001887</td>\n",
              "      <td>0.011594</td>\n",
              "      <td>22.140000</td>\n",
              "      <td>0.000000</td>\n",
              "    </tr>\n",
              "    <tr>\n",
              "      <th>75%</th>\n",
              "      <td>139121.500000</td>\n",
              "      <td>1.315404</td>\n",
              "      <td>0.813294</td>\n",
              "      <td>1.023638</td>\n",
              "      <td>0.774630</td>\n",
              "      <td>0.601024</td>\n",
              "      <td>0.394860</td>\n",
              "      <td>0.560541</td>\n",
              "      <td>0.331949</td>\n",
              "      <td>0.592376</td>\n",
              "      <td>0.455254</td>\n",
              "      <td>0.759512</td>\n",
              "      <td>0.614174</td>\n",
              "      <td>0.657646</td>\n",
              "      <td>0.482499</td>\n",
              "      <td>0.647871</td>\n",
              "      <td>0.516422</td>\n",
              "      <td>0.398751</td>\n",
              "      <td>0.496389</td>\n",
              "      <td>0.464544</td>\n",
              "      <td>0.137145</td>\n",
              "      <td>0.191658</td>\n",
              "      <td>0.539396</td>\n",
              "      <td>0.148784</td>\n",
              "      <td>0.435710</td>\n",
              "      <td>0.351317</td>\n",
              "      <td>0.241938</td>\n",
              "      <td>0.092807</td>\n",
              "      <td>0.079781</td>\n",
              "      <td>78.000000</td>\n",
              "      <td>0.000000</td>\n",
              "    </tr>\n",
              "    <tr>\n",
              "      <th>max</th>\n",
              "      <td>172786.000000</td>\n",
              "      <td>2.451888</td>\n",
              "      <td>22.057729</td>\n",
              "      <td>9.382558</td>\n",
              "      <td>16.491217</td>\n",
              "      <td>34.801666</td>\n",
              "      <td>16.410638</td>\n",
              "      <td>25.971058</td>\n",
              "      <td>20.007208</td>\n",
              "      <td>15.594995</td>\n",
              "      <td>23.745136</td>\n",
              "      <td>12.018913</td>\n",
              "      <td>4.293342</td>\n",
              "      <td>4.262851</td>\n",
              "      <td>7.439566</td>\n",
              "      <td>5.784514</td>\n",
              "      <td>5.562388</td>\n",
              "      <td>7.893393</td>\n",
              "      <td>4.115560</td>\n",
              "      <td>5.228342</td>\n",
              "      <td>26.237391</td>\n",
              "      <td>27.202839</td>\n",
              "      <td>8.361985</td>\n",
              "      <td>15.719952</td>\n",
              "      <td>4.014444</td>\n",
              "      <td>5.376595</td>\n",
              "      <td>3.155327</td>\n",
              "      <td>8.104297</td>\n",
              "      <td>33.847808</td>\n",
              "      <td>12910.930000</td>\n",
              "      <td>1.000000</td>\n",
              "    </tr>\n",
              "  </tbody>\n",
              "</table>\n",
              "</div>\n",
              "      <button class=\"colab-df-convert\" onclick=\"convertToInteractive('df-3dd226a5-b34e-49fa-a263-144b8552e7a1')\"\n",
              "              title=\"Convert this dataframe to an interactive table.\"\n",
              "              style=\"display:none;\">\n",
              "        \n",
              "  <svg xmlns=\"http://www.w3.org/2000/svg\" height=\"24px\"viewBox=\"0 0 24 24\"\n",
              "       width=\"24px\">\n",
              "    <path d=\"M0 0h24v24H0V0z\" fill=\"none\"/>\n",
              "    <path d=\"M18.56 5.44l.94 2.06.94-2.06 2.06-.94-2.06-.94-.94-2.06-.94 2.06-2.06.94zm-11 1L8.5 8.5l.94-2.06 2.06-.94-2.06-.94L8.5 2.5l-.94 2.06-2.06.94zm10 10l.94 2.06.94-2.06 2.06-.94-2.06-.94-.94-2.06-.94 2.06-2.06.94z\"/><path d=\"M17.41 7.96l-1.37-1.37c-.4-.4-.92-.59-1.43-.59-.52 0-1.04.2-1.43.59L10.3 9.45l-7.72 7.72c-.78.78-.78 2.05 0 2.83L4 21.41c.39.39.9.59 1.41.59.51 0 1.02-.2 1.41-.59l7.78-7.78 2.81-2.81c.8-.78.8-2.07 0-2.86zM5.41 20L4 18.59l7.72-7.72 1.47 1.35L5.41 20z\"/>\n",
              "  </svg>\n",
              "      </button>\n",
              "      \n",
              "  <style>\n",
              "    .colab-df-container {\n",
              "      display:flex;\n",
              "      flex-wrap:wrap;\n",
              "      gap: 12px;\n",
              "    }\n",
              "\n",
              "    .colab-df-convert {\n",
              "      background-color: #E8F0FE;\n",
              "      border: none;\n",
              "      border-radius: 50%;\n",
              "      cursor: pointer;\n",
              "      display: none;\n",
              "      fill: #1967D2;\n",
              "      height: 32px;\n",
              "      padding: 0 0 0 0;\n",
              "      width: 32px;\n",
              "    }\n",
              "\n",
              "    .colab-df-convert:hover {\n",
              "      background-color: #E2EBFA;\n",
              "      box-shadow: 0px 1px 2px rgba(60, 64, 67, 0.3), 0px 1px 3px 1px rgba(60, 64, 67, 0.15);\n",
              "      fill: #174EA6;\n",
              "    }\n",
              "\n",
              "    [theme=dark] .colab-df-convert {\n",
              "      background-color: #3B4455;\n",
              "      fill: #D2E3FC;\n",
              "    }\n",
              "\n",
              "    [theme=dark] .colab-df-convert:hover {\n",
              "      background-color: #434B5C;\n",
              "      box-shadow: 0px 1px 3px 1px rgba(0, 0, 0, 0.15);\n",
              "      filter: drop-shadow(0px 1px 2px rgba(0, 0, 0, 0.3));\n",
              "      fill: #FFFFFF;\n",
              "    }\n",
              "  </style>\n",
              "\n",
              "      <script>\n",
              "        const buttonEl =\n",
              "          document.querySelector('#df-3dd226a5-b34e-49fa-a263-144b8552e7a1 button.colab-df-convert');\n",
              "        buttonEl.style.display =\n",
              "          google.colab.kernel.accessAllowed ? 'block' : 'none';\n",
              "\n",
              "        async function convertToInteractive(key) {\n",
              "          const element = document.querySelector('#df-3dd226a5-b34e-49fa-a263-144b8552e7a1');\n",
              "          const dataTable =\n",
              "            await google.colab.kernel.invokeFunction('convertToInteractive',\n",
              "                                                     [key], {});\n",
              "          if (!dataTable) return;\n",
              "\n",
              "          const docLinkHtml = 'Like what you see? Visit the ' +\n",
              "            '<a target=\"_blank\" href=https://colab.research.google.com/notebooks/data_table.ipynb>data table notebook</a>'\n",
              "            + ' to learn more about interactive tables.';\n",
              "          element.innerHTML = '';\n",
              "          dataTable['output_type'] = 'display_data';\n",
              "          await google.colab.output.renderOutput(dataTable, element);\n",
              "          const docLink = document.createElement('div');\n",
              "          docLink.innerHTML = docLinkHtml;\n",
              "          element.appendChild(docLink);\n",
              "        }\n",
              "      </script>\n",
              "    </div>\n",
              "  </div>\n",
              "  "
            ],
            "text/plain": [
              "                Time            V1  ...        Amount         Class\n",
              "count   50492.000000  50492.000000  ...  50492.000000  50492.000000\n",
              "mean    94666.694546     -0.034791  ...     88.645206      0.009744\n",
              "std     47414.598494      2.078291  ...    244.942723      0.098231\n",
              "min         0.000000    -56.407510  ...      0.000000      0.000000\n",
              "25%     54039.500000     -0.929435  ...      5.490000      0.000000\n",
              "50%     84615.000000      0.011698  ...     22.140000      0.000000\n",
              "75%    139121.500000      1.315404  ...     78.000000      0.000000\n",
              "max    172786.000000      2.451888  ...  12910.930000      1.000000\n",
              "\n",
              "[8 rows x 31 columns]"
            ]
          },
          "metadata": {},
          "execution_count": 15
        }
      ],
      "source": [
        "df.describe()"
      ]
    },
    {
      "cell_type": "code",
      "execution_count": null,
      "metadata": {
        "colab": {
          "base_uri": "https://localhost:8080/",
          "height": 326
        },
        "id": "WCzC8UzU_Yp8",
        "outputId": "cd950566-ffba-444c-fcc2-e5a5dd6452fc"
      },
      "outputs": [
        {
          "output_type": "stream",
          "name": "stdout",
          "text": [
            "No Frauds = 99.03 % Total No-fraud values = 50000\n",
            "Frauds = 0.97 % Total fraud values = 492\n"
          ]
        },
        {
          "output_type": "display_data",
          "data": {
            "image/png": "[encoded data removed]",
            "text/plain": [
              "<Figure size 432x288 with 1 Axes>"
            ]
          },
          "metadata": {
            "needs_background": "light"
          }
        }
      ],
      "source": [
        "import matplotlib.pyplot as plt\n",
        "%matplotlib inline\n",
        "\n",
        "count_classes = pd.value_counts(df['Class'], sort = True).sort_index()\n",
        "count_classes.plot(kind = 'bar')\n",
        "plt.title(\"Fraud class histogram\")\n",
        "plt.xlabel(\"Class\")\n",
        "plt.ylabel(\"Frequency\")\n",
        "\n",
        "print('No Frauds =', round(df['Class'].value_counts()[0]/len(df) * 100,2), '% Total No-fraud values =',df['Class'].value_counts()[0])\n",
        "print('Frauds =', round(df['Class'].value_counts()[1]/len(df) * 100,2), '% Total fraud values =', df['Class'].value_counts()[1])"
      ]
    },
    {
      "cell_type": "code",
      "execution_count": null,
      "metadata": {
        "id": "rVweC6hR_Yp8"
      },
      "outputs": [],
      "source": [
        "from sklearn.preprocessing import StandardScaler, RobustScaler\n",
        "std_scaler = StandardScaler()\n",
        "rob_scaler = RobustScaler()\n",
        "\n",
        "df['scaled_amount'] = rob_scaler.fit_transform(df['Amount'].values.reshape(-1,1))\n",
        "df['scaled_time'] = rob_scaler.fit_transform(df['Time'].values.reshape(-1,1))\n",
        "\n",
        "df.drop(['Time','Amount'], axis=1, inplace=True)\n",
        "\n",
        "scaled_amount = df['scaled_amount']\n",
        "scaled_time = df['scaled_time']"
      ]
    },
    {
      "cell_type": "code",
      "execution_count": null,
      "metadata": {
        "id": "S3ebPSvo_Yp8"
      },
      "outputs": [],
      "source": [
        "X = df.drop('Class', axis=1)\n",
        "y = df['Class']"
      ]
    },
    {
      "cell_type": "code",
      "execution_count": null,
      "metadata": {
        "colab": {
          "base_uri": "https://localhost:8080/"
        },
        "id": "iZ3jFPVc_Yp8",
        "outputId": "689c0609-41c1-4666-99e0-fe431ff3f37d"
      },
      "outputs": [
        {
          "output_type": "stream",
          "name": "stdout",
          "text": [
            "                                 OLS Regression Results                                \n",
            "=======================================================================================\n",
            "Dep. Variable:                  Class   R-squared (uncentered):                   0.620\n",
            "Model:                            OLS   Adj. R-squared (uncentered):              0.619\n",
            "Method:                 Least Squares   F-statistic:                              2740.\n",
            "Date:                Fri, 17 Dec 2021   Prob (F-statistic):                        0.00\n",
            "Time:                        19:17:04   Log-Likelihood:                          69673.\n",
            "No. Observations:               50492   AIC:                                 -1.393e+05\n",
            "Df Residuals:                   50462   BIC:                                 -1.390e+05\n",
            "Df Model:                          30                                                  \n",
            "Covariance Type:            nonrobust                                                  \n",
            "=================================================================================\n",
            "                    coef    std err          t      P>|t|      [0.025      0.975]\n",
            "---------------------------------------------------------------------------------\n",
            "V1               -0.0001      0.000     -0.714      0.475      -0.000       0.000\n",
            "V2                0.0068      0.000     22.771      0.000       0.006       0.007\n",
            "V3               -0.0042      0.000    -19.673      0.000      -0.005      -0.004\n",
            "V4                0.0057      0.000     28.406      0.000       0.005       0.006\n",
            "V5                0.0028      0.000      9.531      0.000       0.002       0.003\n",
            "V6               -0.0044      0.000    -18.186      0.000      -0.005      -0.004\n",
            "V7               -0.0086      0.000    -26.972      0.000      -0.009      -0.008\n",
            "V8                0.0003      0.000      1.506      0.132   -9.99e-05       0.001\n",
            "V9               -0.0039      0.000    -15.890      0.000      -0.004      -0.003\n",
            "V10              -0.0086      0.000    -34.713      0.000      -0.009      -0.008\n",
            "V11               0.0092      0.000     33.330      0.000       0.009       0.010\n",
            "V12              -0.0142      0.000    -54.570      0.000      -0.015      -0.014\n",
            "V13              -0.0014      0.000     -5.247      0.000      -0.002      -0.001\n",
            "V14              -0.0234      0.000    -90.477      0.000      -0.024      -0.023\n",
            "V15              -0.0002      0.000     -0.663      0.508      -0.001       0.000\n",
            "V16              -0.0095      0.000    -31.789      0.000      -0.010      -0.009\n",
            "V17              -0.0137      0.000    -49.130      0.000      -0.014      -0.013\n",
            "V18              -0.0033      0.000    -10.339      0.000      -0.004      -0.003\n",
            "V19               0.0019      0.000      5.704      0.000       0.001       0.003\n",
            "V20              -0.0042      0.000     -8.804      0.000      -0.005      -0.003\n",
            "V21               0.0035      0.000      9.908      0.000       0.003       0.004\n",
            "V22               0.0007      0.000      1.880      0.060   -3.09e-05       0.001\n",
            "V23               0.0019      0.000      3.891      0.000       0.001       0.003\n",
            "V24              -0.0017      0.000     -3.757      0.000      -0.003      -0.001\n",
            "V25               0.0018      0.001      3.364      0.001       0.001       0.003\n",
            "V26               0.0004      0.001      0.667      0.504      -0.001       0.001\n",
            "V27               0.0055      0.001      8.477      0.000       0.004       0.007\n",
            "V28               0.0039      0.001      5.047      0.000       0.002       0.005\n",
            "scaled_amount     0.0038      0.000     17.410      0.000       0.003       0.004\n",
            "scaled_time      -0.0010      0.001     -1.467      0.142      -0.002       0.000\n",
            "==============================================================================\n",
            "Omnibus:                    75951.451   Durbin-Watson:                   1.945\n",
            "Prob(Omnibus):                  0.000   Jarque-Bera (JB):         53134312.370\n",
            "Skew:                           9.200   Prob(JB):                         0.00\n",
            "Kurtosis:                     160.852   Cond. No.                         10.9\n",
            "==============================================================================\n",
            "\n",
            "Warnings:\n",
            "[1] Standard Errors assume that the covariance matrix of the errors is correctly specified.\n"
          ]
        }
      ],
      "source": [
        "import statsmodels.api as sm\n",
        "model = sm.OLS(y,X)\n",
        "results = model.fit()\n",
        "print(results.summary())"
      ]
    },
    {
      "cell_type": "code",
      "execution_count": null,
      "metadata": {
        "id": "9fzcon_R_Yp8"
      },
      "outputs": [],
      "source": [
        "X.drop(['scaled_time'], axis=1, inplace=True)"
      ]
    },
    {
      "cell_type": "markdown",
      "source": [
        "##### **Training Random Oversampling**"
      ],
      "metadata": {
        "id": "2lRQ-KiaeC8a"
      }
    },
    {
      "cell_type": "code",
      "execution_count": null,
      "metadata": {
        "id": "58628350-aafb-4a02-9be6-dd6c5771dff8",
        "outputId": "ec4d2e28-d415-4625-f1f3-3c90073e9dc8"
      },
      "outputs": [
        {
          "name": "stdout",
          "output_type": "stream",
          "text": [
            "Counter({0: 50000, 1: 492})\n",
            "Counter({0: 50000, 1: 50000})\n"
          ]
        }
      ],
      "source": [
        "\n",
        "# example of random oversampling to balance the class distribution\n",
        "from collections import Counter\n",
        "from sklearn.datasets import make_classification\n",
        "from imblearn.over_sampling import RandomOverSampler\n",
        "# summarize class distribution\n",
        "print(Counter(y))\n",
        "# define oversampling strategy\n",
        "oversample = RandomOverSampler(sampling_strategy='minority')\n",
        "# fit and apply the transform\n",
        "X_over, y_over = oversample.fit_resample(X, y)\n",
        "# summarize class distribution\n",
        "print(Counter(y_over))"
      ]
    },
    {
      "cell_type": "code",
      "execution_count": null,
      "metadata": {
        "id": "1cf458e9-0b62-44d9-9b70-6f925cebf2ed",
        "outputId": "ed209659-8f2a-438c-f31d-57da9fddd7fa"
      },
      "outputs": [
        {
          "name": "stdout",
          "output_type": "stream",
          "text": [
            "No Frauds = 50.0 % Total No-fraud values = 50000\n",
            "Frauds = 50.0 % Total fraud values = 50000\n",
            "Counter({0: 50000, 1: 50000})\n"
          ]
        }
      ],
      "source": [
        "print('No Frauds =', round(y_over.value_counts()[0]/len(y_over) * 100,2), '% Total No-fraud values =',y_over.value_counts()[0])\n",
        "print('Frauds =', round(y_over.value_counts()[1]/len(y_over) * 100,2), '% Total fraud values =', y_over.value_counts()[1])\n",
        "print(Counter(y_over))"
      ]
    },
    {
      "cell_type": "code",
      "execution_count": null,
      "metadata": {
        "id": "1bc69451-a7cb-4a14-9eb1-5c2e6fbdfccc"
      },
      "outputs": [],
      "source": [
        "from sklearn.model_selection import train_test_split\n",
        "\n",
        "# This is explicitly used for undersampling.\n",
        "X_train, X_test, y_train, y_test = train_test_split(X_over, y_over, test_size=0.2, random_state=42)"
      ]
    },
    {
      "cell_type": "code",
      "execution_count": null,
      "metadata": {
        "id": "1245bbba-e23d-44c1-a1d1-97ae703a395b"
      },
      "outputs": [],
      "source": [
        "classifiers = {\n",
        "    \"LogisiticRegression\": LogisticRegression(),\n",
        "    \"KNearest\": KNeighborsClassifier(),\n",
        "    \"Support Vector Classifier\": SVC(),\n",
        "    \"RandomForestClassifier\": RandomForestClassifier()\n",
        "}"
      ]
    },
    {
      "cell_type": "code",
      "execution_count": null,
      "metadata": {
        "id": "aa9596e1-42e6-4c95-8eab-9598ea41135f",
        "outputId": "af32b256-5843-4484-bad5-cf704e6ddaeb"
      },
      "outputs": [
        {
          "name": "stdout",
          "output_type": "stream",
          "text": [
            "Classifiers:  LogisticRegression Has a training score of 95.0 % accuracy score\n",
            "Classifiers:  KNeighborsClassifier Has a training score of 100.0 % accuracy score\n",
            "Classifiers:  SVC Has a training score of 96.0 % accuracy score\n",
            "Classifiers:  RandomForestClassifier Has a training score of 100.0 % accuracy score\n"
          ]
        }
      ],
      "source": [
        "from sklearn.model_selection import cross_val_score\n",
        "\n",
        "for key, classifier in classifiers.items():\n",
        "    classifier.fit(X_train, y_train)\n",
        "    training_score = cross_val_score(classifier, X_train, y_train, cv=5)\n",
        "    print(\"Classifiers: \", classifier.__class__.__name__, \"Has a training score of\", round(training_score.mean(), 2) * 100, \"% accuracy score\")"
      ]
    },
    {
      "cell_type": "code",
      "execution_count": null,
      "metadata": {
        "id": "32d2a8e9-cca9-4bc2-8892-a2b8b5db187d"
      },
      "outputs": [],
      "source": [
        "from sklearn.model_selection import GridSearchCV\n",
        "\n",
        "\n",
        "# Logistic Regression \n",
        "log_reg_params = {\"penalty\": ['l1', 'l2'], 'C': [0.001, 0.01, 0.1, 1, 10, 100, 1000]}\n",
        "\n",
        "grid_log_reg = GridSearchCV(LogisticRegression(), log_reg_params)\n",
        "grid_log_reg.fit(X_train, y_train)\n",
        "# We automatically get the logistic regression with the best parameters.\n",
        "log_reg = grid_log_reg.best_estimator_\n",
        "\n",
        "knears_params = {\"n_neighbors\": list(range(2,5,1)), 'algorithm': ['auto', 'ball_tree', 'kd_tree', 'brute']}\n",
        "\n",
        "grid_knears = GridSearchCV(KNeighborsClassifier(), knears_params)\n",
        "grid_knears.fit(X_train, y_train)\n",
        "# KNears best estimator\n",
        "knears_neighbors = grid_knears.best_estimator_\n",
        "\n",
        "# Support Vector Classifier\n",
        "svc_params = {'C': [0.5, 0.8, 1], 'kernel': ['linear']}\n",
        "grid_svc = GridSearchCV(SVC(), svc_params)\n",
        "grid_svc.fit(X_train, y_train)\n",
        "\n",
        "# SVC best estimator\n",
        "svc = grid_svc.best_estimator_\n",
        "\n",
        "# DecisionTree Classifier\n",
        "tree_params = {\"criterion\": [\"gini\", \"entropy\"], \"max_depth\": list(range(2,4,1)), \n",
        "              \"min_samples_leaf\": list(range(5,7,1))}\n",
        "grid_tree = GridSearchCV(RandomForestClassifier(), tree_params)\n",
        "grid_tree.fit(X_train, y_train)\n",
        "\n",
        "# tree best estimator\n",
        "tree_clf = grid_tree.best_estimator_"
      ]
    },
    {
      "cell_type": "code",
      "execution_count": null,
      "metadata": {
        "id": "3e3310c9-86b3-4169-94c3-0bdc4fb5d2a5",
        "outputId": "665d9518-7b14-4cac-b23c-a23711601bdd"
      },
      "outputs": [
        {
          "name": "stdout",
          "output_type": "stream",
          "text": [
            "Logistic Regression:  0.9488429469012223\n",
            "KNears Neighbors:  0.9990536906066341\n",
            "Support Vector Classifier:  0.9498449121411138\n",
            "Decision Tree Classifier:  0.9376347464244931\n"
          ]
        }
      ],
      "source": [
        "from sklearn.metrics import roc_auc_score\n",
        "\n",
        "print('Logistic Regression: ', roc_auc_score(y_test, log_reg.predict(X_test)))\n",
        "print('KNears Neighbors: ', roc_auc_score(y_test, knears_neighbors.predict(X_test)))\n",
        "print('Support Vector Classifier: ', roc_auc_score(y_test, svc.predict(X_test)))\n",
        "print('Decision Tree Classifier: ', roc_auc_score(y_test, tree_clf.predict(X_test)))"
      ]
    },
    {
      "cell_type": "code",
      "execution_count": null,
      "metadata": {
        "id": "7e40fede-f636-4f20-9897-5bcc696444fb",
        "outputId": "46695b13-b6f6-45ef-f89e-62c7dc3a6afe"
      },
      "outputs": [
        {
          "name": "stdout",
          "output_type": "stream",
          "text": [
            "Recall Score: 0.92\n",
            "Precision Score: 0.97\n",
            "F1 Score: 0.95\n",
            "Accuracy Score: 0.95\n"
          ]
        }
      ],
      "source": [
        "from sklearn.metrics import recall_score, precision_score, f1_score, accuracy_score\n",
        "print('Recall Score: {:.2f}'.format(recall_score(y_test, log_reg.predict(X_test))))\n",
        "print('Precision Score: {:.2f}'.format(precision_score(y_test, log_reg.predict(X_test))))\n",
        "print('F1 Score: {:.2f}'.format(f1_score(y_test, log_reg.predict(X_test))))\n",
        "print('Accuracy Score: {:.2f}'.format(accuracy_score(y_test, log_reg.predict(X_test))))"
      ]
    },
    {
      "cell_type": "code",
      "execution_count": null,
      "metadata": {
        "id": "255972e9-03fd-4c01-b89c-ac82c68eff29",
        "outputId": "66ba1cdc-f296-4865-bd70-e849e25662eb"
      },
      "outputs": [
        {
          "name": "stdout",
          "output_type": "stream",
          "text": [
            "Recall Score: 1.00\n",
            "Precision Score: 1.00\n",
            "F1 Score: 1.00\n",
            "Accuracy Score: 1.00\n"
          ]
        }
      ],
      "source": [
        "from sklearn.metrics import recall_score, precision_score, f1_score, accuracy_score\n",
        "print('Recall Score: {:.2f}'.format(recall_score(y_test, knears_neighbors.predict(X_test))))\n",
        "print('Precision Score: {:.2f}'.format(precision_score(y_test, knears_neighbors.predict(X_test))))\n",
        "print('F1 Score: {:.2f}'.format(f1_score(y_test, knears_neighbors.predict(X_test))))\n",
        "print('Accuracy Score: {:.2f}'.format(accuracy_score(y_test, knears_neighbors.predict(X_test))))"
      ]
    },
    {
      "cell_type": "code",
      "execution_count": null,
      "metadata": {
        "id": "24aefad2-3885-4bca-9258-4ca20f7d50aa",
        "outputId": "379deed9-2472-46da-f50c-f4d37daad813"
      },
      "outputs": [
        {
          "data": {
            "image/png": "[encoded data removed]",
            "text/plain": [
              "<Figure size 1584x864 with 8 Axes>"
            ]
          },
          "metadata": {
            "needs_background": "light"
          },
          "output_type": "display_data"
        }
      ],
      "source": [
        "from sklearn.metrics import confusion_matrix\n",
        "\n",
        "# Logistic Regression fitted using SMOTE technique\n",
        "y_pred_log_reg = log_reg.predict(X_test)\n",
        "\n",
        "# Other models fitted with UnderSampling\n",
        "y_pred_knear = knears_neighbors.predict(X_test)\n",
        "y_pred_svc = svc.predict(X_test)\n",
        "y_pred_tree = tree_clf.predict(X_test)\n",
        "\n",
        "\n",
        "log_reg_cf = confusion_matrix(y_test, y_pred_log_reg)\n",
        "kneighbors_cf = confusion_matrix(y_test, y_pred_knear)\n",
        "svc_cf = confusion_matrix(y_test, y_pred_svc)\n",
        "tree_cf = confusion_matrix(y_test, y_pred_tree)\n",
        "\n",
        "fig, ax = plt.subplots(2, 2,figsize=(22,12))\n",
        "\n",
        "\n",
        "sns.heatmap(log_reg_cf, ax=ax[0][0], annot=True, cmap=plt.cm.copper)\n",
        "ax[0, 0].set_title(\"Logistic Regression \\n Confusion Matrix\", fontsize=14)\n",
        "\n",
        "plt.ylabel('True label')\n",
        "plt.xlabel('Predicted label')\n",
        "\n",
        "sns.heatmap(kneighbors_cf, ax=ax[0][1], annot=True, cmap=plt.cm.copper)\n",
        "ax[0][1].set_title(\"KNearsNeighbors \\n Confusion Matrix\", fontsize=14)\n",
        "\n",
        "plt.ylabel('True label')\n",
        "plt.xlabel('Predicted label')\n",
        "\n",
        "sns.heatmap(svc_cf, ax=ax[1][0], annot=True, cmap=plt.cm.copper)\n",
        "ax[1][0].set_title(\"Suppor Vector Classifier \\n Confusion Matrix\", fontsize=14)\n",
        "\n",
        "plt.ylabel('True label')\n",
        "plt.xlabel('Predicted label')\n",
        "\n",
        "sns.heatmap(tree_cf, ax=ax[1][1], annot=True, cmap=plt.cm.copper)\n",
        "ax[1][1].set_title(\"DecisionTree Classifier \\n Confusion Matrix\", fontsize=14)\n",
        "\n",
        "plt.ylabel('True label')\n",
        "plt.xlabel('Predicted label')\n",
        "\n",
        "\n",
        "plt.show()"
      ]
    },
    {
      "cell_type": "markdown",
      "metadata": {
        "id": "a8FjhE1kCHSJ"
      },
      "source": [
        "####**2.2 *Cluster* based oversampling**\n",
        "\n",
        "\n",
        "\n",
        "\n",
        "\n",
        "\n",
        "\n"
      ]
    },
    {
      "cell_type": "markdown",
      "source": [
        "In this method, the K-Means clustering algorithm technique is independently applied to minority and majority class labels. Thus we will identify clusters in the dataset. Subsequently, each cluster is oversampled such that all clusters of the same class have an equal number of instances and all classes have the same size.\n",
        "\n",
        "Advantages\n",
        "\n",
        "\n",
        "*   This clustering technique helps to overcome the challenge of imbalanced class distribution.\n",
        "*   Also, this technique overcome the challenges within class imbalance, where a class is composed of different sub clusters and each sub cluster does not contain the same number of examples.\n",
        "\n",
        "\n",
        "Disadvantages\n",
        "\n",
        "\n",
        "*   The disadvantage associated with this technique is the possibility of overfitting the training data.\n",
        "\n",
        "\n"
      ],
      "metadata": {
        "id": "U6EcuLWYCSfG"
      }
    },
    {
      "cell_type": "markdown",
      "source": [
        "#####**Train**"
      ],
      "metadata": {
        "id": "OCfE8uOmeq0y"
      }
    },
    {
      "cell_type": "code",
      "execution_count": null,
      "metadata": {
        "id": "46d1b665-dfbc-4c88-a418-c58b7e2f6548"
      },
      "outputs": [],
      "source": [
        "import numpy as np # linear algebra\n",
        "import pandas as pd # data processing, CSV file I/O (e.g. pd.read_csv)\n",
        "#import tensorflow as tf\n",
        "import matplotlib.pyplot as plt\n",
        "import seaborn as sns\n",
        "from sklearn.manifold import TSNE\n",
        "from sklearn.decomposition import PCA, TruncatedSVD\n",
        "import matplotlib.patches as mpatches\n",
        "import time\n",
        "\n",
        "# Classifier Libraries\n",
        "from sklearn.linear_model import LogisticRegression\n",
        "from sklearn.svm import SVC\n",
        "from sklearn.neighbors import KNeighborsClassifier\n",
        "from sklearn.tree import DecisionTreeClassifier\n",
        "from sklearn.ensemble import RandomForestClassifier\n",
        "import collections\n",
        "\n",
        "\n",
        "# Other Libraries\n",
        "from sklearn.model_selection import train_test_split\n",
        "from sklearn.pipeline import make_pipeline\n",
        "from imblearn.pipeline import make_pipeline as imbalanced_make_pipeline\n",
        "from imblearn.over_sampling import SMOTE\n",
        "from imblearn.under_sampling import NearMiss\n",
        "from imblearn.metrics import classification_report_imbalanced\n",
        "from sklearn.metrics import precision_score, recall_score, f1_score, roc_auc_score, accuracy_score, classification_report\n",
        "from collections import Counter\n",
        "from sklearn.model_selection import KFold, StratifiedKFold\n",
        "import warnings\n",
        "warnings.filterwarnings(\"ignore\")\n",
        "\n",
        "df=pd.read_csv('creditcard.csv')\n",
        "\n",
        "label_1 = df[df['Class'] == 0]\n",
        "index_to_drop = label_1.sample(234315).index\n",
        "df = df.drop(index_to_drop)"
      ]
    },
    {
      "cell_type": "code",
      "execution_count": null,
      "metadata": {
        "id": "0ac632bc-07fa-41de-9c73-c8e9c29e1c8d"
      },
      "outputs": [],
      "source": [
        "from sklearn.preprocessing import StandardScaler, RobustScaler\n",
        "std_scaler = StandardScaler()\n",
        "rob_scaler = RobustScaler()\n",
        "\n",
        "df['scaled_amount'] = rob_scaler.fit_transform(df['Amount'].values.reshape(-1,1))\n",
        "df['scaled_time'] = rob_scaler.fit_transform(df['Time'].values.reshape(-1,1))\n",
        "\n",
        "df.drop(['Time','Amount'], axis=1, inplace=True)\n",
        "\n",
        "scaled_amount = df['scaled_amount']\n",
        "scaled_time = df['scaled_time']\n",
        "\n",
        "X = df.drop('Class', axis=1)\n",
        "y = df['Class']\n",
        "\n",
        "X.drop(['scaled_time'], axis=1, inplace=True)"
      ]
    },
    {
      "cell_type": "code",
      "execution_count": null,
      "metadata": {
        "id": "7f0271f4-b40f-42a2-81e5-5bf4d98fb2dd",
        "outputId": "e8f5e1b8-5c43-4847-e3be-240ca99e5d9c"
      },
      "outputs": [
        {
          "name": "stdout",
          "output_type": "stream",
          "text": [
            "Counter({0: 50000, 1: 492})\n",
            "Counter({0: 50000, 1: 50000})\n"
          ]
        }
      ],
      "source": [
        "\n",
        "# Undersample imbalanced dataset with NearMiss-1\n",
        "from collections import Counter\n",
        "from imblearn.over_sampling import KMeansSMOTE\n",
        "counter = Counter(y)\n",
        "print(counter)\n",
        "# define the undersampling method\n",
        "oversample = KMeansSMOTE(sampling_strategy='auto')\n",
        "# transform the dataset\n",
        "X_km, y_km = oversample.fit_resample(X, y)\n",
        "# summarize the new class distribution\n",
        "counter = Counter(y_km)\n",
        "print(counter)"
      ]
    },
    {
      "cell_type": "code",
      "execution_count": null,
      "metadata": {
        "id": "2f1338c4-2ada-4027-b75d-e1a2f346f1a2"
      },
      "outputs": [],
      "source": [
        "from sklearn.model_selection import train_test_split\n",
        "\n",
        "# This is explicitly used for undersampling.\n",
        "X_train, X_test, y_train, y_test = train_test_split(X_km, y_km, test_size=0.2, random_state=42)"
      ]
    },
    {
      "cell_type": "code",
      "execution_count": null,
      "metadata": {
        "id": "0fe943cb-d019-4488-b6bd-c95f3d294fc3"
      },
      "outputs": [],
      "source": [
        "classifiers = {\n",
        "    \"LogisiticRegression\": LogisticRegression(),\n",
        "    \"KNearest\": KNeighborsClassifier(),\n",
        "    \"Support Vector Classifier\": SVC(),\n",
        "    \"RandomForestClassifier\": RandomForestClassifier()\n",
        "}"
      ]
    },
    {
      "cell_type": "code",
      "execution_count": null,
      "metadata": {
        "id": "631221c4-bd32-4d12-b411-c578ee685773",
        "outputId": "9728bbf3-392d-40f2-f01c-9a7f29182e4f"
      },
      "outputs": [
        {
          "name": "stdout",
          "output_type": "stream",
          "text": [
            "Classifiers:  LogisticRegression Has a training score of 100.0 % accuracy score\n",
            "Classifiers:  KNeighborsClassifier Has a training score of 100.0 % accuracy score\n",
            "Classifiers:  SVC Has a training score of 100.0 % accuracy score\n",
            "Classifiers:  RandomForestClassifier Has a training score of 100.0 % accuracy score\n"
          ]
        }
      ],
      "source": [
        "from sklearn.model_selection import cross_val_score\n",
        "\n",
        "for key, classifier in classifiers.items():\n",
        "    classifier.fit(X_train, y_train)\n",
        "    training_score = cross_val_score(classifier, X_train, y_train, cv=5)\n",
        "    print(\"Classifiers: \", classifier.__class__.__name__, \"Has a training score of\", round(training_score.mean(), 2) * 100, \"% accuracy score\")"
      ]
    },
    {
      "cell_type": "code",
      "execution_count": null,
      "metadata": {
        "id": "b7598267-71c1-417c-bde2-242143f32eba"
      },
      "outputs": [],
      "source": [
        "from sklearn.model_selection import GridSearchCV\n",
        "\n",
        "\n",
        "# Logistic Regression \n",
        "log_reg_params = {\"penalty\": ['l1', 'l2'], 'C': [0.001, 0.01, 0.1, 1, 10, 100, 1000]}\n",
        "\n",
        "grid_log_reg = GridSearchCV(LogisticRegression(), log_reg_params)\n",
        "grid_log_reg.fit(X_train, y_train)\n",
        "# We automatically get the logistic regression with the best parameters.\n",
        "log_reg = grid_log_reg.best_estimator_\n",
        "\n",
        "knears_params = {\"n_neighbors\": list(range(2,5,1)), 'algorithm': ['auto', 'ball_tree', 'kd_tree', 'brute']}\n",
        "\n",
        "grid_knears = GridSearchCV(KNeighborsClassifier(), knears_params)\n",
        "grid_knears.fit(X_train, y_train)\n",
        "# KNears best estimator\n",
        "knears_neighbors = grid_knears.best_estimator_\n",
        "\n",
        "# Support Vector Classifier\n",
        "svc_params = {'C': [0.5, 0.8, 1], 'kernel': ['linear']}\n",
        "grid_svc = GridSearchCV(SVC(), svc_params)\n",
        "grid_svc.fit(X_train, y_train)\n",
        "\n",
        "# SVC best estimator\n",
        "svc = grid_svc.best_estimator_\n",
        "\n",
        "# DecisionTree Classifier\n",
        "tree_params = {\"criterion\": [\"gini\", \"entropy\"], \"max_depth\": list(range(2,4,1)), \n",
        "              \"min_samples_leaf\": list(range(5,7,1))}\n",
        "grid_tree = GridSearchCV(RandomForestClassifier(), tree_params)\n",
        "grid_tree.fit(X_train, y_train)\n",
        "\n",
        "# tree best estimator\n",
        "tree_clf = grid_tree.best_estimator_"
      ]
    },
    {
      "cell_type": "code",
      "execution_count": null,
      "metadata": {
        "id": "0b5061b8-9e00-4bdd-b4ea-0e8458bed6df",
        "outputId": "d99e4f64-63ee-4deb-e7b2-8d4553d45231"
      },
      "outputs": [
        {
          "name": "stdout",
          "output_type": "stream",
          "text": [
            "Logistic Regression:  0.9989971131414718\n",
            "KNears Neighbors:  0.9989967031345797\n",
            "Support Vector Classifier:  0.9987979297931998\n",
            "Random forest Classifier:  0.9990971148225003\n"
          ]
        }
      ],
      "source": [
        "from sklearn.metrics import roc_auc_score\n",
        "\n",
        "print('Logistic Regression: ', roc_auc_score(y_test, log_reg.predict(X_test)))\n",
        "print('KNears Neighbors: ', roc_auc_score(y_test, knears_neighbors.predict(X_test)))\n",
        "print('Support Vector Classifier: ', roc_auc_score(y_test, svc.predict(X_test)))\n",
        "print('Random forest Classifier: ', roc_auc_score(y_test, tree_clf.predict(X_test)))"
      ]
    },
    {
      "cell_type": "code",
      "execution_count": null,
      "metadata": {
        "id": "9e3f6f78-ed55-4476-8131-5a5559f42160",
        "outputId": "853a2db1-a759-4374-bf5e-be82025d0e53"
      },
      "outputs": [
        {
          "name": "stdout",
          "output_type": "stream",
          "text": [
            "Recall Score: 1.00\n",
            "Precision Score: 1.00\n",
            "F1 Score: 1.00\n",
            "Accuracy Score: 1.00\n"
          ]
        }
      ],
      "source": [
        "from sklearn.metrics import recall_score, precision_score, f1_score, accuracy_score\n",
        "print('Recall Score: {:.2f}'.format(recall_score(y_test, log_reg.predict(X_test))))\n",
        "print('Precision Score: {:.2f}'.format(precision_score(y_test, log_reg.predict(X_test))))\n",
        "print('F1 Score: {:.2f}'.format(f1_score(y_test, log_reg.predict(X_test))))\n",
        "print('Accuracy Score: {:.2f}'.format(accuracy_score(y_test, log_reg.predict(X_test))))"
      ]
    },
    {
      "cell_type": "code",
      "execution_count": null,
      "metadata": {
        "id": "13ae6686-cae3-449b-97c4-510510d1f224",
        "outputId": "56eea1a4-f2bc-4222-aafd-17531fa3dd87"
      },
      "outputs": [
        {
          "name": "stdout",
          "output_type": "stream",
          "text": [
            "Recall Score: 1.00\n",
            "Precision Score: 1.00\n",
            "F1 Score: 1.00\n",
            "Accuracy Score: 1.00\n"
          ]
        }
      ],
      "source": [
        "from sklearn.metrics import recall_score, precision_score, f1_score, accuracy_score\n",
        "print('Recall Score: {:.2f}'.format(recall_score(y_test, knears_neighbors.predict(X_test))))\n",
        "print('Precision Score: {:.2f}'.format(precision_score(y_test, knears_neighbors.predict(X_test))))\n",
        "print('F1 Score: {:.2f}'.format(f1_score(y_test, knears_neighbors.predict(X_test))))\n",
        "print('Accuracy Score: {:.2f}'.format(accuracy_score(y_test, knears_neighbors.predict(X_test))))"
      ]
    },
    {
      "cell_type": "code",
      "execution_count": null,
      "metadata": {
        "id": "1132914c-99c2-468f-bcb8-07e1861af008",
        "outputId": "2c3e1c5c-5510-46b7-e92e-58ebf9f63403"
      },
      "outputs": [
        {
          "name": "stdout",
          "output_type": "stream",
          "text": [
            "Recall Score: 1.00\n",
            "Precision Score: 1.00\n",
            "F1 Score: 1.00\n",
            "Accuracy Score: 1.00\n"
          ]
        }
      ],
      "source": [
        "from sklearn.metrics import recall_score, precision_score, f1_score, accuracy_score\n",
        "print('Recall Score: {:.2f}'.format(recall_score(y_test, grid_tree.predict(X_test))))\n",
        "print('Precision Score: {:.2f}'.format(precision_score(y_test, grid_tree.predict(X_test))))\n",
        "print('F1 Score: {:.2f}'.format(f1_score(y_test, grid_tree.predict(X_test))))\n",
        "print('Accuracy Score: {:.2f}'.format(accuracy_score(y_test, grid_tree.predict(X_test))))"
      ]
    },
    {
      "cell_type": "code",
      "execution_count": null,
      "metadata": {
        "id": "c0096bf1-174b-47f0-b1d9-697f1935e983",
        "outputId": "161f961c-557a-4a7d-d32e-05311c2c8a32"
      },
      "outputs": [
        {
          "data": {
            "image/png": "[encoded data removed]",
            "text/plain": [
              "<Figure size 1584x864 with 8 Axes>"
            ]
          },
          "metadata": {
            "needs_background": "light"
          },
          "output_type": "display_data"
        }
      ],
      "source": [
        "from sklearn.metrics import confusion_matrix\n",
        "\n",
        "# Logistic Regression fitted using SMOTE technique\n",
        "y_pred_log_reg = log_reg.predict(X_test)\n",
        "\n",
        "# Other models fitted with UnderSampling\n",
        "y_pred_knear = knears_neighbors.predict(X_test)\n",
        "y_pred_svc = svc.predict(X_test)\n",
        "y_pred_tree = tree_clf.predict(X_test)\n",
        "\n",
        "\n",
        "log_reg_cf = confusion_matrix(y_test, y_pred_log_reg)\n",
        "kneighbors_cf = confusion_matrix(y_test, y_pred_knear)\n",
        "svc_cf = confusion_matrix(y_test, y_pred_svc)\n",
        "tree_cf = confusion_matrix(y_test, y_pred_tree)\n",
        "\n",
        "fig, ax = plt.subplots(2, 2,figsize=(22,12))\n",
        "\n",
        "\n",
        "sns.heatmap(log_reg_cf, ax=ax[0][0], annot=True, cmap=plt.cm.copper)\n",
        "ax[0, 0].set_title(\"Logistic Regression \\n Confusion Matrix\", fontsize=14)\n",
        "\n",
        "plt.ylabel('True label')\n",
        "plt.xlabel('Predicted label')\n",
        "\n",
        "sns.heatmap(kneighbors_cf, ax=ax[0][1], annot=True, cmap=plt.cm.copper)\n",
        "ax[0][1].set_title(\"KNearsNeighbors \\n Confusion Matrix\", fontsize=14)\n",
        "\n",
        "plt.ylabel('True label')\n",
        "plt.xlabel('Predicted label')\n",
        "\n",
        "sns.heatmap(svc_cf, ax=ax[1][0], annot=True, cmap=plt.cm.copper)\n",
        "ax[1][0].set_title(\"Suppor Vector Classifier \\n Confusion Matrix\", fontsize=14)\n",
        "\n",
        "plt.ylabel('True label')\n",
        "plt.xlabel('Predicted label')\n",
        "\n",
        "sns.heatmap(tree_cf, ax=ax[1][1], annot=True, cmap=plt.cm.copper)\n",
        "ax[1][1].set_title(\"DecisionTree Classifier \\n Confusion Matrix\", fontsize=14)\n",
        "\n",
        "plt.ylabel('True label')\n",
        "plt.xlabel('Predicted label')\n",
        "\n",
        "\n",
        "plt.show()"
      ]
    },
    {
      "cell_type": "code",
      "execution_count": null,
      "metadata": {
        "id": "5759ad56-68fc-43f4-8beb-54b088b5161b",
        "outputId": "44d6e416-1185-4a2d-bf49-37f4b288992d"
      },
      "outputs": [
        {
          "name": "stdout",
          "output_type": "stream",
          "text": [
            "Counter({0: 10041, 1: 9959})\n"
          ]
        }
      ],
      "source": [
        "counter = Counter(y_test)\n",
        "print(counter)"
      ]
    },
    {
      "cell_type": "markdown",
      "metadata": {
        "id": "cGsWoiSefv3h"
      },
      "source": [
        "####**2.3 ADASYN oversampling**\n",
        "\n",
        "\n",
        "\n",
        "\n",
        "\n",
        "\n",
        "\n"
      ]
    },
    {
      "cell_type": "markdown",
      "source": [
        "ADASYN is similar to SMOTE, and derived from it, featuring just one important difference. it will bias the sample space (that is, the likelihood that any particular point will be chosen for duping) towards points which are located not in homogenous neighborhoods. Applied to our sample data, this results in the following:"
      ],
      "metadata": {
        "id": "oPTjfsVnf59o"
      }
    },
    {
      "cell_type": "markdown",
      "source": [
        "#####Train"
      ],
      "metadata": {
        "id": "RfUXsXmSfjpL"
      }
    },
    {
      "cell_type": "code",
      "execution_count": null,
      "metadata": {
        "id": "f0acc295-ad19-487a-a4a9-8da7a620252d"
      },
      "outputs": [],
      "source": [
        "import numpy as np # linear algebra\n",
        "import pandas as pd # data processing, CSV file I/O (e.g. pd.read_csv)\n",
        "#import tensorflow as tf\n",
        "import matplotlib.pyplot as plt\n",
        "import seaborn as sns\n",
        "from sklearn.manifold import TSNE\n",
        "from sklearn.decomposition import PCA, TruncatedSVD\n",
        "import matplotlib.patches as mpatches\n",
        "import time\n",
        "\n",
        "# Classifier Libraries\n",
        "from sklearn.linear_model import LogisticRegression\n",
        "from sklearn.svm import SVC\n",
        "from sklearn.neighbors import KNeighborsClassifier\n",
        "from sklearn.tree import DecisionTreeClassifier\n",
        "from sklearn.ensemble import RandomForestClassifier\n",
        "import collections\n",
        "\n",
        "\n",
        "# Other Libraries\n",
        "from sklearn.model_selection import train_test_split\n",
        "from sklearn.pipeline import make_pipeline\n",
        "from imblearn.pipeline import make_pipeline as imbalanced_make_pipeline\n",
        "from imblearn.over_sampling import SMOTE\n",
        "from imblearn.under_sampling import NearMiss\n",
        "from imblearn.metrics import classification_report_imbalanced\n",
        "from sklearn.metrics import precision_score, recall_score, f1_score, roc_auc_score, accuracy_score, classification_report\n",
        "from collections import Counter\n",
        "from sklearn.model_selection import KFold, StratifiedKFold\n",
        "import warnings\n",
        "warnings.filterwarnings(\"ignore\")\n",
        "\n",
        "df=pd.read_csv('creditcard.csv')\n",
        "\n",
        "label_1 = df[df['Class'] == 0]\n",
        "index_to_drop = label_1.sample(254315).index\n",
        "df = df.drop(index_to_drop)"
      ]
    },
    {
      "cell_type": "code",
      "execution_count": null,
      "metadata": {
        "id": "654483d4-ec79-4ccf-b455-669fd93ec33a"
      },
      "outputs": [],
      "source": [
        "from sklearn.preprocessing import StandardScaler, RobustScaler\n",
        "std_scaler = StandardScaler()\n",
        "rob_scaler = RobustScaler()\n",
        "\n",
        "df['scaled_amount'] = rob_scaler.fit_transform(df['Amount'].values.reshape(-1,1))\n",
        "df['scaled_time'] = rob_scaler.fit_transform(df['Time'].values.reshape(-1,1))\n",
        "\n",
        "df.drop(['Time','Amount'], axis=1, inplace=True)\n",
        "\n",
        "scaled_amount = df['scaled_amount']\n",
        "scaled_time = df['scaled_time']\n",
        "\n",
        "X = df.drop('Class', axis=1)\n",
        "y = df['Class']\n",
        "\n",
        "X.drop(['scaled_time'], axis=1, inplace=True)"
      ]
    },
    {
      "cell_type": "code",
      "execution_count": null,
      "metadata": {
        "id": "a978fbb7-dbeb-4b24-8851-809e85572630",
        "outputId": "380b1da1-1acc-436e-915b-ca06615e6f6d"
      },
      "outputs": [
        {
          "name": "stdout",
          "output_type": "stream",
          "text": [
            "Counter({0: 30000, 1: 492})\n",
            "Counter({1: 30015, 0: 30000})\n"
          ]
        }
      ],
      "source": [
        "\n",
        "# Undersample imbalanced dataset with NearMiss-1\n",
        "from collections import Counter\n",
        "from imblearn.over_sampling import ADASYN\n",
        "counter = Counter(y)\n",
        "print(counter)\n",
        "# define the undersampling method\n",
        "oversample = ADASYN()\n",
        "# transform the dataset\n",
        "X_ad, y_ad = oversample.fit_resample(X, y)\n",
        "# summarize the new class distribution\n",
        "counter = Counter(y_ad)\n",
        "print(counter)"
      ]
    },
    {
      "cell_type": "code",
      "execution_count": null,
      "metadata": {
        "id": "c2fe3545-3096-4ac1-a5f2-9418106de65d",
        "outputId": "fedf12eb-c9c7-412e-f73c-71052507db4e"
      },
      "outputs": [
        {
          "name": "stdout",
          "output_type": "stream",
          "text": [
            "Counter({1: 6136, 0: 5867})\n"
          ]
        }
      ],
      "source": [
        "from sklearn.model_selection import train_test_split\n",
        "\n",
        "# This is explicitly used for undersampling.\n",
        "X_train, X_test, y_train, y_test = train_test_split(X_ad, y_ad, test_size=0.2, random_state=42)\n",
        "counter = Counter(y_test)\n",
        "print(counter)"
      ]
    },
    {
      "cell_type": "code",
      "execution_count": null,
      "metadata": {
        "id": "ec492d32-4e7a-4870-95bb-93c25d70bf8e"
      },
      "outputs": [],
      "source": [
        "classifiers = {\n",
        "    \"LogisiticRegression\": LogisticRegression(),\n",
        "    \"KNearest\": KNeighborsClassifier(),\n",
        "    \"Support Vector Classifier\": SVC(),\n",
        "    \"RandomForestClassifier\": RandomForestClassifier()\n",
        "}"
      ]
    },
    {
      "cell_type": "code",
      "execution_count": null,
      "metadata": {
        "id": "e451ce53-6522-4ace-8df0-82594d6276a8",
        "outputId": "d91e4a4c-37e4-45b5-c02e-a1775560e5a6"
      },
      "outputs": [
        {
          "name": "stdout",
          "output_type": "stream",
          "text": [
            "Classifiers:  LogisticRegression Has a training score of 86.0 % accuracy score\n",
            "Classifiers:  KNeighborsClassifier Has a training score of 99.0 % accuracy score\n",
            "Classifiers:  SVC Has a training score of 98.0 % accuracy score\n",
            "Classifiers:  RandomForestClassifier Has a training score of 100.0 % accuracy score\n"
          ]
        }
      ],
      "source": [
        "from sklearn.model_selection import cross_val_score\n",
        "\n",
        "for key, classifier in classifiers.items():\n",
        "    classifier.fit(X_train, y_train)\n",
        "    training_score = cross_val_score(classifier, X_train, y_train, cv=5)\n",
        "    print(\"Classifiers: \", classifier.__class__.__name__, \"Has a training score of\", round(training_score.mean(), 2) * 100, \"% accuracy score\")"
      ]
    },
    {
      "cell_type": "code",
      "execution_count": null,
      "metadata": {
        "id": "806135e2-82f9-4005-9b5e-7c959ee557b5"
      },
      "outputs": [],
      "source": [
        "from sklearn.model_selection import GridSearchCV\n",
        "\n",
        "\n",
        "# Logistic Regression \n",
        "log_reg_params = {\"penalty\": ['l1', 'l2'], 'C': [0.001, 0.01, 0.1, 1, 10, 100, 1000]}\n",
        "\n",
        "grid_log_reg = GridSearchCV(LogisticRegression(), log_reg_params)\n",
        "grid_log_reg.fit(X_train, y_train)\n",
        "# We automatically get the logistic regression with the best parameters.\n",
        "log_reg = grid_log_reg.best_estimator_\n",
        "\n",
        "knears_params = {\"n_neighbors\": list(range(2,5,1)), 'algorithm': ['auto']}\n",
        "\n",
        "grid_knears = GridSearchCV(KNeighborsClassifier(), knears_params)\n",
        "grid_knears.fit(X_train, y_train)\n",
        "# KNears best estimator\n",
        "knears_neighbors = grid_knears.best_estimator_\n",
        "\n",
        "# Support Vector Classifier\n",
        "svc_params = {'C': [0.5, 1]}\n",
        "grid_svc = GridSearchCV(SVC(), svc_params)\n",
        "grid_svc.fit(X_train, y_train)\n",
        "\n",
        "# SVC best estimator\n",
        "svc = grid_svc.best_estimator_\n",
        "\n",
        "# DecisionTree Classifier\n",
        "tree_params = {\"criterion\": [\"gini\", \"entropy\"], \"max_depth\": list(range(2,4,1)), \n",
        "              \"min_samples_leaf\": list(range(5,7,1))}\n",
        "grid_tree = GridSearchCV(RandomForestClassifier(), tree_params)\n",
        "grid_tree.fit(X_train, y_train)\n",
        "\n",
        "# tree best estimator\n",
        "tree_clf = grid_tree.best_estimator_"
      ]
    },
    {
      "cell_type": "markdown",
      "source": [
        "ROC_AUC Scores"
      ],
      "metadata": {
        "id": "sFF0MPhuhgPp"
      }
    },
    {
      "cell_type": "code",
      "execution_count": null,
      "metadata": {
        "id": "3667f25e-3e66-4750-9ea2-fd4fb16cbe45",
        "outputId": "b81a27e3-ab1c-4b6a-ac66-37ea9ef08af6"
      },
      "outputs": [
        {
          "name": "stdout",
          "output_type": "stream",
          "text": [
            "Logistic Regression:  0.8621802464406024\n",
            "KNears Neighbors:  0.9964206579171637\n",
            "Support Vector Classifier:  0.9845822123120745\n",
            "Random forest Classifier:  0.8810382369823571\n"
          ]
        }
      ],
      "source": [
        "from sklearn.metrics import roc_auc_score\n",
        "\n",
        "print('Logistic Regression: ', roc_auc_score(y_test, log_reg.predict(X_test)))\n",
        "print('KNears Neighbors: ', roc_auc_score(y_test, knears_neighbors.predict(X_test)))\n",
        "print('Support Vector Classifier: ', roc_auc_score(y_test, svc.predict(X_test)))\n",
        "print('Random forest Classifier: ', roc_auc_score(y_test, tree_clf.predict(X_test)))"
      ]
    },
    {
      "cell_type": "markdown",
      "source": [
        "Logitic Test Scores"
      ],
      "metadata": {
        "id": "_0Nug26kijFj"
      }
    },
    {
      "cell_type": "code",
      "execution_count": null,
      "metadata": {
        "id": "51b2a399-59c4-430e-8d5b-d42aac19fae4",
        "outputId": "1bdbeabc-7d03-493d-b35e-4f349cd9e73c"
      },
      "outputs": [
        {
          "name": "stdout",
          "output_type": "stream",
          "text": [
            "Recall Score: 0.84\n",
            "Precision Score: 0.88\n",
            "F1 Score: 0.86\n",
            "Accuracy Score: 0.86\n"
          ]
        }
      ],
      "source": [
        "from sklearn.metrics import recall_score, precision_score, f1_score, accuracy_score\n",
        "print('Recall Score: {:.2f}'.format(recall_score(y_test, log_reg.predict(X_test))))\n",
        "print('Precision Score: {:.2f}'.format(precision_score(y_test, log_reg.predict(X_test))))\n",
        "print('F1 Score: {:.2f}'.format(f1_score(y_test, log_reg.predict(X_test))))\n",
        "print('Accuracy Score: {:.2f}'.format(accuracy_score(y_test, log_reg.predict(X_test))))"
      ]
    },
    {
      "cell_type": "markdown",
      "source": [
        "KNN Scores"
      ],
      "metadata": {
        "id": "KenQdDajhd_S"
      }
    },
    {
      "cell_type": "code",
      "execution_count": null,
      "metadata": {
        "id": "74fe9eb7-8ea2-4a44-a618-7708c41de43a",
        "outputId": "f4093dae-6d53-406b-9442-5111c4010f82"
      },
      "outputs": [
        {
          "name": "stdout",
          "output_type": "stream",
          "text": [
            "Recall Score: 1.00\n",
            "Precision Score: 0.99\n",
            "F1 Score: 1.00\n",
            "Accuracy Score: 1.00\n"
          ]
        }
      ],
      "source": [
        "from sklearn.metrics import recall_score, precision_score, f1_score, accuracy_score\n",
        "print('Recall Score: {:.2f}'.format(recall_score(y_test, knears_neighbors.predict(X_test))))\n",
        "print('Precision Score: {:.2f}'.format(precision_score(y_test, knears_neighbors.predict(X_test))))\n",
        "print('F1 Score: {:.2f}'.format(f1_score(y_test, knears_neighbors.predict(X_test))))\n",
        "print('Accuracy Score: {:.2f}'.format(accuracy_score(y_test, knears_neighbors.predict(X_test))))"
      ]
    },
    {
      "cell_type": "markdown",
      "source": [
        "Confusion Metrix"
      ],
      "metadata": {
        "id": "p4QmeAMNhbpq"
      }
    },
    {
      "cell_type": "code",
      "execution_count": null,
      "metadata": {
        "id": "a0e226d3-e07a-4b71-b7ee-9554df05985f",
        "outputId": "1e5dbeb6-d645-4a60-d340-fb4bd2bb3d4e"
      },
      "outputs": [
        {
          "name": "stdout",
          "output_type": "stream",
          "text": [
            "Recall Score: 0.84\n",
            "Precision Score: 0.92\n",
            "F1 Score: 0.88\n",
            "Accuracy Score: 0.88\n"
          ]
        }
      ],
      "source": [
        "from sklearn.metrics import recall_score, precision_score, f1_score, accuracy_score\n",
        "print('Recall Score: {:.2f}'.format(recall_score(y_test, grid_tree.predict(X_test))))\n",
        "print('Precision Score: {:.2f}'.format(precision_score(y_test, grid_tree.predict(X_test))))\n",
        "print('F1 Score: {:.2f}'.format(f1_score(y_test, grid_tree.predict(X_test))))\n",
        "print('Accuracy Score: {:.2f}'.format(accuracy_score(y_test, grid_tree.predict(X_test))))"
      ]
    },
    {
      "cell_type": "code",
      "execution_count": null,
      "metadata": {
        "id": "adc0da41-0e71-43b1-8a87-da8a5bf1eaf2",
        "outputId": "962e0c9e-ebc9-4f49-a222-691aa28401af"
      },
      "outputs": [
        {
          "data": {
            "image/png": "[encoded data removed]",
            "text/plain": [
              "<Figure size 1584x864 with 8 Axes>"
            ]
          },
          "metadata": {
            "needs_background": "light"
          },
          "output_type": "display_data"
        }
      ],
      "source": [
        "from sklearn.metrics import confusion_matrix\n",
        "\n",
        "# Logistic Regression fitted using SMOTE technique\n",
        "y_pred_log_reg = log_reg.predict(X_test)\n",
        "\n",
        "# Other models fitted with UnderSampling\n",
        "y_pred_knear = knears_neighbors.predict(X_test)\n",
        "y_pred_svc = svc.predict(X_test)\n",
        "y_pred_tree = tree_clf.predict(X_test)\n",
        "\n",
        "\n",
        "log_reg_cf = confusion_matrix(y_test, y_pred_log_reg)\n",
        "kneighbors_cf = confusion_matrix(y_test, y_pred_knear)\n",
        "svc_cf = confusion_matrix(y_test, y_pred_svc)\n",
        "tree_cf = confusion_matrix(y_test, y_pred_tree)\n",
        "\n",
        "fig, ax = plt.subplots(2, 2,figsize=(22,12))\n",
        "\n",
        "\n",
        "sns.heatmap(log_reg_cf, ax=ax[0][0], annot=True, cmap=plt.cm.copper)\n",
        "ax[0, 0].set_title(\"Logistic Regression \\n Confusion Matrix\", fontsize=14)\n",
        "\n",
        "plt.ylabel('True label')\n",
        "plt.xlabel('Predicted label')\n",
        "\n",
        "sns.heatmap(kneighbors_cf, ax=ax[0][1], annot=True, cmap=plt.cm.copper)\n",
        "ax[0][1].set_title(\"KNearsNeighbors \\n Confusion Matrix\", fontsize=14)\n",
        "\n",
        "plt.ylabel('True label')\n",
        "plt.xlabel('Predicted label')\n",
        "\n",
        "sns.heatmap(svc_cf, ax=ax[1][0], annot=True, cmap=plt.cm.copper)\n",
        "ax[1][0].set_title(\"Suppor Vector Classifier \\n Confusion Matrix\", fontsize=14)\n",
        "\n",
        "plt.ylabel('True label')\n",
        "plt.xlabel('Predicted label')\n",
        "\n",
        "sns.heatmap(tree_cf, ax=ax[1][1], annot=True, cmap=plt.cm.copper)\n",
        "ax[1][1].set_title(\"DecisionTree Classifier \\n Confusion Matrix\", fontsize=14)\n",
        "\n",
        "plt.ylabel('True label')\n",
        "plt.xlabel('Predicted label')\n",
        "\n",
        "\n",
        "plt.show()"
      ]
    },
    {
      "cell_type": "markdown",
      "source": [
        "### **3. Synthetic data generation**"
      ],
      "metadata": {
        "id": "g-W1w4yci7x3"
      }
    },
    {
      "cell_type": "markdown",
      "metadata": {
        "id": "Ow4zieuMjNEP"
      },
      "source": [
        "In synthetic data generation technique, we overcome the data imbalances by generating artificial data. So, it is also a type of oversampling technique."
      ]
    },
    {
      "cell_type": "markdown",
      "metadata": {
        "id": "aiDfPZQYjRWF"
      },
      "source": [
        "\n",
        "####**Synthetic Minority Oversampling Technique or SMOTE**\n",
        "\n",
        "In the context of synthetic data generation, there is a powerful and widely used method known as synthetic minority oversampling technique or SMOTE. Under this technique, artificial data is created based on feature space. Artificial data is generated with bootstrapping and k-nearest neighbours algorithm. It works as follows:-\n",
        "\n",
        "\n",
        "1.   First of all, we take the difference between the feature vector (sample) under consideration and its nearest neighbour.\n",
        "\n",
        "1.   Then we multiply this difference by a random number between 0 and 1.\n",
        "\n",
        "2.   Then we add this number to the feature vector under consideration.\n",
        "\n",
        "\n",
        "\n",
        "2.   Thus we select a random point along the line segment between two specific features.\n",
        "\n",
        "\n",
        "\n",
        "\n",
        "\n",
        "\n",
        "\n",
        "\n",
        "\n",
        "\n",
        "\n",
        "**Disadvantages**\n",
        "\n",
        "\n",
        "*   This method increases the likelihood of overfitting as it replicates the minority class labels.\n",
        "\n",
        "\n",
        "\n",
        "\n",
        "\n",
        "\n"
      ]
    },
    {
      "cell_type": "markdown",
      "source": [
        "So, SMOTE generates new observations by interpolation between existing observations in the dataset."
      ],
      "metadata": {
        "id": "Onrm4nqRj800"
      }
    },
    {
      "cell_type": "markdown",
      "source": [
        "![smote.png](data:image/png;base64,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)"
      ],
      "metadata": {
        "id": "aZuiIRw7kBv5"
      }
    },
    {
      "cell_type": "markdown",
      "metadata": {
        "id": "yUu9EAxIz-x3"
      },
      "source": [
        "##### **Data**"
      ]
    },
    {
      "cell_type": "code",
      "execution_count": null,
      "metadata": {
        "colab": {
          "base_uri": "https://localhost:8080/"
        },
        "outputId": "81378e20-4198-4d21-d31b-c846560b3e39",
        "id": "chY8OsPHz-x3"
      },
      "outputs": [
        {
          "output_type": "stream",
          "name": "stdout",
          "text": [
            "Drive already mounted at /content/gdrive; to attempt to forcibly remount, call drive.mount(\"/content/gdrive\", force_remount=True).\n"
          ]
        }
      ],
      "source": [
        "from google.colab import drive\n",
        "drive.mount('/content/gdrive')"
      ]
    },
    {
      "cell_type": "code",
      "execution_count": null,
      "metadata": {
        "id": "7pRH8Cziz-x4"
      },
      "outputs": [],
      "source": [
        "import numpy as np # linear algebra\n",
        "import pandas as pd # data processing, CSV file I/O (e.g. pd.read_csv)\n",
        "#import tensorflow as tf\n",
        "import matplotlib.pyplot as plt\n",
        "import seaborn as sns\n",
        "from sklearn.manifold import TSNE\n",
        "from sklearn.decomposition import PCA, TruncatedSVD\n",
        "import matplotlib.patches as mpatches\n",
        "import time\n",
        "\n",
        "# Classifier Libraries\n",
        "from sklearn.linear_model import LogisticRegression\n",
        "from sklearn.svm import SVC\n",
        "from sklearn.neighbors import KNeighborsClassifier\n",
        "from sklearn.tree import DecisionTreeClassifier\n",
        "from sklearn.ensemble import RandomForestClassifier\n",
        "import collections\n",
        "\n",
        "\n",
        "# Other Libraries\n",
        "from sklearn.model_selection import train_test_split\n",
        "from sklearn.pipeline import make_pipeline\n",
        "from imblearn.pipeline import make_pipeline as imbalanced_make_pipeline\n",
        "from imblearn.over_sampling import SMOTE\n",
        "from imblearn.under_sampling import NearMiss\n",
        "from imblearn.metrics import classification_report_imbalanced\n",
        "from sklearn.metrics import precision_score, recall_score, f1_score, roc_auc_score, accuracy_score, classification_report\n",
        "from collections import Counter\n",
        "from sklearn.model_selection import KFold, StratifiedKFold\n",
        "import warnings\n",
        "warnings.filterwarnings(\"ignore\")\n",
        "\n",
        "df=pd.read_csv('gdrive/My Drive/Kaggle/CreditCard/creditcard.csv')"
      ]
    },
    {
      "cell_type": "code",
      "execution_count": null,
      "metadata": {
        "id": "VKeeCnFtz-x4"
      },
      "outputs": [],
      "source": [
        "label_1 = df[df['Class'] == 0]\n",
        "index_to_drop = label_1.sample(234315).index\n",
        "df = df.drop(index_to_drop)"
      ]
    },
    {
      "cell_type": "code",
      "execution_count": null,
      "metadata": {
        "colab": {
          "base_uri": "https://localhost:8080/"
        },
        "outputId": "91cb184d-c22e-401d-901b-d6609d3e6bb9",
        "id": "QwFF_1wMz-x4"
      },
      "outputs": [
        {
          "output_type": "execute_result",
          "data": {
            "text/plain": [
              "(50492, 31)"
            ]
          },
          "metadata": {},
          "execution_count": 5
        }
      ],
      "source": [
        "df.shape"
      ]
    },
    {
      "cell_type": "code",
      "execution_count": null,
      "metadata": {
        "id": "g3F-GGlQz-x5"
      },
      "outputs": [],
      "source": [
        "from sklearn.preprocessing import StandardScaler, RobustScaler\n",
        "std_scaler = StandardScaler()\n",
        "rob_scaler = RobustScaler()\n",
        "\n",
        "df['scaled_amount'] = rob_scaler.fit_transform(df['Amount'].values.reshape(-1,1))\n",
        "df['scaled_time'] = rob_scaler.fit_transform(df['Time'].values.reshape(-1,1))\n",
        "\n",
        "df.drop(['Time','Amount'], axis=1, inplace=True)\n",
        "\n",
        "scaled_amount = df['scaled_amount']\n",
        "scaled_time = df['scaled_time']\n"
      ]
    },
    {
      "cell_type": "code",
      "execution_count": null,
      "metadata": {
        "id": "B54aSBoAz-x5"
      },
      "outputs": [],
      "source": [
        "X = df.drop('Class', axis=1)\n",
        "y = df['Class']"
      ]
    },
    {
      "cell_type": "code",
      "execution_count": null,
      "metadata": {
        "id": "YEq_6wRlz-x5"
      },
      "outputs": [],
      "source": [
        "X.drop(['scaled_time'], axis=1, inplace=True)"
      ]
    },
    {
      "cell_type": "markdown",
      "metadata": {
        "id": "f9s_NBy-5CMN"
      },
      "source": [
        "##### **Training**"
      ]
    },
    {
      "cell_type": "code",
      "source": [
        "from collections import Counter\n",
        "from sklearn.datasets import make_classification\n",
        "from imblearn.over_sampling import SMOTE\n",
        "from matplotlib import pyplot\n",
        "from numpy import where\n",
        "\n",
        "# summarize class distribution\n",
        "counter = Counter(y)\n",
        "print(counter)\n",
        "# transform the dataset\n",
        "oversample = SMOTE()\n",
        "X_smote, y_smote = oversample.fit_resample(X, y)\n",
        "# summarize the new class distribution\n",
        "counter = Counter(y_smote)\n",
        "print(counter)"
      ],
      "metadata": {
        "colab": {
          "base_uri": "https://localhost:8080/"
        },
        "id": "YztOy4u34aLX",
        "outputId": "e819e096-2ef3-4609-f28a-4b3b65feaba0"
      },
      "execution_count": null,
      "outputs": [
        {
          "output_type": "stream",
          "name": "stdout",
          "text": [
            "Counter({0: 50000, 1: 492})\n",
            "Counter({0: 50000, 1: 50000})\n"
          ]
        }
      ]
    },
    {
      "cell_type": "code",
      "source": [
        "print('No Frauds =', round(y_smote.value_counts()[0]/len(y_smote) * 100,2), '% Total No-fraud values =',y_smote.value_counts()[0])\n",
        "print('Frauds =', round(y_smote.value_counts()[1]/len(y_smote) * 100,2), '% Total fraud values =', y_smote.value_counts()[1])\n",
        "print(Counter(y_smote))"
      ],
      "metadata": {
        "colab": {
          "base_uri": "https://localhost:8080/"
        },
        "id": "AjI5ckae6lKa",
        "outputId": "3880a19f-390e-4e78-e903-62f9579ebf29"
      },
      "execution_count": null,
      "outputs": [
        {
          "output_type": "stream",
          "name": "stdout",
          "text": [
            "No Frauds = 50.0 % Total No-fraud values = 50000\n",
            "Frauds = 50.0 % Total fraud values = 50000\n",
            "Counter({0: 50000, 1: 50000})\n"
          ]
        }
      ]
    },
    {
      "cell_type": "code",
      "source": [
        "from sklearn.model_selection import train_test_split\n",
        "\n",
        "# This is explicitly used for undersampling.\n",
        "X_train, X_test, y_train, y_test = train_test_split(X_smote, y_smote, test_size=0.2, random_state=42)"
      ],
      "metadata": {
        "id": "9OFlgVdD7KmE"
      },
      "execution_count": null,
      "outputs": []
    },
    {
      "cell_type": "code",
      "source": [
        "classifiers = {\n",
        "    \"LogisiticRegression\": LogisticRegression(),\n",
        "    \"KNearest\": KNeighborsClassifier(),\n",
        "    \"Support Vector Classifier\": SVC(),\n",
        "    \"RandomForestClassifier\": RandomForestClassifier()\n",
        "}"
      ],
      "metadata": {
        "id": "RKmAc9pD8QsL"
      },
      "execution_count": null,
      "outputs": []
    },
    {
      "cell_type": "code",
      "source": [
        "from sklearn.model_selection import cross_val_score\n",
        "\n",
        "for key, classifier in classifiers.items():\n",
        "    classifier.fit(X_train, y_train)\n",
        "    training_score = cross_val_score(classifier, X_train, y_train, cv=5)\n",
        "    print(\"Classifiers: \", classifier.__class__.__name__, \"Has a training score of\", round(training_score.mean(), 2) * 100, \"% accuracy score\")"
      ],
      "metadata": {
        "colab": {
          "base_uri": "https://localhost:8080/"
        },
        "id": "r6dnBPSJ8VSD",
        "outputId": "c682dee7-90aa-4060-9616-9410a1fa081c"
      },
      "execution_count": null,
      "outputs": [
        {
          "output_type": "stream",
          "name": "stdout",
          "text": [
            "Classifiers:  LogisticRegression Has a training score of 95.0 % accuracy score\n",
            "Classifiers:  KNeighborsClassifier Has a training score of 99.0 % accuracy score\n",
            "Classifiers:  SVC Has a training score of 96.0 % accuracy score\n",
            "Classifiers:  RandomForestClassifier Has a training score of 100.0 % accuracy score\n"
          ]
        }
      ]
    },
    {
      "cell_type": "code",
      "execution_count": null,
      "metadata": {
        "id": "f2695546-1b16-42e3-8f6e-8fd1508aac22"
      },
      "outputs": [],
      "source": [
        "from sklearn.model_selection import GridSearchCV\n",
        "\n",
        "    \n",
        "# Logistic Regression \n",
        "log_reg_params = {\"penalty\": ['l1', 'l2'], 'C': [0.001, 0.01, 0.1, 1, 10, 100, 1000]}\n",
        "\n",
        "grid_log_reg = GridSearchCV(LogisticRegression(), log_reg_params)\n",
        "grid_log_reg.fit(X_train, y_train)\n",
        "# We automatically get the logistic regression with the best parameters.\n",
        "log_reg = grid_log_reg.best_estimator_\n",
        "\n",
        "knears_params = {\"n_neighbors\": list(range(2,5,1)), 'algorithm': ['auto', 'ball_tree', 'kd_tree', 'brute']}\n",
        "\n",
        "grid_knears = GridSearchCV(KNeighborsClassifier(), knears_params)\n",
        "grid_knears.fit(X_train, y_train)\n",
        "# KNears best estimator\n",
        "knears_neighbors = grid_knears.best_estimator_\n",
        "\n",
        "# Support Vector Classifier\n",
        "svc_params = {'C': [0.5, 0.8, 1]}\n",
        "grid_svc = GridSearchCV(SVC(), svc_params)\n",
        "grid_svc.fit(X_train, y_train)\n",
        "\n",
        "# SVC best estimator\n",
        "svc = grid_svc.best_estimator_\n",
        "\n",
        "# DecisionTree Classifier\n",
        "tree_params = {\"criterion\": [\"gini\", \"entropy\"], \"max_depth\": list(range(2,4,1)), \n",
        "              \"min_samples_leaf\": list(range(5,7,1))}\n",
        "grid_tree = GridSearchCV(RandomForestClassifier(), tree_params)\n",
        "grid_tree.fit(X_train, y_train)\n",
        "\n",
        "# tree best estimator\n",
        "tree_clf = grid_tree.best_estimator_"
      ]
    },
    {
      "cell_type": "markdown",
      "source": [
        "ROC AUC Score"
      ],
      "metadata": {
        "id": "FPUyw_1IPCrp"
      }
    },
    {
      "cell_type": "code",
      "execution_count": null,
      "metadata": {
        "id": "ea627a14-afbc-48e7-b7e8-0c212b1c932c",
        "outputId": "503350b1-4d9a-42fb-a12a-69b84701727f"
      },
      "outputs": [
        {
          "name": "stdout",
          "output_type": "stream",
          "text": [
            "Logistic Regression:  0.9493194375992996\n",
            "KNears Neighbors:  0.998258013139558\n",
            "Support Vector Classifier:  0.9633362941959852\n",
            "Decision Tree Classifier:  0.932819358457625\n"
          ]
        }
      ],
      "source": [
        "from sklearn.metrics import roc_auc_score\n",
        "\n",
        "print('Logistic Regression: ', roc_auc_score(y_test, log_reg.predict(X_test)))\n",
        "print('KNears Neighbors: ', roc_auc_score(y_test, knears_neighbors.predict(X_test)))\n",
        "print('Support Vector Classifier: ', roc_auc_score(y_test, svc.predict(X_test)))\n",
        "print('Decision Tree Classifier: ', roc_auc_score(y_test, tree_clf.predict(X_test)))"
      ]
    },
    {
      "cell_type": "markdown",
      "source": [
        "Logistic Regression Scores"
      ],
      "metadata": {
        "id": "IqvRJ0wDPE21"
      }
    },
    {
      "cell_type": "code",
      "execution_count": null,
      "metadata": {
        "id": "6ce0f23a-0780-40ae-ba1f-f25e443781d4",
        "outputId": "86489a0f-eca7-4208-cb7a-0cfaf025b098"
      },
      "outputs": [
        {
          "name": "stdout",
          "output_type": "stream",
          "text": [
            "Recall Score: 0.92\n",
            "Precision Score: 0.98\n",
            "F1 Score: 0.95\n",
            "Accuracy Score: 0.95\n"
          ]
        }
      ],
      "source": [
        "from sklearn.metrics import recall_score, precision_score, f1_score, accuracy_score\n",
        "print('Recall Score: {:.2f}'.format(recall_score(y_test, log_reg.predict(X_test))))\n",
        "print('Precision Score: {:.2f}'.format(precision_score(y_test, log_reg.predict(X_test))))\n",
        "print('F1 Score: {:.2f}'.format(f1_score(y_test, log_reg.predict(X_test))))\n",
        "print('Accuracy Score: {:.2f}'.format(accuracy_score(y_test, log_reg.predict(X_test))))"
      ]
    },
    {
      "cell_type": "markdown",
      "source": [
        "KNN Scores"
      ],
      "metadata": {
        "id": "-UEn3GImPIKx"
      }
    },
    {
      "cell_type": "code",
      "execution_count": null,
      "metadata": {
        "id": "8b49144d-b878-42e2-be31-e2a6c4f299ef",
        "outputId": "65481013-8632-428c-f7ee-720a4cc7ea9f"
      },
      "outputs": [
        {
          "name": "stdout",
          "output_type": "stream",
          "text": [
            "Recall Score: 1.00\n",
            "Precision Score: 1.00\n",
            "F1 Score: 1.00\n",
            "Accuracy Score: 1.00\n"
          ]
        }
      ],
      "source": [
        "from sklearn.metrics import recall_score, precision_score, f1_score, accuracy_score\n",
        "print('Recall Score: {:.2f}'.format(recall_score(y_test, knears_neighbors.predict(X_test))))\n",
        "print('Precision Score: {:.2f}'.format(precision_score(y_test, knears_neighbors.predict(X_test))))\n",
        "print('F1 Score: {:.2f}'.format(f1_score(y_test, knears_neighbors.predict(X_test))))\n",
        "print('Accuracy Score: {:.2f}'.format(accuracy_score(y_test, knears_neighbors.predict(X_test))))"
      ]
    },
    {
      "cell_type": "markdown",
      "source": [
        "SVM scores"
      ],
      "metadata": {
        "id": "7Me3Qp7NPKGz"
      }
    },
    {
      "cell_type": "code",
      "execution_count": null,
      "metadata": {
        "id": "4e3a48fc-d107-4038-a862-e1a44245273e",
        "outputId": "aecbca2b-dde0-4fbd-efcb-fe253a70f82f"
      },
      "outputs": [
        {
          "name": "stdout",
          "output_type": "stream",
          "text": [
            "Recall Score: 0.94\n",
            "Precision Score: 0.99\n",
            "F1 Score: 0.96\n",
            "Accuracy Score: 0.96\n"
          ]
        }
      ],
      "source": [
        "from sklearn.metrics import recall_score, precision_score, f1_score, accuracy_score\n",
        "print('Recall Score: {:.2f}'.format(recall_score(y_test, svc.predict(X_test))))\n",
        "print('Precision Score: {:.2f}'.format(precision_score(y_test, svc.predict(X_test))))\n",
        "print('F1 Score: {:.2f}'.format(f1_score(y_test, svc.predict(X_test))))\n",
        "print('Accuracy Score: {:.2f}'.format(accuracy_score(y_test, svc.predict(X_test))))"
      ]
    },
    {
      "cell_type": "markdown",
      "source": [
        "Confusion Matrix"
      ],
      "metadata": {
        "id": "g0Hin8NiPNmj"
      }
    },
    {
      "cell_type": "code",
      "execution_count": null,
      "metadata": {
        "id": "93db8eeb-dd3b-4e5c-a948-10e2727814e0",
        "outputId": "0c701d00-c6a3-48ea-a2bb-dada083cbf0f"
      },
      "outputs": [
        {
          "data": {
            "image/png": "[encoded data removed]",
            "text/plain": [
              "<Figure size 1584x864 with 8 Axes>"
            ]
          },
          "metadata": {
            "needs_background": "light"
          },
          "output_type": "display_data"
        }
      ],
      "source": [
        "from sklearn.metrics import confusion_matrix\n",
        "\n",
        "# Logistic Regression fitted using SMOTE technique\n",
        "y_pred_log_reg = log_reg.predict(X_test)\n",
        "\n",
        "# Other models fitted with UnderSampling\n",
        "y_pred_knear = knears_neighbors.predict(X_test)\n",
        "y_pred_svc = svc.predict(X_test)\n",
        "y_pred_tree = tree_clf.predict(X_test)\n",
        "\n",
        "\n",
        "log_reg_cf = confusion_matrix(y_test, y_pred_log_reg)\n",
        "kneighbors_cf = confusion_matrix(y_test, y_pred_knear)\n",
        "svc_cf = confusion_matrix(y_test, y_pred_svc)\n",
        "tree_cf = confusion_matrix(y_test, y_pred_tree)\n",
        "\n",
        "fig, ax = plt.subplots(2, 2,figsize=(22,12))\n",
        "\n",
        "\n",
        "sns.heatmap(log_reg_cf, ax=ax[0][0], annot=True, cmap=plt.cm.copper)\n",
        "ax[0, 0].set_title(\"Logistic Regression \\n Confusion Matrix\", fontsize=14)\n",
        "\n",
        "plt.ylabel('True label')\n",
        "plt.xlabel('Predicted label')\n",
        "\n",
        "sns.heatmap(kneighbors_cf, ax=ax[0][1], annot=True, cmap=plt.cm.copper)\n",
        "ax[0][1].set_title(\"KNearsNeighbors \\n Confusion Matrix\", fontsize=14)\n",
        "\n",
        "plt.ylabel('True label')\n",
        "plt.xlabel('Predicted label')\n",
        "\n",
        "sns.heatmap(svc_cf, ax=ax[1][0], annot=True, cmap=plt.cm.copper)\n",
        "ax[1][0].set_title(\"Suppor Vector Classifier \\n Confusion Matrix\", fontsize=14)\n",
        "\n",
        "plt.ylabel('True label')\n",
        "plt.xlabel('Predicted label')\n",
        "\n",
        "sns.heatmap(tree_cf, ax=ax[1][1], annot=True, cmap=plt.cm.copper)\n",
        "ax[1][1].set_title(\"DecisionTree Classifier \\n Confusion Matrix\", fontsize=14)\n",
        "\n",
        "plt.ylabel('True label')\n",
        "plt.xlabel('Predicted label')\n",
        "\n",
        "\n",
        "plt.show()"
      ]
    },
    {
      "cell_type": "markdown",
      "source": [
        "### **4. Cost sensitive learning**"
      ],
      "metadata": {
        "id": "Y8am82R4j4KJ"
      }
    },
    {
      "cell_type": "markdown",
      "source": [
        "Cost sensitive learning is another commonly used method to handle imbalanced classification problem. This method evaluates the cost associated with misclassifying the observations.\n",
        "\n",
        "This method does not create balanced data distribution. Rather it focusses on the imbalanced learning problem by using cost matrices which describes the cost for misclassification in a particular scenario. Researches have shown that this cost sensitive learning may outperform sampling methods. So, it provides likely alternative to sampling methods."
      ],
      "metadata": {
        "id": "gVvpSMKaj-yI"
      }
    },
    {
      "cell_type": "markdown",
      "source": [
        "### **5. Algorithmic ensemble methods**"
      ],
      "metadata": {
        "id": "w6tYlMMSkElq"
      }
    },
    {
      "cell_type": "markdown",
      "source": [
        "\n",
        "So far we have looked at techniques to provide balanced datasets. In this section, we will take a look at an alternative approach to deal with imbalanced datasets. In this approach, we modify the existing classification algorithms to make them appropriate for imbalanced datasets.\n",
        "\n",
        "In this approach, we construct several two stage classifiers from the original data and then we aggregate their predictions. The main aim of this ensemble technique is to improve the performance of single classifiers.\n",
        "\n",
        "The ensemble technique are of two types - bagging and boosting. These techniques are discussed below:-\n",
        "\n",
        "**Bagging**\n",
        "\n",
        "\n",
        "> Bagging is an abbreviation of Bootstrap Aggregating. In the conventional bagging algorithm, we generate n different bootstrap training samples with replacement. Then we train the algorithm on each bootstrap training samples separately and then aggregate the predictions at the end. Bagging is used to reduce overfitting in order to create strong learners so that we can generate strong predictions. Bagging allows replacement in the bootstrapped training sample.\n",
        "\n",
        "\n",
        "> The machine learning algorithms like logistic regression, decision tree and neural networks are fitted to each bootstrapped training sample. These classifiers are then aggregated to produce a compound classifier. This ensemble technique produces a strong compound classifier since it combines individual classifiers to come up with a strong classifier.\n",
        "\n",
        "\n",
        "**Advantages**\n",
        "\n",
        "\n",
        "*   This technique improves stability and accuracy of machine learning algorithms.\n",
        "\n",
        "*   It reduces variance and overcomes overfitting.\n",
        "*   It improves misclassification rate of the bagged classifier.\n",
        "\n",
        "\n",
        "*   In noisy data situations bagging outperforms boosting.\n",
        "\n",
        "\n",
        "\n",
        "**Disadvantages**\n",
        "\n",
        "\n",
        "*   Bagging works only if the base classifiers are not bad to begin with.\n",
        "*   Bagging with bad classifiers can further degrade the performance.\n",
        "\n",
        "\n",
        "\n",
        "\n",
        "**Boosting**\n",
        "\n",
        "\n",
        "> Boosting is an ensemble technique to combine weak learners to create a strong learner so that we can make accurate predictions. In boosting, we start with a base or weak classifier that is prepared on the training data.\n",
        "\n",
        "\n",
        "\n",
        "> The base learners are weak learners. So, the prediction accuracy is only slightly better than average. A classifier learning algorithm is said to be weak when small changes in data results in big changes in the classification model.\n",
        "\n",
        "\n",
        "\n",
        "\n"
      ],
      "metadata": {
        "id": "UxQxWSbHkQE2"
      }
    },
    {
      "cell_type": "markdown",
      "source": [
        "## **Conclusion**\n",
        "\n",
        "\n"
      ],
      "metadata": {
        "id": "H8NZh_n1lZJI"
      }
    },
    {
      "cell_type": "markdown",
      "source": [
        "Imbalanced data is one of the major problem in the area of machine learning. This problem can be solved by analyzing the dataset in hand. There are several approaches that will help us to handle the problem of imbalanced classes. These are oversampling, undersampling, synthetic data generation (SMOTE), adaptive synthetic technique and ensemble methods. These methods are discussed in the previous sections.\n",
        "\n",
        "Some combination of these approaches will help us to create a better classifier. Simple sampling techniques may handle slight imbalance whereas more advanced methods like ensemble methods are required for extreme imbalances. The most effective technique will vary according to the dataset.\n",
        "\n",
        "So, based on above discussion, we can conclude that there is no one solution to deal with the imbalanced class problem. We should try out multiple methods to select the best-suited sampling techniques for the dataset in hand. The most effective technique will vary according to the characteristics of the dataset.\n"
      ],
      "metadata": {
        "id": "NsYRwQrGljbx"
      }
    },
    {
      "cell_type": "markdown",
      "source": [
        "![accuracy.png](data:image/png;base64,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)"
      ],
      "metadata": {
        "id": "5BWIOvZilulF"
      }
    },
    {
      "cell_type": "markdown",
      "source": [
        "#### **For this dataset oversampling works better than undersampling**\n",
        "\n",
        "However in some cases models of oversampling are overfitting, because they are performing great on training set but performing poorly on testing set. \n",
        "\n",
        "Finally, While working on the imbalanced dataset one should try various methods. And should use scores like ROC AUC, Precision Recall, Confusion Matrix to check the accuracy of model."
      ],
      "metadata": {
        "id": "gxJcGsg2l2uI"
      }
    },
    {
      "cell_type": "markdown",
      "source": [
        "## **References**\n",
        "\n",
        "\n"
      ],
      "metadata": {
        "id": "CU1Qa1FxqVQb"
      }
    },
    {
      "cell_type": "markdown",
      "source": [
        "\n",
        "\n",
        "*   https://imbalanced-learn.org/en/stable/index.html\n",
        "\n",
        "*   https://www.analyticsvidhya.com/blog/2017/03/imbalanced-classification-problem/\n",
        "\n",
        "*   https://www.analyticsvidhya.com/blog/2016/03/practical-guide-deal-imbalanced-classification-problems/\n",
        "\n",
        "*   https://www.jeremyjordan.me/imbalanced-data/\n",
        "*   https://blog.dominodatalab.com/imbalanced-datasets/\n",
        "\n",
        "\n",
        "*   https://blog.dominodatalab.com/imbalanced-datasets/\n",
        "\n",
        "\n",
        "*   https://www.kaggle.com/rafjaa/resampling-strategies-for-imbalanced-datasets\n",
        "\n",
        "\n",
        "*   https://www.svds.com/learning-imbalanced-classes/\n",
        "\n",
        "\n",
        "*   https://github.com/pb111/Data-Preprocessing-Project-Imbalanced-Classes-Problem\n",
        "*   https://machinelearningmastery.com/smote-oversampling-for-imbalanced-classification/\n",
        "\n",
        "\n",
        "*   https://machinelearningmastery.com/random-oversampling-and-undersampling-for-imbalanced-classification/\n",
        "*   https://www.kaggle.com/rafjaa/resampling-strategies-for-imbalanced-datasets\n",
        "\n",
        "\n",
        "\n",
        "\n",
        "\n"
      ],
      "metadata": {
        "id": "FXuHI-KBqag8"
      }
    },
    {
      "cell_type": "markdown",
      "metadata": {
        "id": "mJn_duwGhbpQ"
      },
      "source": [
        "## **Licence**\n"
      ]
    },
    {
      "cell_type": "markdown",
      "metadata": {
        "id": "vv1E6olSO3AP"
      },
      "source": [
        "#### **Copyright>  (Year:-2021) <Name:Sahil Sanjay Gadge>**"
      ]
    },
    {
      "cell_type": "markdown",
      "metadata": {
        "id": "6G01EW3xO3GP"
      },
      "source": [
        "\n",
        "\n",
        "Permission is hereby granted, free of charge, to any person obtaining a copy of this software and associated documentation files (the \"Software\"), to deal in the Software without restriction, including without limitation the rights to use, copy, modify, merge, publish, distribute, sublicense, and/or sell copies of the Software, and to permit persons to whom the Software is furnished to do so, subject to the following conditions:\n",
        "\n",
        "The above copyright notice and this permission notice shall be included in all copies or substantial portions of the Software.\n",
        "\n",
        "THE SOFTWARE IS PROVIDED \"AS IS\", WITHOUT WARRANTY OF ANY KIND, EXPRESS OR IMPLIED, INCLUDING BUT NOT LIMITED TO THE WARRANTIES OF MERCHANTABILITY, FITNESS FOR A PARTICULAR PURPOSE AND NONINFRINGEMENT. IN NO EVENT SHALL THE AUTHORS OR COPYRIGHT HOLDERS BE LIABLE FOR ANY CLAIM, DAMAGES OR OTHER LIABILITY, WHETHER IN AN ACTION OF CONTRACT, TORT OR OTHERWISE, ARISING FROM, OUT OF OR IN CONNECTION WITH THE SOFTWARE OR THE USE OR OTHER DEALINGS IN THE SOFTWARE.\n"
      ]
    }
  ],
  "metadata": {
    "colab": {
      "collapsed_sections": [
        "4lGWId-1TaP0",
        "Df_2jwkkT6kS",
        "oJKWgXFyIdjb",
        "1u6NnPDHIr6c",
        "ragyrcqz5Sg2",
        "OaY6UAFS7wUk",
        "YK9UZY7IxeNz",
        "g-W1w4yci7x3",
        "Y8am82R4j4KJ",
        "w6tYlMMSkElq"
      ],
      "name": "Handling Imbalanced Dataset.ipynb",
      "provenance": [],
      "include_colab_link": true
    },
    "kernelspec": {
      "display_name": "Python 3",
      "name": "python3"
    },
    "language_info": {
      "name": "python"
    }
  },
  "nbformat": 4,
  "nbformat_minor": 0
}